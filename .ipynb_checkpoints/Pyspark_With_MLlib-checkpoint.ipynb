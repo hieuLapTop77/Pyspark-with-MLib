{
 "cells": [
  {
   "cell_type": "markdown",
   "metadata": {
    "id": "oKjbh8AZ9b0_"
   },
   "source": [
    "## Install pyspark"
   ]
  },
  {
   "cell_type": "code",
   "execution_count": 138,
   "metadata": {
    "id": "6QxFjGeEoxVq"
   },
   "outputs": [],
   "source": [
    "from pyspark.sql import SparkSession\n",
    "spark = SparkSession.builder.master(\"local[*]\").getOrCreate()"
   ]
  },
  {
   "cell_type": "markdown",
   "metadata": {
    "id": "AuZl7xc4-YIy"
   },
   "source": [
    "## Import dataset"
   ]
  },
  {
   "cell_type": "code",
   "execution_count": 139,
   "metadata": {
    "id": "1tQE_SE3tESe"
   },
   "outputs": [],
   "source": [
    "import pandas as pd\n",
    "import numpy as np\n",
    "import matplotlib.pyplot as plt"
   ]
  },
  {
   "cell_type": "code",
   "execution_count": 140,
   "metadata": {
    "id": "BGzqga3otEhS"
   },
   "outputs": [],
   "source": [
    "df = pd.read_excel('Data_Train.xlsx')"
   ]
  },
  {
   "cell_type": "code",
   "execution_count": 141,
   "metadata": {
    "colab": {
     "base_uri": "https://localhost:8080/"
    },
    "id": "jVvpegtjhBDQ",
    "outputId": "6cf15954-5268-489e-a239-8e80141a5203"
   },
   "outputs": [
    {
     "name": "stdout",
     "output_type": "stream",
     "text": [
      "<class 'pandas.core.frame.DataFrame'>\n",
      "RangeIndex: 10683 entries, 0 to 10682\n",
      "Data columns (total 11 columns):\n",
      " #   Column           Non-Null Count  Dtype \n",
      "---  ------           --------------  ----- \n",
      " 0   Airline          10683 non-null  object\n",
      " 1   Date_of_Journey  10683 non-null  object\n",
      " 2   Source           10683 non-null  object\n",
      " 3   Destination      10683 non-null  object\n",
      " 4   Route            10682 non-null  object\n",
      " 5   Dep_Time         10683 non-null  object\n",
      " 6   Arrival_Time     10683 non-null  object\n",
      " 7   Duration         10683 non-null  object\n",
      " 8   Total_Stops      10682 non-null  object\n",
      " 9   Additional_Info  10683 non-null  object\n",
      " 10  Price            10683 non-null  int64 \n",
      "dtypes: int64(1), object(10)\n",
      "memory usage: 918.2+ KB\n"
     ]
    }
   ],
   "source": [
    "df.info()"
   ]
  },
  {
   "cell_type": "code",
   "execution_count": 142,
   "metadata": {
    "colab": {
     "base_uri": "https://localhost:8080/",
     "height": 300
    },
    "id": "E7RyWrzphBJF",
    "outputId": "c01646bf-d41a-44ca-aea5-e53a3f6257f7"
   },
   "outputs": [
    {
     "data": {
      "text/html": [
       "\n",
       "  <div id=\"df-d1a30019-99c0-48e5-9a6f-42bba1ce20f5\">\n",
       "    <div class=\"colab-df-container\">\n",
       "      <div>\n",
       "<style scoped>\n",
       "    .dataframe tbody tr th:only-of-type {\n",
       "        vertical-align: middle;\n",
       "    }\n",
       "\n",
       "    .dataframe tbody tr th {\n",
       "        vertical-align: top;\n",
       "    }\n",
       "\n",
       "    .dataframe thead th {\n",
       "        text-align: right;\n",
       "    }\n",
       "</style>\n",
       "<table border=\"1\" class=\"dataframe\">\n",
       "  <thead>\n",
       "    <tr style=\"text-align: right;\">\n",
       "      <th></th>\n",
       "      <th>Price</th>\n",
       "    </tr>\n",
       "  </thead>\n",
       "  <tbody>\n",
       "    <tr>\n",
       "      <th>count</th>\n",
       "      <td>10683.000000</td>\n",
       "    </tr>\n",
       "    <tr>\n",
       "      <th>mean</th>\n",
       "      <td>9087.064121</td>\n",
       "    </tr>\n",
       "    <tr>\n",
       "      <th>std</th>\n",
       "      <td>4611.359167</td>\n",
       "    </tr>\n",
       "    <tr>\n",
       "      <th>min</th>\n",
       "      <td>1759.000000</td>\n",
       "    </tr>\n",
       "    <tr>\n",
       "      <th>25%</th>\n",
       "      <td>5277.000000</td>\n",
       "    </tr>\n",
       "    <tr>\n",
       "      <th>50%</th>\n",
       "      <td>8372.000000</td>\n",
       "    </tr>\n",
       "    <tr>\n",
       "      <th>75%</th>\n",
       "      <td>12373.000000</td>\n",
       "    </tr>\n",
       "    <tr>\n",
       "      <th>max</th>\n",
       "      <td>79512.000000</td>\n",
       "    </tr>\n",
       "  </tbody>\n",
       "</table>\n",
       "</div>\n",
       "      <button class=\"colab-df-convert\" onclick=\"convertToInteractive('df-d1a30019-99c0-48e5-9a6f-42bba1ce20f5')\"\n",
       "              title=\"Convert this dataframe to an interactive table.\"\n",
       "              style=\"display:none;\">\n",
       "        \n",
       "  <svg xmlns=\"http://www.w3.org/2000/svg\" height=\"24px\"viewBox=\"0 0 24 24\"\n",
       "       width=\"24px\">\n",
       "    <path d=\"M0 0h24v24H0V0z\" fill=\"none\"/>\n",
       "    <path d=\"M18.56 5.44l.94 2.06.94-2.06 2.06-.94-2.06-.94-.94-2.06-.94 2.06-2.06.94zm-11 1L8.5 8.5l.94-2.06 2.06-.94-2.06-.94L8.5 2.5l-.94 2.06-2.06.94zm10 10l.94 2.06.94-2.06 2.06-.94-2.06-.94-.94-2.06-.94 2.06-2.06.94z\"/><path d=\"M17.41 7.96l-1.37-1.37c-.4-.4-.92-.59-1.43-.59-.52 0-1.04.2-1.43.59L10.3 9.45l-7.72 7.72c-.78.78-.78 2.05 0 2.83L4 21.41c.39.39.9.59 1.41.59.51 0 1.02-.2 1.41-.59l7.78-7.78 2.81-2.81c.8-.78.8-2.07 0-2.86zM5.41 20L4 18.59l7.72-7.72 1.47 1.35L5.41 20z\"/>\n",
       "  </svg>\n",
       "      </button>\n",
       "      \n",
       "  <style>\n",
       "    .colab-df-container {\n",
       "      display:flex;\n",
       "      flex-wrap:wrap;\n",
       "      gap: 12px;\n",
       "    }\n",
       "\n",
       "    .colab-df-convert {\n",
       "      background-color: #E8F0FE;\n",
       "      border: none;\n",
       "      border-radius: 50%;\n",
       "      cursor: pointer;\n",
       "      display: none;\n",
       "      fill: #1967D2;\n",
       "      height: 32px;\n",
       "      padding: 0 0 0 0;\n",
       "      width: 32px;\n",
       "    }\n",
       "\n",
       "    .colab-df-convert:hover {\n",
       "      background-color: #E2EBFA;\n",
       "      box-shadow: 0px 1px 2px rgba(60, 64, 67, 0.3), 0px 1px 3px 1px rgba(60, 64, 67, 0.15);\n",
       "      fill: #174EA6;\n",
       "    }\n",
       "\n",
       "    [theme=dark] .colab-df-convert {\n",
       "      background-color: #3B4455;\n",
       "      fill: #D2E3FC;\n",
       "    }\n",
       "\n",
       "    [theme=dark] .colab-df-convert:hover {\n",
       "      background-color: #434B5C;\n",
       "      box-shadow: 0px 1px 3px 1px rgba(0, 0, 0, 0.15);\n",
       "      filter: drop-shadow(0px 1px 2px rgba(0, 0, 0, 0.3));\n",
       "      fill: #FFFFFF;\n",
       "    }\n",
       "  </style>\n",
       "\n",
       "      <script>\n",
       "        const buttonEl =\n",
       "          document.querySelector('#df-d1a30019-99c0-48e5-9a6f-42bba1ce20f5 button.colab-df-convert');\n",
       "        buttonEl.style.display =\n",
       "          google.colab.kernel.accessAllowed ? 'block' : 'none';\n",
       "\n",
       "        async function convertToInteractive(key) {\n",
       "          const element = document.querySelector('#df-d1a30019-99c0-48e5-9a6f-42bba1ce20f5');\n",
       "          const dataTable =\n",
       "            await google.colab.kernel.invokeFunction('convertToInteractive',\n",
       "                                                     [key], {});\n",
       "          if (!dataTable) return;\n",
       "\n",
       "          const docLinkHtml = 'Like what you see? Visit the ' +\n",
       "            '<a target=\"_blank\" href=https://colab.research.google.com/notebooks/data_table.ipynb>data table notebook</a>'\n",
       "            + ' to learn more about interactive tables.';\n",
       "          element.innerHTML = '';\n",
       "          dataTable['output_type'] = 'display_data';\n",
       "          await google.colab.output.renderOutput(dataTable, element);\n",
       "          const docLink = document.createElement('div');\n",
       "          docLink.innerHTML = docLinkHtml;\n",
       "          element.appendChild(docLink);\n",
       "        }\n",
       "      </script>\n",
       "    </div>\n",
       "  </div>\n",
       "  "
      ],
      "text/plain": [
       "              Price\n",
       "count  10683.000000\n",
       "mean    9087.064121\n",
       "std     4611.359167\n",
       "min     1759.000000\n",
       "25%     5277.000000\n",
       "50%     8372.000000\n",
       "75%    12373.000000\n",
       "max    79512.000000"
      ]
     },
     "execution_count": 142,
     "metadata": {},
     "output_type": "execute_result"
    }
   ],
   "source": [
    "df.describe()"
   ]
  },
  {
   "cell_type": "code",
   "execution_count": 143,
   "metadata": {
    "id": "DikaLUsxBkOg"
   },
   "outputs": [],
   "source": [
    "def _percentile(series, percent):\n",
    "    if(series.dtype == 'int64' or series.dtype == 'float'):\n",
    "        return np.nanpercentile(series, percent)"
   ]
  },
  {
   "cell_type": "code",
   "execution_count": 144,
   "metadata": {
    "id": "VXgZPcE8CDwX"
   },
   "outputs": [],
   "source": [
    "def _numerical_col_name(data):\n",
    "  col_name = ()\n",
    "  for column in data:\n",
    "    d_type = data[column].dtype\n",
    "    if(d_type != 'datetime64[ns]' and d_type != 'object'):\n",
    "      col_name = col_name + (column,)\n",
    "  return col_name"
   ]
  },
  {
   "cell_type": "code",
   "execution_count": 145,
   "metadata": {
    "id": "CoEPVu3hxNvi"
   },
   "outputs": [],
   "source": [
    "def _overall_stats(data):\n",
    "    column_names = [\"dtype\", \"total_count\", \"count_unique\", \"count_duplicate\", \"count_missing\", \"percent_missing\", \"count_zero\", \"percentile_zero\"]\n",
    "    index = data.columns.values.tolist()\n",
    "    result_df = pd.DataFrame(columns = column_names, index = index)\n",
    "    result_df[\"total_count\"] = len(data)\n",
    "\n",
    "    result_df[\"count_unique\"] = data.nunique()\n",
    "    result_df[\"count_duplicate\"] = result_df[\"total_count\"] - result_df[\"count_unique\"]\n",
    "    result_df[\"count_missing\"] = data.isnull().sum()\n",
    "    result_df[\"count_zero\"] = df[df==0].count()\n",
    "    #result_df[\"count_less_than_zero\"] = data.apply(lambda col: _count_less_than_zero(col))\n",
    "    result_df[\"percentile_zero\"] = (result_df[\"count_zero\"]/result_df[\"total_count\"]).map(\"{:.2%}\".format)\n",
    "    result_df[\"percent_missing\"] = (result_df[\"count_missing\"]/result_df[\"total_count\"]).map(\"{:.2%}\".format)\n",
    "    result_df['dtype'] = df.dtypes\n",
    "    \n",
    "    result_df[result_df.eq(0)] = np.nan\n",
    "    result_df.fillna('-', inplace=True)\n",
    "    \n",
    "    #print(result_df[\"count_duplicate\"].dtype)\n",
    "    result_df['count_duplicate'] = result_df['count_duplicate'].astype('string')\n",
    "    result_df[\"count_duplicate\"] = result_df[\"count_duplicate\"].str.replace(\".0\", \"\", regex=True)\n",
    "    result_df['count_missing'] = result_df['count_missing'].astype('string')\n",
    "    result_df[\"count_missing\"] = result_df[\"count_missing\"].str.replace(\".0\", \"\", regex=True) \n",
    "    result_df['count_zero'] = result_df['count_zero'].astype('string')\n",
    "    result_df[\"count_zero\"] = result_df[\"count_zero\"].str.replace(\".0\", \"\", regex=False)     \n",
    "    result_df['percentile_zero'] = result_df['percentile_zero'].astype('string')\n",
    "    result_df['percentile_zero'] = result_df['percentile_zero'].replace({'0.00%':'-'})\n",
    "    result_df['percent_missing'] = result_df['percent_missing'].astype('string')\n",
    "    result_df['percent_missing'] = result_df['percent_missing'].replace({'0.00%':'-'})\n",
    "    \n",
    "    return result_df"
   ]
  },
  {
   "cell_type": "code",
   "execution_count": 146,
   "metadata": {
    "id": "o0X2uFBIBflG"
   },
   "outputs": [],
   "source": [
    "def _describe(data):\n",
    "  \n",
    "    column_names = [\"count\", \"mean\", \"std\", \"min\", \"1%\", \"5%\", \"10%\", \"15%\", \"20%\", \"25%\", \"30%\", \"35%\", \"40%\", \"45%\", \"50%\", \"55%\", \"60%\", \"65%\", \"70%\", \"75%\", \"80%\", \"85%\", \"90%\", \"95%\", \"99%\", \"max\"]\n",
    "    numerical_col_name = _numerical_col_name(data)\n",
    "    index = data[list(numerical_col_name)].columns.tolist()\n",
    "    result_df = pd.DataFrame(columns = column_names, index = index)\n",
    "\n",
    "    describe = data.describe()\n",
    "    result_df[\"mean\"] = describe.loc['mean'].map('{:.2f}'.format)\n",
    "    result_df[\"count\"] = describe.loc['count'].map('{:.0f}'.format)\n",
    "    result_df[\"std\"] = describe.loc['std'].map('{:.2f}'.format)\n",
    "    result_df[\"min\"] = describe.loc['min'].map('{:.0f}'.format)\n",
    "    result_df[\"max\"] = describe.loc['max'].map('{:.0f}'.format)\n",
    "    result_df[\"1%\"] = data.apply(lambda col: _percentile(col, 1)).map('{:.0f}'.format)\n",
    "    result_df[\"99%\"] = data.apply(lambda col: _percentile(col, 99)).map('{:.0f}'.format)\n",
    "\n",
    "    for percent in range(5, 96, 5):\n",
    "      result_df[str(percent)+\"%\"] = data.apply(lambda col: _percentile(col, percent)).map('{:.0f}'.format)\n",
    "      #result_df[str(percent)+\"%\"] = data.apply(lambda col: _percentile(col, percent))\n",
    "  \n",
    "    return result_df"
   ]
  },
  {
   "cell_type": "code",
   "execution_count": 147,
   "metadata": {
    "id": "6K6I4rTxhBMg"
   },
   "outputs": [],
   "source": [
    "stats = _overall_stats(df)"
   ]
  },
  {
   "cell_type": "code",
   "execution_count": 148,
   "metadata": {
    "colab": {
     "base_uri": "https://localhost:8080/",
     "height": 394
    },
    "id": "rZ5wU_nJxxJe",
    "outputId": "ca116a51-74db-4742-8918-38c313912199"
   },
   "outputs": [
    {
     "data": {
      "text/html": [
       "\n",
       "  <div id=\"df-98e2fe79-853f-4d78-94db-acc91acb95f8\">\n",
       "    <div class=\"colab-df-container\">\n",
       "      <div>\n",
       "<style scoped>\n",
       "    .dataframe tbody tr th:only-of-type {\n",
       "        vertical-align: middle;\n",
       "    }\n",
       "\n",
       "    .dataframe tbody tr th {\n",
       "        vertical-align: top;\n",
       "    }\n",
       "\n",
       "    .dataframe thead th {\n",
       "        text-align: right;\n",
       "    }\n",
       "</style>\n",
       "<table border=\"1\" class=\"dataframe\">\n",
       "  <thead>\n",
       "    <tr style=\"text-align: right;\">\n",
       "      <th></th>\n",
       "      <th>dtype</th>\n",
       "      <th>total_count</th>\n",
       "      <th>count_unique</th>\n",
       "      <th>count_duplicate</th>\n",
       "      <th>count_missing</th>\n",
       "      <th>percent_missing</th>\n",
       "      <th>count_zero</th>\n",
       "      <th>percentile_zero</th>\n",
       "    </tr>\n",
       "  </thead>\n",
       "  <tbody>\n",
       "    <tr>\n",
       "      <th>Airline</th>\n",
       "      <td>object</td>\n",
       "      <td>10683</td>\n",
       "      <td>12</td>\n",
       "      <td>671</td>\n",
       "      <td>-</td>\n",
       "      <td>-</td>\n",
       "      <td>-</td>\n",
       "      <td>-</td>\n",
       "    </tr>\n",
       "    <tr>\n",
       "      <th>Date_of_Journey</th>\n",
       "      <td>object</td>\n",
       "      <td>10683</td>\n",
       "      <td>44</td>\n",
       "      <td>639</td>\n",
       "      <td>-</td>\n",
       "      <td>-</td>\n",
       "      <td>-</td>\n",
       "      <td>-</td>\n",
       "    </tr>\n",
       "    <tr>\n",
       "      <th>Source</th>\n",
       "      <td>object</td>\n",
       "      <td>10683</td>\n",
       "      <td>5</td>\n",
       "      <td>678</td>\n",
       "      <td>-</td>\n",
       "      <td>-</td>\n",
       "      <td>-</td>\n",
       "      <td>-</td>\n",
       "    </tr>\n",
       "    <tr>\n",
       "      <th>Destination</th>\n",
       "      <td>object</td>\n",
       "      <td>10683</td>\n",
       "      <td>6</td>\n",
       "      <td>677</td>\n",
       "      <td>-</td>\n",
       "      <td>-</td>\n",
       "      <td>-</td>\n",
       "      <td>-</td>\n",
       "    </tr>\n",
       "    <tr>\n",
       "      <th>Route</th>\n",
       "      <td>object</td>\n",
       "      <td>10683</td>\n",
       "      <td>128</td>\n",
       "      <td>555</td>\n",
       "      <td>1</td>\n",
       "      <td>0.01%</td>\n",
       "      <td>-</td>\n",
       "      <td>-</td>\n",
       "    </tr>\n",
       "    <tr>\n",
       "      <th>Dep_Time</th>\n",
       "      <td>object</td>\n",
       "      <td>10683</td>\n",
       "      <td>222</td>\n",
       "      <td>461</td>\n",
       "      <td>-</td>\n",
       "      <td>-</td>\n",
       "      <td>-</td>\n",
       "      <td>-</td>\n",
       "    </tr>\n",
       "    <tr>\n",
       "      <th>Arrival_Time</th>\n",
       "      <td>object</td>\n",
       "      <td>10683</td>\n",
       "      <td>1343</td>\n",
       "      <td>93</td>\n",
       "      <td>-</td>\n",
       "      <td>-</td>\n",
       "      <td>-</td>\n",
       "      <td>-</td>\n",
       "    </tr>\n",
       "    <tr>\n",
       "      <th>Duration</th>\n",
       "      <td>object</td>\n",
       "      <td>10683</td>\n",
       "      <td>368</td>\n",
       "      <td>315</td>\n",
       "      <td>-</td>\n",
       "      <td>-</td>\n",
       "      <td>-</td>\n",
       "      <td>-</td>\n",
       "    </tr>\n",
       "    <tr>\n",
       "      <th>Total_Stops</th>\n",
       "      <td>object</td>\n",
       "      <td>10683</td>\n",
       "      <td>5</td>\n",
       "      <td>678</td>\n",
       "      <td>1</td>\n",
       "      <td>0.01%</td>\n",
       "      <td>-</td>\n",
       "      <td>-</td>\n",
       "    </tr>\n",
       "    <tr>\n",
       "      <th>Additional_Info</th>\n",
       "      <td>object</td>\n",
       "      <td>10683</td>\n",
       "      <td>10</td>\n",
       "      <td>673</td>\n",
       "      <td>-</td>\n",
       "      <td>-</td>\n",
       "      <td>-</td>\n",
       "      <td>-</td>\n",
       "    </tr>\n",
       "    <tr>\n",
       "      <th>Price</th>\n",
       "      <td>int64</td>\n",
       "      <td>10683</td>\n",
       "      <td>1870</td>\n",
       "      <td>8813</td>\n",
       "      <td>-</td>\n",
       "      <td>-</td>\n",
       "      <td>-</td>\n",
       "      <td>-</td>\n",
       "    </tr>\n",
       "  </tbody>\n",
       "</table>\n",
       "</div>\n",
       "      <button class=\"colab-df-convert\" onclick=\"convertToInteractive('df-98e2fe79-853f-4d78-94db-acc91acb95f8')\"\n",
       "              title=\"Convert this dataframe to an interactive table.\"\n",
       "              style=\"display:none;\">\n",
       "        \n",
       "  <svg xmlns=\"http://www.w3.org/2000/svg\" height=\"24px\"viewBox=\"0 0 24 24\"\n",
       "       width=\"24px\">\n",
       "    <path d=\"M0 0h24v24H0V0z\" fill=\"none\"/>\n",
       "    <path d=\"M18.56 5.44l.94 2.06.94-2.06 2.06-.94-2.06-.94-.94-2.06-.94 2.06-2.06.94zm-11 1L8.5 8.5l.94-2.06 2.06-.94-2.06-.94L8.5 2.5l-.94 2.06-2.06.94zm10 10l.94 2.06.94-2.06 2.06-.94-2.06-.94-.94-2.06-.94 2.06-2.06.94z\"/><path d=\"M17.41 7.96l-1.37-1.37c-.4-.4-.92-.59-1.43-.59-.52 0-1.04.2-1.43.59L10.3 9.45l-7.72 7.72c-.78.78-.78 2.05 0 2.83L4 21.41c.39.39.9.59 1.41.59.51 0 1.02-.2 1.41-.59l7.78-7.78 2.81-2.81c.8-.78.8-2.07 0-2.86zM5.41 20L4 18.59l7.72-7.72 1.47 1.35L5.41 20z\"/>\n",
       "  </svg>\n",
       "      </button>\n",
       "      \n",
       "  <style>\n",
       "    .colab-df-container {\n",
       "      display:flex;\n",
       "      flex-wrap:wrap;\n",
       "      gap: 12px;\n",
       "    }\n",
       "\n",
       "    .colab-df-convert {\n",
       "      background-color: #E8F0FE;\n",
       "      border: none;\n",
       "      border-radius: 50%;\n",
       "      cursor: pointer;\n",
       "      display: none;\n",
       "      fill: #1967D2;\n",
       "      height: 32px;\n",
       "      padding: 0 0 0 0;\n",
       "      width: 32px;\n",
       "    }\n",
       "\n",
       "    .colab-df-convert:hover {\n",
       "      background-color: #E2EBFA;\n",
       "      box-shadow: 0px 1px 2px rgba(60, 64, 67, 0.3), 0px 1px 3px 1px rgba(60, 64, 67, 0.15);\n",
       "      fill: #174EA6;\n",
       "    }\n",
       "\n",
       "    [theme=dark] .colab-df-convert {\n",
       "      background-color: #3B4455;\n",
       "      fill: #D2E3FC;\n",
       "    }\n",
       "\n",
       "    [theme=dark] .colab-df-convert:hover {\n",
       "      background-color: #434B5C;\n",
       "      box-shadow: 0px 1px 3px 1px rgba(0, 0, 0, 0.15);\n",
       "      filter: drop-shadow(0px 1px 2px rgba(0, 0, 0, 0.3));\n",
       "      fill: #FFFFFF;\n",
       "    }\n",
       "  </style>\n",
       "\n",
       "      <script>\n",
       "        const buttonEl =\n",
       "          document.querySelector('#df-98e2fe79-853f-4d78-94db-acc91acb95f8 button.colab-df-convert');\n",
       "        buttonEl.style.display =\n",
       "          google.colab.kernel.accessAllowed ? 'block' : 'none';\n",
       "\n",
       "        async function convertToInteractive(key) {\n",
       "          const element = document.querySelector('#df-98e2fe79-853f-4d78-94db-acc91acb95f8');\n",
       "          const dataTable =\n",
       "            await google.colab.kernel.invokeFunction('convertToInteractive',\n",
       "                                                     [key], {});\n",
       "          if (!dataTable) return;\n",
       "\n",
       "          const docLinkHtml = 'Like what you see? Visit the ' +\n",
       "            '<a target=\"_blank\" href=https://colab.research.google.com/notebooks/data_table.ipynb>data table notebook</a>'\n",
       "            + ' to learn more about interactive tables.';\n",
       "          element.innerHTML = '';\n",
       "          dataTable['output_type'] = 'display_data';\n",
       "          await google.colab.output.renderOutput(dataTable, element);\n",
       "          const docLink = document.createElement('div');\n",
       "          docLink.innerHTML = docLinkHtml;\n",
       "          element.appendChild(docLink);\n",
       "        }\n",
       "      </script>\n",
       "    </div>\n",
       "  </div>\n",
       "  "
      ],
      "text/plain": [
       "                  dtype  total_count  count_unique count_duplicate  \\\n",
       "Airline          object        10683            12             671   \n",
       "Date_of_Journey  object        10683            44             639   \n",
       "Source           object        10683             5             678   \n",
       "Destination      object        10683             6             677   \n",
       "Route            object        10683           128             555   \n",
       "Dep_Time         object        10683           222             461   \n",
       "Arrival_Time     object        10683          1343              93   \n",
       "Duration         object        10683           368             315   \n",
       "Total_Stops      object        10683             5             678   \n",
       "Additional_Info  object        10683            10             673   \n",
       "Price             int64        10683          1870            8813   \n",
       "\n",
       "                count_missing percent_missing count_zero percentile_zero  \n",
       "Airline                     -               -          -               -  \n",
       "Date_of_Journey             -               -          -               -  \n",
       "Source                      -               -          -               -  \n",
       "Destination                 -               -          -               -  \n",
       "Route                       1           0.01%          -               -  \n",
       "Dep_Time                    -               -          -               -  \n",
       "Arrival_Time                -               -          -               -  \n",
       "Duration                    -               -          -               -  \n",
       "Total_Stops                 1           0.01%          -               -  \n",
       "Additional_Info             -               -          -               -  \n",
       "Price                       -               -          -               -  "
      ]
     },
     "execution_count": 148,
     "metadata": {},
     "output_type": "execute_result"
    }
   ],
   "source": [
    "stats"
   ]
  },
  {
   "cell_type": "code",
   "execution_count": 149,
   "metadata": {
    "colab": {
     "base_uri": "https://localhost:8080/",
     "height": 865
    },
    "id": "QirNpgyxBD0V",
    "outputId": "e540fdac-2cb4-48ca-8fa1-75df7e3a6948"
   },
   "outputs": [
    {
     "data": {
      "text/html": [
       "\n",
       "  <div id=\"df-fe9e496f-55d0-4433-87fd-e868c2f5facf\">\n",
       "    <div class=\"colab-df-container\">\n",
       "      <div>\n",
       "<style scoped>\n",
       "    .dataframe tbody tr th:only-of-type {\n",
       "        vertical-align: middle;\n",
       "    }\n",
       "\n",
       "    .dataframe tbody tr th {\n",
       "        vertical-align: top;\n",
       "    }\n",
       "\n",
       "    .dataframe thead th {\n",
       "        text-align: right;\n",
       "    }\n",
       "</style>\n",
       "<table border=\"1\" class=\"dataframe\">\n",
       "  <thead>\n",
       "    <tr style=\"text-align: right;\">\n",
       "      <th></th>\n",
       "      <th>Price</th>\n",
       "    </tr>\n",
       "  </thead>\n",
       "  <tbody>\n",
       "    <tr>\n",
       "      <th>count</th>\n",
       "      <td>10683</td>\n",
       "    </tr>\n",
       "    <tr>\n",
       "      <th>mean</th>\n",
       "      <td>9087.06</td>\n",
       "    </tr>\n",
       "    <tr>\n",
       "      <th>std</th>\n",
       "      <td>4611.36</td>\n",
       "    </tr>\n",
       "    <tr>\n",
       "      <th>min</th>\n",
       "      <td>1759</td>\n",
       "    </tr>\n",
       "    <tr>\n",
       "      <th>1%</th>\n",
       "      <td>2227</td>\n",
       "    </tr>\n",
       "    <tr>\n",
       "      <th>5%</th>\n",
       "      <td>3543</td>\n",
       "    </tr>\n",
       "    <tr>\n",
       "      <th>10%</th>\n",
       "      <td>3943</td>\n",
       "    </tr>\n",
       "    <tr>\n",
       "      <th>15%</th>\n",
       "      <td>4423</td>\n",
       "    </tr>\n",
       "    <tr>\n",
       "      <th>20%</th>\n",
       "      <td>4823</td>\n",
       "    </tr>\n",
       "    <tr>\n",
       "      <th>25%</th>\n",
       "      <td>5277</td>\n",
       "    </tr>\n",
       "    <tr>\n",
       "      <th>30%</th>\n",
       "      <td>6038</td>\n",
       "    </tr>\n",
       "    <tr>\n",
       "      <th>35%</th>\n",
       "      <td>6540</td>\n",
       "    </tr>\n",
       "    <tr>\n",
       "      <th>40%</th>\n",
       "      <td>7189</td>\n",
       "    </tr>\n",
       "    <tr>\n",
       "      <th>45%</th>\n",
       "      <td>7670</td>\n",
       "    </tr>\n",
       "    <tr>\n",
       "      <th>50%</th>\n",
       "      <td>8372</td>\n",
       "    </tr>\n",
       "    <tr>\n",
       "      <th>55%</th>\n",
       "      <td>9211</td>\n",
       "    </tr>\n",
       "    <tr>\n",
       "      <th>60%</th>\n",
       "      <td>10203</td>\n",
       "    </tr>\n",
       "    <tr>\n",
       "      <th>65%</th>\n",
       "      <td>10697</td>\n",
       "    </tr>\n",
       "    <tr>\n",
       "      <th>70%</th>\n",
       "      <td>11281</td>\n",
       "    </tr>\n",
       "    <tr>\n",
       "      <th>75%</th>\n",
       "      <td>12373</td>\n",
       "    </tr>\n",
       "    <tr>\n",
       "      <th>80%</th>\n",
       "      <td>13042</td>\n",
       "    </tr>\n",
       "    <tr>\n",
       "      <th>85%</th>\n",
       "      <td>13817</td>\n",
       "    </tr>\n",
       "    <tr>\n",
       "      <th>90%</th>\n",
       "      <td>14714</td>\n",
       "    </tr>\n",
       "    <tr>\n",
       "      <th>95%</th>\n",
       "      <td>15764</td>\n",
       "    </tr>\n",
       "    <tr>\n",
       "      <th>99%</th>\n",
       "      <td>22270</td>\n",
       "    </tr>\n",
       "    <tr>\n",
       "      <th>max</th>\n",
       "      <td>79512</td>\n",
       "    </tr>\n",
       "  </tbody>\n",
       "</table>\n",
       "</div>\n",
       "      <button class=\"colab-df-convert\" onclick=\"convertToInteractive('df-fe9e496f-55d0-4433-87fd-e868c2f5facf')\"\n",
       "              title=\"Convert this dataframe to an interactive table.\"\n",
       "              style=\"display:none;\">\n",
       "        \n",
       "  <svg xmlns=\"http://www.w3.org/2000/svg\" height=\"24px\"viewBox=\"0 0 24 24\"\n",
       "       width=\"24px\">\n",
       "    <path d=\"M0 0h24v24H0V0z\" fill=\"none\"/>\n",
       "    <path d=\"M18.56 5.44l.94 2.06.94-2.06 2.06-.94-2.06-.94-.94-2.06-.94 2.06-2.06.94zm-11 1L8.5 8.5l.94-2.06 2.06-.94-2.06-.94L8.5 2.5l-.94 2.06-2.06.94zm10 10l.94 2.06.94-2.06 2.06-.94-2.06-.94-.94-2.06-.94 2.06-2.06.94z\"/><path d=\"M17.41 7.96l-1.37-1.37c-.4-.4-.92-.59-1.43-.59-.52 0-1.04.2-1.43.59L10.3 9.45l-7.72 7.72c-.78.78-.78 2.05 0 2.83L4 21.41c.39.39.9.59 1.41.59.51 0 1.02-.2 1.41-.59l7.78-7.78 2.81-2.81c.8-.78.8-2.07 0-2.86zM5.41 20L4 18.59l7.72-7.72 1.47 1.35L5.41 20z\"/>\n",
       "  </svg>\n",
       "      </button>\n",
       "      \n",
       "  <style>\n",
       "    .colab-df-container {\n",
       "      display:flex;\n",
       "      flex-wrap:wrap;\n",
       "      gap: 12px;\n",
       "    }\n",
       "\n",
       "    .colab-df-convert {\n",
       "      background-color: #E8F0FE;\n",
       "      border: none;\n",
       "      border-radius: 50%;\n",
       "      cursor: pointer;\n",
       "      display: none;\n",
       "      fill: #1967D2;\n",
       "      height: 32px;\n",
       "      padding: 0 0 0 0;\n",
       "      width: 32px;\n",
       "    }\n",
       "\n",
       "    .colab-df-convert:hover {\n",
       "      background-color: #E2EBFA;\n",
       "      box-shadow: 0px 1px 2px rgba(60, 64, 67, 0.3), 0px 1px 3px 1px rgba(60, 64, 67, 0.15);\n",
       "      fill: #174EA6;\n",
       "    }\n",
       "\n",
       "    [theme=dark] .colab-df-convert {\n",
       "      background-color: #3B4455;\n",
       "      fill: #D2E3FC;\n",
       "    }\n",
       "\n",
       "    [theme=dark] .colab-df-convert:hover {\n",
       "      background-color: #434B5C;\n",
       "      box-shadow: 0px 1px 3px 1px rgba(0, 0, 0, 0.15);\n",
       "      filter: drop-shadow(0px 1px 2px rgba(0, 0, 0, 0.3));\n",
       "      fill: #FFFFFF;\n",
       "    }\n",
       "  </style>\n",
       "\n",
       "      <script>\n",
       "        const buttonEl =\n",
       "          document.querySelector('#df-fe9e496f-55d0-4433-87fd-e868c2f5facf button.colab-df-convert');\n",
       "        buttonEl.style.display =\n",
       "          google.colab.kernel.accessAllowed ? 'block' : 'none';\n",
       "\n",
       "        async function convertToInteractive(key) {\n",
       "          const element = document.querySelector('#df-fe9e496f-55d0-4433-87fd-e868c2f5facf');\n",
       "          const dataTable =\n",
       "            await google.colab.kernel.invokeFunction('convertToInteractive',\n",
       "                                                     [key], {});\n",
       "          if (!dataTable) return;\n",
       "\n",
       "          const docLinkHtml = 'Like what you see? Visit the ' +\n",
       "            '<a target=\"_blank\" href=https://colab.research.google.com/notebooks/data_table.ipynb>data table notebook</a>'\n",
       "            + ' to learn more about interactive tables.';\n",
       "          element.innerHTML = '';\n",
       "          dataTable['output_type'] = 'display_data';\n",
       "          await google.colab.output.renderOutput(dataTable, element);\n",
       "          const docLink = document.createElement('div');\n",
       "          docLink.innerHTML = docLinkHtml;\n",
       "          element.appendChild(docLink);\n",
       "        }\n",
       "      </script>\n",
       "    </div>\n",
       "  </div>\n",
       "  "
      ],
      "text/plain": [
       "         Price\n",
       "count    10683\n",
       "mean   9087.06\n",
       "std    4611.36\n",
       "min       1759\n",
       "1%        2227\n",
       "5%        3543\n",
       "10%       3943\n",
       "15%       4423\n",
       "20%       4823\n",
       "25%       5277\n",
       "30%       6038\n",
       "35%       6540\n",
       "40%       7189\n",
       "45%       7670\n",
       "50%       8372\n",
       "55%       9211\n",
       "60%      10203\n",
       "65%      10697\n",
       "70%      11281\n",
       "75%      12373\n",
       "80%      13042\n",
       "85%      13817\n",
       "90%      14714\n",
       "95%      15764\n",
       "99%      22270\n",
       "max      79512"
      ]
     },
     "execution_count": 149,
     "metadata": {},
     "output_type": "execute_result"
    }
   ],
   "source": [
    "_describe(df).T"
   ]
  },
  {
   "cell_type": "code",
   "execution_count": 150,
   "metadata": {
    "id": "ZE8YMUDwtElc"
   },
   "outputs": [],
   "source": [
    "from pyspark.sql.types import *\n",
    "df_schema = StructType([StructField('Airline', StringType(), True),StructField('Date_of_Journey', StringType(), True),\n",
    "                       StructField('Source', StringType(), True), StructField('Destination', StringType(), True),\n",
    "                       StructField('Route', StringType(), True),StructField('Dep_Time', StringType(), True),\n",
    "                       StructField('Arrival_Time', StringType(), True),StructField('Duration', StringType(), True),\n",
    "                       StructField('Total_Stops', StringType(), True),StructField('Additional_Info', StringType(), True),\n",
    "                       StructField('Price', IntegerType(), True)])\n",
    "data = spark.createDataFrame(df,schema=df_schema)"
   ]
  },
  {
   "cell_type": "code",
   "execution_count": 151,
   "metadata": {
    "colab": {
     "base_uri": "https://localhost:8080/"
    },
    "id": "E4alCrsatEpH",
    "outputId": "d4bdbb91-cb16-438d-f94d-2039558a7c00"
   },
   "outputs": [
    {
     "name": "stdout",
     "output_type": "stream",
     "text": [
      "root\n",
      " |-- Airline: string (nullable = true)\n",
      " |-- Date_of_Journey: string (nullable = true)\n",
      " |-- Source: string (nullable = true)\n",
      " |-- Destination: string (nullable = true)\n",
      " |-- Route: string (nullable = true)\n",
      " |-- Dep_Time: string (nullable = true)\n",
      " |-- Arrival_Time: string (nullable = true)\n",
      " |-- Duration: string (nullable = true)\n",
      " |-- Total_Stops: string (nullable = true)\n",
      " |-- Additional_Info: string (nullable = true)\n",
      " |-- Price: integer (nullable = true)\n",
      "\n"
     ]
    }
   ],
   "source": [
    "data.printSchema()"
   ]
  },
  {
   "cell_type": "code",
   "execution_count": 152,
   "metadata": {
    "colab": {
     "base_uri": "https://localhost:8080/"
    },
    "id": "cbqbU-5MtEr4",
    "outputId": "5e7ced5b-8db0-406d-e25a-d942414ca0de"
   },
   "outputs": [
    {
     "data": {
      "text/plain": [
       "pyspark.sql.dataframe.DataFrame"
      ]
     },
     "execution_count": 152,
     "metadata": {},
     "output_type": "execute_result"
    }
   ],
   "source": [
    "type(data)"
   ]
  },
  {
   "cell_type": "code",
   "execution_count": 153,
   "metadata": {
    "colab": {
     "base_uri": "https://localhost:8080/"
    },
    "id": "jXOsGwO2tEu7",
    "outputId": "137ebbdf-ce87-476e-adac-31b73518432d"
   },
   "outputs": [
    {
     "name": "stdout",
     "output_type": "stream",
     "text": [
      "+-----------------+---------------+--------+-----------+--------------------+--------+------------+--------+-----------+--------------------+-----+\n",
      "|          Airline|Date_of_Journey|  Source|Destination|               Route|Dep_Time|Arrival_Time|Duration|Total_Stops|     Additional_Info|Price|\n",
      "+-----------------+---------------+--------+-----------+--------------------+--------+------------+--------+-----------+--------------------+-----+\n",
      "|           IndiGo|     24/03/2019|Banglore|  New Delhi|           BLR → DEL|   22:20|01:10 22 Mar|  2h 50m|   non-stop|             No info| 3897|\n",
      "|        Air India|      1/05/2019| Kolkata|   Banglore|CCU → IXR → BBI →...|   05:50|       13:15|  7h 25m|    2 stops|             No info| 7662|\n",
      "|      Jet Airways|      9/06/2019|   Delhi|     Cochin|DEL → LKO → BOM →...|   09:25|04:25 10 Jun|     19h|    2 stops|             No info|13882|\n",
      "|           IndiGo|     12/05/2019| Kolkata|   Banglore|     CCU → NAG → BLR|   18:05|       23:30|  5h 25m|     1 stop|             No info| 6218|\n",
      "|           IndiGo|     01/03/2019|Banglore|  New Delhi|     BLR → NAG → DEL|   16:50|       21:35|  4h 45m|     1 stop|             No info|13302|\n",
      "|         SpiceJet|     24/06/2019| Kolkata|   Banglore|           CCU → BLR|   09:00|       11:25|  2h 25m|   non-stop|             No info| 3873|\n",
      "|      Jet Airways|     12/03/2019|Banglore|  New Delhi|     BLR → BOM → DEL|   18:55|10:25 13 Mar| 15h 30m|     1 stop|In-flight meal no...|11087|\n",
      "|      Jet Airways|     01/03/2019|Banglore|  New Delhi|     BLR → BOM → DEL|   08:00|05:05 02 Mar|  21h 5m|     1 stop|             No info|22270|\n",
      "|      Jet Airways|     12/03/2019|Banglore|  New Delhi|     BLR → BOM → DEL|   08:55|10:25 13 Mar| 25h 30m|     1 stop|In-flight meal no...|11087|\n",
      "|Multiple carriers|     27/05/2019|   Delhi|     Cochin|     DEL → BOM → COK|   11:25|       19:15|  7h 50m|     1 stop|             No info| 8625|\n",
      "|        Air India|      1/06/2019|   Delhi|     Cochin|     DEL → BLR → COK|   09:45|       23:00| 13h 15m|     1 stop|             No info| 8907|\n",
      "|           IndiGo|     18/04/2019| Kolkata|   Banglore|           CCU → BLR|   20:20|       22:55|  2h 35m|   non-stop|             No info| 4174|\n",
      "|        Air India|     24/06/2019| Chennai|    Kolkata|           MAA → CCU|   11:40|       13:55|  2h 15m|   non-stop|             No info| 4667|\n",
      "|      Jet Airways|      9/05/2019| Kolkata|   Banglore|     CCU → BOM → BLR|   21:10|09:20 10 May| 12h 10m|     1 stop|In-flight meal no...| 9663|\n",
      "|           IndiGo|     24/04/2019| Kolkata|   Banglore|           CCU → BLR|   17:15|       19:50|  2h 35m|   non-stop|             No info| 4804|\n",
      "|        Air India|      3/03/2019|   Delhi|     Cochin|DEL → AMD → BOM →...|   16:40|19:15 04 Mar| 26h 35m|    2 stops|             No info|14011|\n",
      "|         SpiceJet|     15/04/2019|   Delhi|     Cochin|     DEL → PNQ → COK|   08:45|       13:15|  4h 30m|     1 stop|             No info| 5830|\n",
      "|      Jet Airways|     12/06/2019|   Delhi|     Cochin|     DEL → BOM → COK|   14:00|12:35 13 Jun| 22h 35m|     1 stop|In-flight meal no...|10262|\n",
      "|        Air India|     12/06/2019|   Delhi|     Cochin|DEL → CCU → BOM →...|   20:15|19:15 13 Jun|     23h|    2 stops|             No info|13381|\n",
      "|      Jet Airways|     27/05/2019|   Delhi|     Cochin|     DEL → BOM → COK|   16:00|12:35 28 May| 20h 35m|     1 stop|In-flight meal no...|12898|\n",
      "+-----------------+---------------+--------+-----------+--------------------+--------+------------+--------+-----------+--------------------+-----+\n",
      "only showing top 20 rows\n",
      "\n"
     ]
    }
   ],
   "source": [
    "data.show()"
   ]
  },
  {
   "cell_type": "code",
   "execution_count": 154,
   "metadata": {
    "colab": {
     "base_uri": "https://localhost:8080/",
     "height": 206
    },
    "id": "znvBuQ2a3SMF",
    "outputId": "4ae69734-c6fc-485f-ea0d-95f054a6df3c"
   },
   "outputs": [
    {
     "data": {
      "text/html": [
       "\n",
       "  <div id=\"df-21c6ee65-fd59-4f01-8472-e6e9747c7fe6\">\n",
       "    <div class=\"colab-df-container\">\n",
       "      <div>\n",
       "<style scoped>\n",
       "    .dataframe tbody tr th:only-of-type {\n",
       "        vertical-align: middle;\n",
       "    }\n",
       "\n",
       "    .dataframe tbody tr th {\n",
       "        vertical-align: top;\n",
       "    }\n",
       "\n",
       "    .dataframe thead th {\n",
       "        text-align: right;\n",
       "    }\n",
       "</style>\n",
       "<table border=\"1\" class=\"dataframe\">\n",
       "  <thead>\n",
       "    <tr style=\"text-align: right;\">\n",
       "      <th></th>\n",
       "      <th>Airline</th>\n",
       "      <th>Date_of_Journey</th>\n",
       "      <th>Source</th>\n",
       "      <th>Destination</th>\n",
       "      <th>Route</th>\n",
       "      <th>Dep_Time</th>\n",
       "      <th>Arrival_Time</th>\n",
       "      <th>Duration</th>\n",
       "      <th>Total_Stops</th>\n",
       "      <th>Additional_Info</th>\n",
       "      <th>Price</th>\n",
       "    </tr>\n",
       "  </thead>\n",
       "  <tbody>\n",
       "    <tr>\n",
       "      <th>0</th>\n",
       "      <td>IndiGo</td>\n",
       "      <td>24/03/2019</td>\n",
       "      <td>Banglore</td>\n",
       "      <td>New Delhi</td>\n",
       "      <td>BLR → DEL</td>\n",
       "      <td>22:20</td>\n",
       "      <td>01:10 22 Mar</td>\n",
       "      <td>2h 50m</td>\n",
       "      <td>non-stop</td>\n",
       "      <td>No info</td>\n",
       "      <td>3897</td>\n",
       "    </tr>\n",
       "    <tr>\n",
       "      <th>1</th>\n",
       "      <td>Air India</td>\n",
       "      <td>1/05/2019</td>\n",
       "      <td>Kolkata</td>\n",
       "      <td>Banglore</td>\n",
       "      <td>CCU → IXR → BBI → BLR</td>\n",
       "      <td>05:50</td>\n",
       "      <td>13:15</td>\n",
       "      <td>7h 25m</td>\n",
       "      <td>2 stops</td>\n",
       "      <td>No info</td>\n",
       "      <td>7662</td>\n",
       "    </tr>\n",
       "    <tr>\n",
       "      <th>2</th>\n",
       "      <td>Jet Airways</td>\n",
       "      <td>9/06/2019</td>\n",
       "      <td>Delhi</td>\n",
       "      <td>Cochin</td>\n",
       "      <td>DEL → LKO → BOM → COK</td>\n",
       "      <td>09:25</td>\n",
       "      <td>04:25 10 Jun</td>\n",
       "      <td>19h</td>\n",
       "      <td>2 stops</td>\n",
       "      <td>No info</td>\n",
       "      <td>13882</td>\n",
       "    </tr>\n",
       "    <tr>\n",
       "      <th>3</th>\n",
       "      <td>IndiGo</td>\n",
       "      <td>12/05/2019</td>\n",
       "      <td>Kolkata</td>\n",
       "      <td>Banglore</td>\n",
       "      <td>CCU → NAG → BLR</td>\n",
       "      <td>18:05</td>\n",
       "      <td>23:30</td>\n",
       "      <td>5h 25m</td>\n",
       "      <td>1 stop</td>\n",
       "      <td>No info</td>\n",
       "      <td>6218</td>\n",
       "    </tr>\n",
       "    <tr>\n",
       "      <th>4</th>\n",
       "      <td>IndiGo</td>\n",
       "      <td>01/03/2019</td>\n",
       "      <td>Banglore</td>\n",
       "      <td>New Delhi</td>\n",
       "      <td>BLR → NAG → DEL</td>\n",
       "      <td>16:50</td>\n",
       "      <td>21:35</td>\n",
       "      <td>4h 45m</td>\n",
       "      <td>1 stop</td>\n",
       "      <td>No info</td>\n",
       "      <td>13302</td>\n",
       "    </tr>\n",
       "  </tbody>\n",
       "</table>\n",
       "</div>\n",
       "      <button class=\"colab-df-convert\" onclick=\"convertToInteractive('df-21c6ee65-fd59-4f01-8472-e6e9747c7fe6')\"\n",
       "              title=\"Convert this dataframe to an interactive table.\"\n",
       "              style=\"display:none;\">\n",
       "        \n",
       "  <svg xmlns=\"http://www.w3.org/2000/svg\" height=\"24px\"viewBox=\"0 0 24 24\"\n",
       "       width=\"24px\">\n",
       "    <path d=\"M0 0h24v24H0V0z\" fill=\"none\"/>\n",
       "    <path d=\"M18.56 5.44l.94 2.06.94-2.06 2.06-.94-2.06-.94-.94-2.06-.94 2.06-2.06.94zm-11 1L8.5 8.5l.94-2.06 2.06-.94-2.06-.94L8.5 2.5l-.94 2.06-2.06.94zm10 10l.94 2.06.94-2.06 2.06-.94-2.06-.94-.94-2.06-.94 2.06-2.06.94z\"/><path d=\"M17.41 7.96l-1.37-1.37c-.4-.4-.92-.59-1.43-.59-.52 0-1.04.2-1.43.59L10.3 9.45l-7.72 7.72c-.78.78-.78 2.05 0 2.83L4 21.41c.39.39.9.59 1.41.59.51 0 1.02-.2 1.41-.59l7.78-7.78 2.81-2.81c.8-.78.8-2.07 0-2.86zM5.41 20L4 18.59l7.72-7.72 1.47 1.35L5.41 20z\"/>\n",
       "  </svg>\n",
       "      </button>\n",
       "      \n",
       "  <style>\n",
       "    .colab-df-container {\n",
       "      display:flex;\n",
       "      flex-wrap:wrap;\n",
       "      gap: 12px;\n",
       "    }\n",
       "\n",
       "    .colab-df-convert {\n",
       "      background-color: #E8F0FE;\n",
       "      border: none;\n",
       "      border-radius: 50%;\n",
       "      cursor: pointer;\n",
       "      display: none;\n",
       "      fill: #1967D2;\n",
       "      height: 32px;\n",
       "      padding: 0 0 0 0;\n",
       "      width: 32px;\n",
       "    }\n",
       "\n",
       "    .colab-df-convert:hover {\n",
       "      background-color: #E2EBFA;\n",
       "      box-shadow: 0px 1px 2px rgba(60, 64, 67, 0.3), 0px 1px 3px 1px rgba(60, 64, 67, 0.15);\n",
       "      fill: #174EA6;\n",
       "    }\n",
       "\n",
       "    [theme=dark] .colab-df-convert {\n",
       "      background-color: #3B4455;\n",
       "      fill: #D2E3FC;\n",
       "    }\n",
       "\n",
       "    [theme=dark] .colab-df-convert:hover {\n",
       "      background-color: #434B5C;\n",
       "      box-shadow: 0px 1px 3px 1px rgba(0, 0, 0, 0.15);\n",
       "      filter: drop-shadow(0px 1px 2px rgba(0, 0, 0, 0.3));\n",
       "      fill: #FFFFFF;\n",
       "    }\n",
       "  </style>\n",
       "\n",
       "      <script>\n",
       "        const buttonEl =\n",
       "          document.querySelector('#df-21c6ee65-fd59-4f01-8472-e6e9747c7fe6 button.colab-df-convert');\n",
       "        buttonEl.style.display =\n",
       "          google.colab.kernel.accessAllowed ? 'block' : 'none';\n",
       "\n",
       "        async function convertToInteractive(key) {\n",
       "          const element = document.querySelector('#df-21c6ee65-fd59-4f01-8472-e6e9747c7fe6');\n",
       "          const dataTable =\n",
       "            await google.colab.kernel.invokeFunction('convertToInteractive',\n",
       "                                                     [key], {});\n",
       "          if (!dataTable) return;\n",
       "\n",
       "          const docLinkHtml = 'Like what you see? Visit the ' +\n",
       "            '<a target=\"_blank\" href=https://colab.research.google.com/notebooks/data_table.ipynb>data table notebook</a>'\n",
       "            + ' to learn more about interactive tables.';\n",
       "          element.innerHTML = '';\n",
       "          dataTable['output_type'] = 'display_data';\n",
       "          await google.colab.output.renderOutput(dataTable, element);\n",
       "          const docLink = document.createElement('div');\n",
       "          docLink.innerHTML = docLinkHtml;\n",
       "          element.appendChild(docLink);\n",
       "        }\n",
       "      </script>\n",
       "    </div>\n",
       "  </div>\n",
       "  "
      ],
      "text/plain": [
       "       Airline Date_of_Journey    Source Destination                  Route  \\\n",
       "0       IndiGo      24/03/2019  Banglore   New Delhi              BLR → DEL   \n",
       "1    Air India       1/05/2019   Kolkata    Banglore  CCU → IXR → BBI → BLR   \n",
       "2  Jet Airways       9/06/2019     Delhi      Cochin  DEL → LKO → BOM → COK   \n",
       "3       IndiGo      12/05/2019   Kolkata    Banglore        CCU → NAG → BLR   \n",
       "4       IndiGo      01/03/2019  Banglore   New Delhi        BLR → NAG → DEL   \n",
       "\n",
       "  Dep_Time  Arrival_Time Duration Total_Stops Additional_Info  Price  \n",
       "0    22:20  01:10 22 Mar   2h 50m    non-stop         No info   3897  \n",
       "1    05:50         13:15   7h 25m     2 stops         No info   7662  \n",
       "2    09:25  04:25 10 Jun      19h     2 stops         No info  13882  \n",
       "3    18:05         23:30   5h 25m      1 stop         No info   6218  \n",
       "4    16:50         21:35   4h 45m      1 stop         No info  13302  "
      ]
     },
     "execution_count": 154,
     "metadata": {},
     "output_type": "execute_result"
    }
   ],
   "source": [
    "data.toPandas().head(5)"
   ]
  },
  {
   "cell_type": "code",
   "execution_count": 155,
   "metadata": {
    "colab": {
     "base_uri": "https://localhost:8080/"
    },
    "id": "98udnYGhgyKF",
    "outputId": "08f6ead6-57d5-43bd-8d61-78aafb77aab4"
   },
   "outputs": [
    {
     "data": {
      "text/plain": [
       "[Row(Airline='IndiGo', Date_of_Journey='24/03/2019', Source='Banglore', Destination='New Delhi', Route='BLR → DEL', Dep_Time='22:20', Arrival_Time='01:10 22 Mar', Duration='2h 50m', Total_Stops='non-stop', Additional_Info='No info', Price=3897),\n",
       " Row(Airline='Air India', Date_of_Journey='1/05/2019', Source='Kolkata', Destination='Banglore', Route='CCU → IXR → BBI → BLR', Dep_Time='05:50', Arrival_Time='13:15', Duration='7h 25m', Total_Stops='2 stops', Additional_Info='No info', Price=7662),\n",
       " Row(Airline='Jet Airways', Date_of_Journey='9/06/2019', Source='Delhi', Destination='Cochin', Route='DEL → LKO → BOM → COK', Dep_Time='09:25', Arrival_Time='04:25 10 Jun', Duration='19h', Total_Stops='2 stops', Additional_Info='No info', Price=13882),\n",
       " Row(Airline='IndiGo', Date_of_Journey='12/05/2019', Source='Kolkata', Destination='Banglore', Route='CCU → NAG → BLR', Dep_Time='18:05', Arrival_Time='23:30', Duration='5h 25m', Total_Stops='1 stop', Additional_Info='No info', Price=6218),\n",
       " Row(Airline='IndiGo', Date_of_Journey='01/03/2019', Source='Banglore', Destination='New Delhi', Route='BLR → NAG → DEL', Dep_Time='16:50', Arrival_Time='21:35', Duration='4h 45m', Total_Stops='1 stop', Additional_Info='No info', Price=13302)]"
      ]
     },
     "execution_count": 155,
     "metadata": {},
     "output_type": "execute_result"
    }
   ],
   "source": [
    "data.head(5)"
   ]
  },
  {
   "cell_type": "markdown",
   "metadata": {
    "id": "ttbClDVH-tqM"
   },
   "source": [
    "#### Check null values and remove them"
   ]
  },
  {
   "cell_type": "code",
   "execution_count": 156,
   "metadata": {
    "id": "lep_3LpjtExh"
   },
   "outputs": [],
   "source": [
    "from pyspark.sql.functions import col,isnan, when, count"
   ]
  },
  {
   "cell_type": "code",
   "execution_count": 157,
   "metadata": {
    "colab": {
     "base_uri": "https://localhost:8080/"
    },
    "id": "w17WvUT3tE0Y",
    "outputId": "eaecca83-7b7c-47f9-936b-9d804109e1f8"
   },
   "outputs": [
    {
     "name": "stdout",
     "output_type": "stream",
     "text": [
      "+-------+---------------+------+-----------+-----+--------+------------+--------+-----------+---------------+-----+\n",
      "|Airline|Date_of_Journey|Source|Destination|Route|Dep_Time|Arrival_Time|Duration|Total_Stops|Additional_Info|Price|\n",
      "+-------+---------------+------+-----------+-----+--------+------------+--------+-----------+---------------+-----+\n",
      "|      0|              0|     0|          0|    1|       0|           0|       0|          1|              0|    0|\n",
      "+-------+---------------+------+-----------+-----+--------+------------+--------+-----------+---------------+-----+\n",
      "\n"
     ]
    }
   ],
   "source": [
    "data.select([count(when((col(c) == '') |isnan(c) | col(c).isNull(), c)).alias(c) for c in data.columns]).show()"
   ]
  },
  {
   "cell_type": "code",
   "execution_count": 158,
   "metadata": {
    "colab": {
     "base_uri": "https://localhost:8080/"
    },
    "id": "s8NllKwSf-Tf",
    "outputId": "6ebbb13f-8054-4bdb-ad60-015d7d9c1622"
   },
   "outputs": [
    {
     "name": "stdout",
     "output_type": "stream",
     "text": [
      "+-------+--------------------+---------------+--------+-----------+---------------+--------+------------+--------+-----------+---------------+-----------------+\n",
      "|summary|             Airline|Date_of_Journey|  Source|Destination|          Route|Dep_Time|Arrival_Time|Duration|Total_Stops|Additional_Info|            Price|\n",
      "+-------+--------------------+---------------+--------+-----------+---------------+--------+------------+--------+-----------+---------------+-----------------+\n",
      "|  count|               10683|          10683|   10683|      10683|          10683|   10683|       10683|   10683|      10683|          10683|            10683|\n",
      "|   mean|                null|           null|    null|       null|            NaN|    null|        null|    null|        NaN|           null|9087.064120565385|\n",
      "| stddev|                null|           null|    null|       null|           null|    null|        null|    null|       null|           null|4611.359166817118|\n",
      "|    min|            Air Asia|     01/03/2019|Banglore|   Banglore|BLR → AMD → DEL|   00:20|00:05 02 Apr|     10h|     1 stop| 1 Long layover|             1759|\n",
      "|    25%|                null|           null|    null|       null|            NaN|    null|        null|    null|        NaN|           null|             5277|\n",
      "|    50%|                null|           null|    null|       null|            NaN|    null|        null|    null|        NaN|           null|             8372|\n",
      "|    75%|                null|           null|    null|       null|            NaN|    null|        null|    null|        NaN|           null|            12373|\n",
      "|    max|Vistara Premium e...|      9/06/2019|  Mumbai|  New Delhi|            NaN|   23:55|23:55 02 Mar|   9h 5m|   non-stop| Red-eye flight|            79512|\n",
      "+-------+--------------------+---------------+--------+-----------+---------------+--------+------------+--------+-----------+---------------+-----------------+\n",
      "\n"
     ]
    }
   ],
   "source": [
    "data.summary().show()"
   ]
  },
  {
   "cell_type": "code",
   "execution_count": 159,
   "metadata": {
    "colab": {
     "base_uri": "https://localhost:8080/"
    },
    "id": "_HN3Ea5rgr9w",
    "outputId": "0ef3bd7e-0481-4239-c1f2-628657ab175a"
   },
   "outputs": [
    {
     "name": "stdout",
     "output_type": "stream",
     "text": [
      "<class 'pandas.core.frame.DataFrame'>\n",
      "RangeIndex: 10683 entries, 0 to 10682\n",
      "Data columns (total 11 columns):\n",
      " #   Column           Non-Null Count  Dtype \n",
      "---  ------           --------------  ----- \n",
      " 0   Airline          10683 non-null  object\n",
      " 1   Date_of_Journey  10683 non-null  object\n",
      " 2   Source           10683 non-null  object\n",
      " 3   Destination      10683 non-null  object\n",
      " 4   Route            10683 non-null  object\n",
      " 5   Dep_Time         10683 non-null  object\n",
      " 6   Arrival_Time     10683 non-null  object\n",
      " 7   Duration         10683 non-null  object\n",
      " 8   Total_Stops      10683 non-null  object\n",
      " 9   Additional_Info  10683 non-null  object\n",
      " 10  Price            10683 non-null  int32 \n",
      "dtypes: int32(1), object(10)\n",
      "memory usage: 876.5+ KB\n"
     ]
    }
   ],
   "source": [
    "data.toPandas().info()"
   ]
  },
  {
   "cell_type": "code",
   "execution_count": 160,
   "metadata": {
    "colab": {
     "base_uri": "https://localhost:8080/"
    },
    "id": "sOlS3aortE3Z",
    "outputId": "881fe17f-7fa1-48cf-c37f-813d2944f478"
   },
   "outputs": [
    {
     "name": "stdout",
     "output_type": "stream",
     "text": [
      "+---------+---------------+------+-----------+-----+--------+------------+--------+-----------+---------------+-----+\n",
      "|  Airline|Date_of_Journey|Source|Destination|Route|Dep_Time|Arrival_Time|Duration|Total_Stops|Additional_Info|Price|\n",
      "+---------+---------------+------+-----------+-----+--------+------------+--------+-----------+---------------+-----+\n",
      "|Air India|      6/05/2019| Delhi|     Cochin|  NaN|   09:45|09:25 07 May| 23h 40m|        NaN|        No info| 7480|\n",
      "+---------+---------------+------+-----------+-----+--------+------------+--------+-----------+---------------+-----+\n",
      "\n"
     ]
    }
   ],
   "source": [
    "data.filter(\"Route == 'NaN'\").show()"
   ]
  },
  {
   "cell_type": "code",
   "execution_count": 161,
   "metadata": {
    "colab": {
     "base_uri": "https://localhost:8080/"
    },
    "id": "7jtP_sqmtE51",
    "outputId": "0da75fd2-955f-4d0e-cd65-534e1827da37"
   },
   "outputs": [
    {
     "name": "stdout",
     "output_type": "stream",
     "text": [
      "+-----------------+---------------+--------+-----------+--------------------+--------+------------+--------+-----------+--------------------+-----+\n",
      "|          Airline|Date_of_Journey|  Source|Destination|               Route|Dep_Time|Arrival_Time|Duration|Total_Stops|     Additional_Info|Price|\n",
      "+-----------------+---------------+--------+-----------+--------------------+--------+------------+--------+-----------+--------------------+-----+\n",
      "|           IndiGo|     24/03/2019|Banglore|  New Delhi|           BLR → DEL|   22:20|01:10 22 Mar|  2h 50m|   non-stop|             No info| 3897|\n",
      "|        Air India|      1/05/2019| Kolkata|   Banglore|CCU → IXR → BBI →...|   05:50|       13:15|  7h 25m|    2 stops|             No info| 7662|\n",
      "|      Jet Airways|      9/06/2019|   Delhi|     Cochin|DEL → LKO → BOM →...|   09:25|04:25 10 Jun|     19h|    2 stops|             No info|13882|\n",
      "|           IndiGo|     12/05/2019| Kolkata|   Banglore|     CCU → NAG → BLR|   18:05|       23:30|  5h 25m|     1 stop|             No info| 6218|\n",
      "|           IndiGo|     01/03/2019|Banglore|  New Delhi|     BLR → NAG → DEL|   16:50|       21:35|  4h 45m|     1 stop|             No info|13302|\n",
      "|         SpiceJet|     24/06/2019| Kolkata|   Banglore|           CCU → BLR|   09:00|       11:25|  2h 25m|   non-stop|             No info| 3873|\n",
      "|      Jet Airways|     12/03/2019|Banglore|  New Delhi|     BLR → BOM → DEL|   18:55|10:25 13 Mar| 15h 30m|     1 stop|In-flight meal no...|11087|\n",
      "|      Jet Airways|     01/03/2019|Banglore|  New Delhi|     BLR → BOM → DEL|   08:00|05:05 02 Mar|  21h 5m|     1 stop|             No info|22270|\n",
      "|      Jet Airways|     12/03/2019|Banglore|  New Delhi|     BLR → BOM → DEL|   08:55|10:25 13 Mar| 25h 30m|     1 stop|In-flight meal no...|11087|\n",
      "|Multiple carriers|     27/05/2019|   Delhi|     Cochin|     DEL → BOM → COK|   11:25|       19:15|  7h 50m|     1 stop|             No info| 8625|\n",
      "|        Air India|      1/06/2019|   Delhi|     Cochin|     DEL → BLR → COK|   09:45|       23:00| 13h 15m|     1 stop|             No info| 8907|\n",
      "|           IndiGo|     18/04/2019| Kolkata|   Banglore|           CCU → BLR|   20:20|       22:55|  2h 35m|   non-stop|             No info| 4174|\n",
      "|        Air India|     24/06/2019| Chennai|    Kolkata|           MAA → CCU|   11:40|       13:55|  2h 15m|   non-stop|             No info| 4667|\n",
      "|      Jet Airways|      9/05/2019| Kolkata|   Banglore|     CCU → BOM → BLR|   21:10|09:20 10 May| 12h 10m|     1 stop|In-flight meal no...| 9663|\n",
      "|           IndiGo|     24/04/2019| Kolkata|   Banglore|           CCU → BLR|   17:15|       19:50|  2h 35m|   non-stop|             No info| 4804|\n",
      "|        Air India|      3/03/2019|   Delhi|     Cochin|DEL → AMD → BOM →...|   16:40|19:15 04 Mar| 26h 35m|    2 stops|             No info|14011|\n",
      "|         SpiceJet|     15/04/2019|   Delhi|     Cochin|     DEL → PNQ → COK|   08:45|       13:15|  4h 30m|     1 stop|             No info| 5830|\n",
      "|      Jet Airways|     12/06/2019|   Delhi|     Cochin|     DEL → BOM → COK|   14:00|12:35 13 Jun| 22h 35m|     1 stop|In-flight meal no...|10262|\n",
      "|        Air India|     12/06/2019|   Delhi|     Cochin|DEL → CCU → BOM →...|   20:15|19:15 13 Jun|     23h|    2 stops|             No info|13381|\n",
      "|      Jet Airways|     27/05/2019|   Delhi|     Cochin|     DEL → BOM → COK|   16:00|12:35 28 May| 20h 35m|     1 stop|In-flight meal no...|12898|\n",
      "+-----------------+---------------+--------+-----------+--------------------+--------+------------+--------+-----------+--------------------+-----+\n",
      "only showing top 20 rows\n",
      "\n"
     ]
    }
   ],
   "source": [
    "df = data.where(data.Route != 'NaN').where(data.Total_Stops !='NaN')\n",
    "df.show()"
   ]
  },
  {
   "cell_type": "code",
   "execution_count": 162,
   "metadata": {
    "colab": {
     "base_uri": "https://localhost:8080/"
    },
    "id": "AWmYteyUtE8f",
    "outputId": "0e46f133-ffad-4681-fc63-a4a46bb69cbb"
   },
   "outputs": [
    {
     "data": {
      "text/plain": [
       "10682"
      ]
     },
     "execution_count": 162,
     "metadata": {},
     "output_type": "execute_result"
    }
   ],
   "source": [
    "df.count()"
   ]
  },
  {
   "cell_type": "code",
   "execution_count": 163,
   "metadata": {
    "colab": {
     "base_uri": "https://localhost:8080/"
    },
    "id": "n9BB_VK2tE_G",
    "outputId": "cc6bb433-f272-46f0-c5ae-094f5b7ac204"
   },
   "outputs": [
    {
     "name": "stdout",
     "output_type": "stream",
     "text": [
      "+-------+---------------+------+-----------+-----+--------+------------+--------+-----------+---------------+-----+\n",
      "|Airline|Date_of_Journey|Source|Destination|Route|Dep_Time|Arrival_Time|Duration|Total_Stops|Additional_Info|Price|\n",
      "+-------+---------------+------+-----------+-----+--------+------------+--------+-----------+---------------+-----+\n",
      "|      0|              0|     0|          0|    0|       0|           0|       0|          0|              0|    0|\n",
      "+-------+---------------+------+-----------+-----+--------+------------+--------+-----------+---------------+-----+\n",
      "\n"
     ]
    }
   ],
   "source": [
    "df.select([count(when((col(c) == '') |isnan(c) | col(c).isNull(), c)).alias(c) for c in df.columns]).show()"
   ]
  },
  {
   "cell_type": "code",
   "execution_count": 164,
   "metadata": {
    "colab": {
     "base_uri": "https://localhost:8080/"
    },
    "id": "OoocoybQtFB1",
    "outputId": "249471e3-a8c3-48ff-d1a2-aa509043b6ab"
   },
   "outputs": [
    {
     "name": "stdout",
     "output_type": "stream",
     "text": [
      "+-------+---------------+------+-----------+-----+--------+------------+--------+-----------+---------------+-----+\n",
      "|Airline|Date_of_Journey|Source|Destination|Route|Dep_Time|Arrival_Time|Duration|Total_Stops|Additional_Info|Price|\n",
      "+-------+---------------+------+-----------+-----+--------+------------+--------+-----------+---------------+-----+\n",
      "+-------+---------------+------+-----------+-----+--------+------------+--------+-----------+---------------+-----+\n",
      "\n"
     ]
    }
   ],
   "source": [
    "# Air India 6/05/2019 Delhi Cochin ' ' 09:45 09:25 07 May 23h 40m ' ' No info 7480 \n",
    "df.filter(\"Route == 'NaN'\").show()\n"
   ]
  },
  {
   "cell_type": "code",
   "execution_count": 165,
   "metadata": {
    "id": "9r1ze98gtFEk"
   },
   "outputs": [],
   "source": [
    "from pyspark.sql.functions import *\n",
    "from datetime import datetime\n",
    "import pyspark.sql.functions as sqlFunc\n",
    "import pyspark.sql.types as types\n",
    "from pyspark.sql import functions as F\n",
    "from pyspark.sql.functions import to_timestamp"
   ]
  },
  {
   "cell_type": "markdown",
   "metadata": {
    "id": "hpwch6KqzZzw"
   },
   "source": [
    "### Handle Dep_Time column\n",
    "\n",
    "\n",
    "\n",
    "\n",
    "\n",
    "\n"
   ]
  },
  {
   "cell_type": "code",
   "execution_count": 166,
   "metadata": {
    "colab": {
     "base_uri": "https://localhost:8080/"
    },
    "id": "7iRc_BVntFKm",
    "outputId": "a84b2b97-3713-4048-b4eb-f3423b8622df"
   },
   "outputs": [
    {
     "data": {
      "text/plain": [
       "DataFrame[key: string, value: string]"
      ]
     },
     "execution_count": 166,
     "metadata": {},
     "output_type": "execute_result"
    }
   ],
   "source": [
    "spark.sql(\"set spark.sql.legacy.timeParserPolicy=LEGACY\")\n",
    "#df.select('Date_of_Journey', from_unixtime(unix_timestamp('Date_of_Journey', 'dd/MM/yyyy')))"
   ]
  },
  {
   "cell_type": "code",
   "execution_count": 167,
   "metadata": {
    "colab": {
     "base_uri": "https://localhost:8080/"
    },
    "id": "hIjxDfoFtFPg",
    "outputId": "b255e676-0878-4bea-b1fc-34ff28d19a46"
   },
   "outputs": [
    {
     "name": "stdout",
     "output_type": "stream",
     "text": [
      "+--------+\n",
      "|Dep_Time|\n",
      "+--------+\n",
      "|   22:20|\n",
      "|   05:50|\n",
      "|   09:25|\n",
      "|   18:05|\n",
      "|   16:50|\n",
      "|   09:00|\n",
      "|   18:55|\n",
      "|   08:00|\n",
      "|   08:55|\n",
      "|   11:25|\n",
      "|   09:45|\n",
      "|   20:20|\n",
      "|   11:40|\n",
      "|   21:10|\n",
      "|   17:15|\n",
      "|   16:40|\n",
      "|   08:45|\n",
      "|   14:00|\n",
      "|   20:15|\n",
      "|   16:00|\n",
      "+--------+\n",
      "only showing top 20 rows\n",
      "\n"
     ]
    }
   ],
   "source": [
    "df.select('Dep_Time').show()"
   ]
  },
  {
   "cell_type": "code",
   "execution_count": 168,
   "metadata": {
    "id": "pdM8xfUttFU2"
   },
   "outputs": [],
   "source": [
    "# Split Hour from Dep_Time column\n",
    "df = df.withColumn('Dep_Hour',hour('Dep_Time'))"
   ]
  },
  {
   "cell_type": "code",
   "execution_count": 169,
   "metadata": {
    "id": "PYzKK1bxtFaS"
   },
   "outputs": [],
   "source": [
    "# Split minute from Dep_Time column\n",
    "df = df.withColumn('Dep_Minute',minute('Dep_Time'))"
   ]
  },
  {
   "cell_type": "code",
   "execution_count": 170,
   "metadata": {
    "colab": {
     "base_uri": "https://localhost:8080/"
    },
    "id": "7dAgsKoptFXq",
    "outputId": "c33a442b-8d6d-477d-fd12-d5ca8b8dcd46"
   },
   "outputs": [
    {
     "name": "stdout",
     "output_type": "stream",
     "text": [
      "+--------+----------+\n",
      "|Dep_Hour|Dep_Minute|\n",
      "+--------+----------+\n",
      "|      22|        20|\n",
      "|       5|        50|\n",
      "|       9|        25|\n",
      "|      18|         5|\n",
      "|      16|        50|\n",
      "|       9|         0|\n",
      "|      18|        55|\n",
      "|       8|         0|\n",
      "|       8|        55|\n",
      "|      11|        25|\n",
      "|       9|        45|\n",
      "|      20|        20|\n",
      "|      11|        40|\n",
      "|      21|        10|\n",
      "|      17|        15|\n",
      "|      16|        40|\n",
      "|       8|        45|\n",
      "|      14|         0|\n",
      "|      20|        15|\n",
      "|      16|         0|\n",
      "+--------+----------+\n",
      "only showing top 20 rows\n",
      "\n"
     ]
    }
   ],
   "source": [
    "df.select('Dep_Hour','Dep_Minute').show()"
   ]
  },
  {
   "cell_type": "code",
   "execution_count": 171,
   "metadata": {
    "id": "Y0WCWbN6t2cO"
   },
   "outputs": [],
   "source": [
    "df = df.drop('Dep_Time')"
   ]
  },
  {
   "cell_type": "markdown",
   "metadata": {
    "id": "DKUUBQ3JzTN4"
   },
   "source": [
    "### Handle Date_of_Journey column"
   ]
  },
  {
   "cell_type": "code",
   "execution_count": 172,
   "metadata": {
    "id": "Ed6QYCTDt2kF"
   },
   "outputs": [],
   "source": [
    "# convert data to date\n",
    "#df = df.withColumn(\"Date_of_Journey\",to_date(col(\"Date_of_Journey\"),\"dd/MM/yyyy\"))\n",
    "df = df.withColumn('Date_of_Journey',to_timestamp(col('Date_of_Journey'), 'dd/MM/yyyy'))"
   ]
  },
  {
   "cell_type": "code",
   "execution_count": 173,
   "metadata": {
    "id": "xL-YPrNht2ms"
   },
   "outputs": [],
   "source": [
    "# Journey Month\n",
    "df = df.withColumn('Journey_Month',month('Date_of_Journey'))"
   ]
  },
  {
   "cell_type": "code",
   "execution_count": 174,
   "metadata": {
    "id": "Onx2X4ONt2pS"
   },
   "outputs": [],
   "source": [
    "# Journey Day\n",
    "df = df.withColumn('Journey_Day', dayofmonth('Date_of_Journey'))"
   ]
  },
  {
   "cell_type": "code",
   "execution_count": 175,
   "metadata": {
    "id": "QTSUPqyft2r6"
   },
   "outputs": [],
   "source": [
    "df = df.drop('Date_of_Journey')"
   ]
  },
  {
   "cell_type": "code",
   "execution_count": 176,
   "metadata": {
    "colab": {
     "base_uri": "https://localhost:8080/"
    },
    "id": "irWXXMsct2uX",
    "outputId": "c5262798-d799-4804-c613-384e6c254385"
   },
   "outputs": [
    {
     "name": "stdout",
     "output_type": "stream",
     "text": [
      "+-----------+-------------+\n",
      "|Journey_Day|Journey_Month|\n",
      "+-----------+-------------+\n",
      "|         24|            3|\n",
      "|          1|            5|\n",
      "|          9|            6|\n",
      "|         12|            5|\n",
      "|          1|            3|\n",
      "|         24|            6|\n",
      "|         12|            3|\n",
      "|          1|            3|\n",
      "|         12|            3|\n",
      "|         27|            5|\n",
      "|          1|            6|\n",
      "|         18|            4|\n",
      "|         24|            6|\n",
      "|          9|            5|\n",
      "|         24|            4|\n",
      "|          3|            3|\n",
      "|         15|            4|\n",
      "|         12|            6|\n",
      "|         12|            6|\n",
      "|         27|            5|\n",
      "+-----------+-------------+\n",
      "only showing top 20 rows\n",
      "\n"
     ]
    }
   ],
   "source": [
    "df.select('Journey_Day','Journey_Month').show()"
   ]
  },
  {
   "cell_type": "code",
   "execution_count": 177,
   "metadata": {
    "colab": {
     "base_uri": "https://localhost:8080/"
    },
    "id": "qrTQtFjjt2w_",
    "outputId": "42a2cb52-e5b1-4e70-c20c-ecadd779e210"
   },
   "outputs": [
    {
     "name": "stdout",
     "output_type": "stream",
     "text": [
      "root\n",
      " |-- Airline: string (nullable = true)\n",
      " |-- Source: string (nullable = true)\n",
      " |-- Destination: string (nullable = true)\n",
      " |-- Route: string (nullable = true)\n",
      " |-- Arrival_Time: string (nullable = true)\n",
      " |-- Duration: string (nullable = true)\n",
      " |-- Total_Stops: string (nullable = true)\n",
      " |-- Additional_Info: string (nullable = true)\n",
      " |-- Price: integer (nullable = true)\n",
      " |-- Dep_Hour: integer (nullable = true)\n",
      " |-- Dep_Minute: integer (nullable = true)\n",
      " |-- Journey_Month: integer (nullable = true)\n",
      " |-- Journey_Day: integer (nullable = true)\n",
      "\n"
     ]
    }
   ],
   "source": [
    "df.printSchema()"
   ]
  },
  {
   "cell_type": "markdown",
   "metadata": {
    "id": "tNFZW0qbzPM0"
   },
   "source": [
    "### Handle Arrival_Time column"
   ]
  },
  {
   "cell_type": "code",
   "execution_count": 178,
   "metadata": {
    "id": "l_9PYLH1t221"
   },
   "outputs": [],
   "source": [
    "df =df.withColumn('Arrival_Time', split(col('Arrival_Time'), ' ').getItem(0))"
   ]
  },
  {
   "cell_type": "code",
   "execution_count": 179,
   "metadata": {
    "colab": {
     "base_uri": "https://localhost:8080/"
    },
    "id": "ioJSQ1Klt257",
    "outputId": "5e61b391-be5f-453e-88a1-750634000b0f"
   },
   "outputs": [
    {
     "name": "stdout",
     "output_type": "stream",
     "text": [
      "+------------+\n",
      "|Arrival_Time|\n",
      "+------------+\n",
      "|       01:10|\n",
      "|       13:15|\n",
      "|       04:25|\n",
      "|       23:30|\n",
      "|       21:35|\n",
      "|       11:25|\n",
      "|       10:25|\n",
      "|       05:05|\n",
      "|       10:25|\n",
      "|       19:15|\n",
      "|       23:00|\n",
      "|       22:55|\n",
      "|       13:55|\n",
      "|       09:20|\n",
      "|       19:50|\n",
      "|       19:15|\n",
      "|       13:15|\n",
      "|       12:35|\n",
      "|       19:15|\n",
      "|       12:35|\n",
      "+------------+\n",
      "only showing top 20 rows\n",
      "\n"
     ]
    }
   ],
   "source": [
    "df.select('Arrival_Time').show()"
   ]
  },
  {
   "cell_type": "code",
   "execution_count": 180,
   "metadata": {
    "id": "p6ipYEoxt28o"
   },
   "outputs": [],
   "source": [
    "df = df.withColumn('Arrival_Hour', hour('Arrival_Time'))"
   ]
  },
  {
   "cell_type": "code",
   "execution_count": 181,
   "metadata": {
    "id": "vLObMjQnt2_T"
   },
   "outputs": [],
   "source": [
    "df = df.withColumn('Arrival_Minute', minute('Arrival_Time'))"
   ]
  },
  {
   "cell_type": "code",
   "execution_count": 182,
   "metadata": {
    "colab": {
     "base_uri": "https://localhost:8080/"
    },
    "id": "KHO5cw80t3CC",
    "outputId": "7444f726-d422-48ab-d250-9e89efc3f556"
   },
   "outputs": [
    {
     "name": "stdout",
     "output_type": "stream",
     "text": [
      "+------------+--------------+\n",
      "|Arrival_Hour|Arrival_Minute|\n",
      "+------------+--------------+\n",
      "|           1|            10|\n",
      "|          13|            15|\n",
      "|           4|            25|\n",
      "|          23|            30|\n",
      "|          21|            35|\n",
      "|          11|            25|\n",
      "|          10|            25|\n",
      "|           5|             5|\n",
      "|          10|            25|\n",
      "|          19|            15|\n",
      "|          23|             0|\n",
      "|          22|            55|\n",
      "|          13|            55|\n",
      "|           9|            20|\n",
      "|          19|            50|\n",
      "|          19|            15|\n",
      "|          13|            15|\n",
      "|          12|            35|\n",
      "|          19|            15|\n",
      "|          12|            35|\n",
      "+------------+--------------+\n",
      "only showing top 20 rows\n",
      "\n"
     ]
    }
   ],
   "source": [
    "df.select('Arrival_Hour','Arrival_Minute').show()"
   ]
  },
  {
   "cell_type": "code",
   "execution_count": 183,
   "metadata": {
    "id": "l9yV79htt3Em"
   },
   "outputs": [],
   "source": [
    "df = df.drop('Arrival_Time')"
   ]
  },
  {
   "cell_type": "markdown",
   "metadata": {
    "id": "9vy9w62TzLZ6"
   },
   "source": [
    "### Handle Duration column"
   ]
  },
  {
   "cell_type": "code",
   "execution_count": 184,
   "metadata": {
    "colab": {
     "base_uri": "https://localhost:8080/"
    },
    "id": "CSi4BU_Wt3MM",
    "outputId": "4022fc78-9504-4a69-938e-1576da039f7c"
   },
   "outputs": [
    {
     "name": "stdout",
     "output_type": "stream",
     "text": [
      "+--------+\n",
      "|Duration|\n",
      "+--------+\n",
      "|  2h 50m|\n",
      "|  7h 25m|\n",
      "|     19h|\n",
      "|  5h 25m|\n",
      "|  4h 45m|\n",
      "|  2h 25m|\n",
      "| 15h 30m|\n",
      "|  21h 5m|\n",
      "| 25h 30m|\n",
      "|  7h 50m|\n",
      "| 13h 15m|\n",
      "|  2h 35m|\n",
      "|  2h 15m|\n",
      "| 12h 10m|\n",
      "|  2h 35m|\n",
      "| 26h 35m|\n",
      "|  4h 30m|\n",
      "| 22h 35m|\n",
      "|     23h|\n",
      "| 20h 35m|\n",
      "+--------+\n",
      "only showing top 20 rows\n",
      "\n"
     ]
    }
   ],
   "source": [
    "df.select('Duration').show()"
   ]
  },
  {
   "cell_type": "code",
   "execution_count": 185,
   "metadata": {
    "id": "FX8a4zUBt3RQ"
   },
   "outputs": [],
   "source": [
    "# Split hour and minute from duration column\n",
    "df = df.withColumn('Duration_Hour', split(df['Duration'], ' ').getItem(0)).withColumn('Duration_Minute', split(df['Duration'],' ').getItem(1))"
   ]
  },
  {
   "cell_type": "code",
   "execution_count": 186,
   "metadata": {
    "colab": {
     "base_uri": "https://localhost:8080/"
    },
    "id": "AJiDw4gvt3T_",
    "outputId": "f3ac30ee-c4c8-4a3b-d4a1-50a7bac66419"
   },
   "outputs": [
    {
     "name": "stdout",
     "output_type": "stream",
     "text": [
      "+-------------+---------------+\n",
      "|Duration_Hour|Duration_Minute|\n",
      "+-------------+---------------+\n",
      "|           2h|            50m|\n",
      "|           7h|            25m|\n",
      "|          19h|           null|\n",
      "|           5h|            25m|\n",
      "|           4h|            45m|\n",
      "|           2h|            25m|\n",
      "|          15h|            30m|\n",
      "|          21h|             5m|\n",
      "|          25h|            30m|\n",
      "|           7h|            50m|\n",
      "|          13h|            15m|\n",
      "|           2h|            35m|\n",
      "|           2h|            15m|\n",
      "|          12h|            10m|\n",
      "|           2h|            35m|\n",
      "|          26h|            35m|\n",
      "|           4h|            30m|\n",
      "|          22h|            35m|\n",
      "|          23h|           null|\n",
      "|          20h|            35m|\n",
      "+-------------+---------------+\n",
      "only showing top 20 rows\n",
      "\n"
     ]
    }
   ],
   "source": [
    "df.select('Duration_Hour',\"Duration_Minute\").show()"
   ]
  },
  {
   "cell_type": "code",
   "execution_count": 187,
   "metadata": {
    "id": "6rexJnAot3ce"
   },
   "outputs": [],
   "source": [
    "# Handle null values in Duration_Hour \n",
    "df = df.withColumn(\"Duration_Hour\", expr(\"CASE WHEN Duration_Hour IS NULL THEN '0h' \" +  \"ELSE Duration_Hour END\"))"
   ]
  },
  {
   "cell_type": "code",
   "execution_count": 188,
   "metadata": {
    "id": "OeQgkhfot3h_"
   },
   "outputs": [],
   "source": [
    "# Handle null values in Duration_Minute\n",
    "df = df.withColumn(\"Duration_Minute\", expr(\"CASE WHEN Duration_Minute IS NULL THEN '0m' \" +  \"ELSE Duration_Minute END\"))"
   ]
  },
  {
   "cell_type": "code",
   "execution_count": 189,
   "metadata": {
    "colab": {
     "base_uri": "https://localhost:8080/"
    },
    "id": "fZGj-HDct3fH",
    "outputId": "56a1ab5d-292e-4d37-d628-e65cffb549fa"
   },
   "outputs": [
    {
     "name": "stdout",
     "output_type": "stream",
     "text": [
      "+-------------+---------------+\n",
      "|Duration_Hour|Duration_Minute|\n",
      "+-------------+---------------+\n",
      "|           2h|            50m|\n",
      "|           7h|            25m|\n",
      "|          19h|             0m|\n",
      "|           5h|            25m|\n",
      "|           4h|            45m|\n",
      "|           2h|            25m|\n",
      "|          15h|            30m|\n",
      "|          21h|             5m|\n",
      "|          25h|            30m|\n",
      "|           7h|            50m|\n",
      "|          13h|            15m|\n",
      "|           2h|            35m|\n",
      "|           2h|            15m|\n",
      "|          12h|            10m|\n",
      "|           2h|            35m|\n",
      "|          26h|            35m|\n",
      "|           4h|            30m|\n",
      "|          22h|            35m|\n",
      "|          23h|             0m|\n",
      "|          20h|            35m|\n",
      "+-------------+---------------+\n",
      "only showing top 20 rows\n",
      "\n"
     ]
    }
   ],
   "source": [
    "df.select('Duration_Hour','Duration_Minute').show()"
   ]
  },
  {
   "cell_type": "code",
   "execution_count": 190,
   "metadata": {
    "id": "FYdI3NKgt3mw"
   },
   "outputs": [],
   "source": [
    "# get values minute \n",
    "df = df.withColumn(\"Duration_Minute\", regexp_extract(\"Duration_Minute\", r'(\\d+)m' , 1 ))"
   ]
  },
  {
   "cell_type": "code",
   "execution_count": 191,
   "metadata": {
    "id": "9QqICFTHt3uk"
   },
   "outputs": [],
   "source": [
    "# get values hour\n",
    "df = df.withColumn(\"Duration_Hour\", regexp_extract(\"Duration_Hour\", r'(\\d+)h' , 1 ))"
   ]
  },
  {
   "cell_type": "code",
   "execution_count": 192,
   "metadata": {
    "colab": {
     "base_uri": "https://localhost:8080/"
    },
    "id": "1AmVe7UOt3pX",
    "outputId": "b36cd6fe-ae53-4f22-fd98-55775ef91e6d"
   },
   "outputs": [
    {
     "name": "stdout",
     "output_type": "stream",
     "text": [
      "+-------------+---------------+\n",
      "|Duration_Hour|Duration_Minute|\n",
      "+-------------+---------------+\n",
      "|            2|             50|\n",
      "|            7|             25|\n",
      "|           19|              0|\n",
      "|            5|             25|\n",
      "|            4|             45|\n",
      "|            2|             25|\n",
      "|           15|             30|\n",
      "|           21|              5|\n",
      "|           25|             30|\n",
      "|            7|             50|\n",
      "|           13|             15|\n",
      "|            2|             35|\n",
      "|            2|             15|\n",
      "|           12|             10|\n",
      "|            2|             35|\n",
      "|           26|             35|\n",
      "|            4|             30|\n",
      "|           22|             35|\n",
      "|           23|              0|\n",
      "|           20|             35|\n",
      "+-------------+---------------+\n",
      "only showing top 20 rows\n",
      "\n"
     ]
    }
   ],
   "source": [
    "df.select('Duration_Hour','Duration_Minute').show()"
   ]
  },
  {
   "cell_type": "code",
   "execution_count": 193,
   "metadata": {
    "id": "b2oYJr9Mt30C"
   },
   "outputs": [],
   "source": [
    "df = df.withColumn('Duration_Hour', df.Duration_Hour.cast(IntegerType()))"
   ]
  },
  {
   "cell_type": "code",
   "execution_count": 194,
   "metadata": {
    "id": "BaPCShM4t325"
   },
   "outputs": [],
   "source": [
    "df = df.withColumn('Duration_Minute', df.Duration_Minute.cast(IntegerType()))"
   ]
  },
  {
   "cell_type": "code",
   "execution_count": 195,
   "metadata": {
    "id": "LckxdDeqt36C"
   },
   "outputs": [],
   "source": [
    "df= df.drop('Duration')"
   ]
  },
  {
   "cell_type": "code",
   "execution_count": 196,
   "metadata": {
    "colab": {
     "base_uri": "https://localhost:8080/"
    },
    "id": "phK5bn0-t39Z",
    "outputId": "ed54e6ce-0140-4c1e-823d-fb6fe58f038b"
   },
   "outputs": [
    {
     "name": "stdout",
     "output_type": "stream",
     "text": [
      "+-----------+-------------+--------+----------+------------+--------------+-------------+---------------+\n",
      "|Journey_Day|Journey_Month|Dep_Hour|Dep_Minute|Arrival_Hour|Arrival_Minute|Duration_Hour|Duration_Minute|\n",
      "+-----------+-------------+--------+----------+------------+--------------+-------------+---------------+\n",
      "|         24|            3|      22|        20|           1|            10|            2|             50|\n",
      "|          1|            5|       5|        50|          13|            15|            7|             25|\n",
      "|          9|            6|       9|        25|           4|            25|           19|              0|\n",
      "|         12|            5|      18|         5|          23|            30|            5|             25|\n",
      "|          1|            3|      16|        50|          21|            35|            4|             45|\n",
      "+-----------+-------------+--------+----------+------------+--------------+-------------+---------------+\n",
      "only showing top 5 rows\n",
      "\n"
     ]
    }
   ],
   "source": [
    "df.select('Journey_Day','Journey_Month','Dep_Hour','Dep_Minute','Arrival_Hour',\n",
    "                       'Arrival_Minute','Duration_Hour','Duration_Minute').show(5)"
   ]
  },
  {
   "cell_type": "markdown",
   "metadata": {
    "id": "NWrsPPmDzDuF"
   },
   "source": [
    "## Handling Categorical Data"
   ]
  },
  {
   "cell_type": "code",
   "execution_count": 197,
   "metadata": {
    "colab": {
     "base_uri": "https://localhost:8080/"
    },
    "id": "xVnlHOeHu-74",
    "outputId": "82c0a10b-cf3c-4303-ef9a-f60830d144a2"
   },
   "outputs": [
    {
     "name": "stdout",
     "output_type": "stream",
     "text": [
      "+-----------------+--------+-----------+--------------------+-----------+--------------------+\n",
      "|          Airline|  Source|Destination|               Route|Total_Stops|     Additional_Info|\n",
      "+-----------------+--------+-----------+--------------------+-----------+--------------------+\n",
      "|           IndiGo|Banglore|  New Delhi|           BLR → DEL|   non-stop|             No info|\n",
      "|        Air India| Kolkata|   Banglore|CCU → IXR → BBI →...|    2 stops|             No info|\n",
      "|      Jet Airways|   Delhi|     Cochin|DEL → LKO → BOM →...|    2 stops|             No info|\n",
      "|           IndiGo| Kolkata|   Banglore|     CCU → NAG → BLR|     1 stop|             No info|\n",
      "|           IndiGo|Banglore|  New Delhi|     BLR → NAG → DEL|     1 stop|             No info|\n",
      "|         SpiceJet| Kolkata|   Banglore|           CCU → BLR|   non-stop|             No info|\n",
      "|      Jet Airways|Banglore|  New Delhi|     BLR → BOM → DEL|     1 stop|In-flight meal no...|\n",
      "|      Jet Airways|Banglore|  New Delhi|     BLR → BOM → DEL|     1 stop|             No info|\n",
      "|      Jet Airways|Banglore|  New Delhi|     BLR → BOM → DEL|     1 stop|In-flight meal no...|\n",
      "|Multiple carriers|   Delhi|     Cochin|     DEL → BOM → COK|     1 stop|             No info|\n",
      "|        Air India|   Delhi|     Cochin|     DEL → BLR → COK|     1 stop|             No info|\n",
      "|           IndiGo| Kolkata|   Banglore|           CCU → BLR|   non-stop|             No info|\n",
      "|        Air India| Chennai|    Kolkata|           MAA → CCU|   non-stop|             No info|\n",
      "|      Jet Airways| Kolkata|   Banglore|     CCU → BOM → BLR|     1 stop|In-flight meal no...|\n",
      "|           IndiGo| Kolkata|   Banglore|           CCU → BLR|   non-stop|             No info|\n",
      "|        Air India|   Delhi|     Cochin|DEL → AMD → BOM →...|    2 stops|             No info|\n",
      "|         SpiceJet|   Delhi|     Cochin|     DEL → PNQ → COK|     1 stop|             No info|\n",
      "|      Jet Airways|   Delhi|     Cochin|     DEL → BOM → COK|     1 stop|In-flight meal no...|\n",
      "|        Air India|   Delhi|     Cochin|DEL → CCU → BOM →...|    2 stops|             No info|\n",
      "|      Jet Airways|   Delhi|     Cochin|     DEL → BOM → COK|     1 stop|In-flight meal no...|\n",
      "+-----------------+--------+-----------+--------------------+-----------+--------------------+\n",
      "only showing top 20 rows\n",
      "\n"
     ]
    }
   ],
   "source": [
    "df.select('Airline', 'Source', 'Destination', 'Route', 'Total_Stops', 'Additional_Info').show()"
   ]
  },
  {
   "cell_type": "markdown",
   "metadata": {
    "id": "fFn38gxKy_8r"
   },
   "source": [
    "#### Handle Airline column"
   ]
  },
  {
   "cell_type": "code",
   "execution_count": 198,
   "metadata": {
    "colab": {
     "base_uri": "https://localhost:8080/"
    },
    "id": "uGtWKnIbu_A-",
    "outputId": "4382726c-cba1-40a3-bee5-13a2296117a5"
   },
   "outputs": [
    {
     "name": "stdout",
     "output_type": "stream",
     "text": [
      "+-----------------------+\n",
      "|count(DISTINCT Airline)|\n",
      "+-----------------------+\n",
      "|                     12|\n",
      "+-----------------------+\n",
      "\n"
     ]
    }
   ],
   "source": [
    "df.select(countDistinct('Airline')).show()"
   ]
  },
  {
   "cell_type": "code",
   "execution_count": 199,
   "metadata": {
    "colab": {
     "base_uri": "https://localhost:8080/"
    },
    "id": "kqKvhBSeu_Dl",
    "outputId": "ac252d64-deaf-4d16-bae3-30ccf075d25f"
   },
   "outputs": [
    {
     "data": {
      "text/plain": [
       "[Row(Airline='Air India'),\n",
       " Row(Airline='SpiceJet'),\n",
       " Row(Airline='GoAir'),\n",
       " Row(Airline='Trujet'),\n",
       " Row(Airline='Jet Airways'),\n",
       " Row(Airline='Multiple carriers Premium economy'),\n",
       " Row(Airline='IndiGo'),\n",
       " Row(Airline='Air Asia'),\n",
       " Row(Airline='Vistara'),\n",
       " Row(Airline='Jet Airways Business'),\n",
       " Row(Airline='Multiple carriers'),\n",
       " Row(Airline='Vistara Premium economy')]"
      ]
     },
     "execution_count": 199,
     "metadata": {},
     "output_type": "execute_result"
    }
   ],
   "source": [
    "df.select('Airline').distinct().collect()"
   ]
  },
  {
   "cell_type": "code",
   "execution_count": 200,
   "metadata": {
    "colab": {
     "base_uri": "https://localhost:8080/"
    },
    "id": "VVorGQLfu_Ga",
    "outputId": "6dec1a56-2fb1-4603-868f-7b3c95b9dbac"
   },
   "outputs": [
    {
     "name": "stdout",
     "output_type": "stream",
     "text": [
      "+--------------------+-----+\n",
      "|             Airline|count|\n",
      "+--------------------+-----+\n",
      "|         Jet Airways| 3849|\n",
      "|              IndiGo| 2053|\n",
      "|           Air India| 1751|\n",
      "|   Multiple carriers| 1196|\n",
      "|            SpiceJet|  818|\n",
      "|             Vistara|  479|\n",
      "|            Air Asia|  319|\n",
      "|               GoAir|  194|\n",
      "|Multiple carriers...|   13|\n",
      "|Jet Airways Business|    6|\n",
      "|Vistara Premium e...|    3|\n",
      "|              Trujet|    1|\n",
      "+--------------------+-----+\n",
      "\n"
     ]
    }
   ],
   "source": [
    "df.groupBy('Airline').count().alias('Count').sort(col('Count').desc()).show()"
   ]
  },
  {
   "cell_type": "code",
   "execution_count": 201,
   "metadata": {
    "id": "v7nDsRfHu_J3"
   },
   "outputs": [],
   "source": [
    "data = df.toPandas()"
   ]
  },
  {
   "cell_type": "code",
   "execution_count": 202,
   "metadata": {
    "colab": {
     "base_uri": "https://localhost:8080/",
     "height": 619
    },
    "id": "PWIXSvT9vZpn",
    "outputId": "87c2e432-24c7-4076-f8b9-873935323d3d"
   },
   "outputs": [
    {
     "data": {
      "image/png": "[encoded data removed]",
      "text/plain": [
       "<Figure size 1080x576 with 1 Axes>"
      ]
     },
     "metadata": {
      "needs_background": "light"
     },
     "output_type": "display_data"
    }
   ],
   "source": [
    "plt.figure(figsize=(15,8))\n",
    "sns.boxplot(y='Price',x='Airline',data=data.sort_values('Price',ascending=False));\n",
    "plt.xticks(rotation = 45);"
   ]
  },
  {
   "cell_type": "code",
   "execution_count": 203,
   "metadata": {
    "colab": {
     "base_uri": "https://localhost:8080/",
     "height": 498
    },
    "id": "aCSL0rtfvZr8",
    "outputId": "cb589953-ae06-4911-949b-11a1841e2b69"
   },
   "outputs": [
    {
     "data": {
      "image/png": "[encoded data removed]",
      "text/plain": [
       "<Figure size 1080x576 with 1 Axes>"
      ]
     },
     "metadata": {
      "needs_background": "light"
     },
     "output_type": "display_data"
    }
   ],
   "source": [
    "plt.figure(figsize=(15,8))\n",
    "sns.boxplot(y='Price',x='Total_Stops',data=data.sort_values('Price',ascending=False));"
   ]
  },
  {
   "cell_type": "code",
   "execution_count": 204,
   "metadata": {
    "id": "d34L1vugvZun"
   },
   "outputs": [],
   "source": [
    "import pyspark.sql.functions as F \n",
    "categ_air = df.select('Airline').distinct().rdd.flatMap(lambda x:x).collect()\n",
    "exprs_air = [F.when(F.col('Airline') == cat,1).otherwise(0).alias(str(cat)+'_Airline') for cat in categ_air]\n",
    "df = df.select(exprs_air + df.columns)"
   ]
  },
  {
   "cell_type": "code",
   "execution_count": 205,
   "metadata": {
    "id": "IvsWYiChvZ2d"
   },
   "outputs": [],
   "source": [
    "test = df.select('Air India_Airline','GoAir_Airline','IndiGo_Airline','Jet Airways_Airline','Jet Airways Business_Airline','Multiple carriers_Airline',\n",
    "                    'Multiple carriers Premium economy_Airline','SpiceJet_Airline','Trujet_Airline','Vistara_Airline','Vistara Premium economy_Airline') # Air Asia"
   ]
  },
  {
   "cell_type": "code",
   "execution_count": 206,
   "metadata": {
    "colab": {
     "base_uri": "https://localhost:8080/",
     "height": 268
    },
    "id": "8GcAVPo2vZ5V",
    "outputId": "99c301aa-d5c7-4191-88ca-16817a16e9d3"
   },
   "outputs": [
    {
     "data": {
      "text/html": [
       "\n",
       "  <div id=\"df-ca8ac78e-2c50-4dfe-b554-d3382a2cbf4e\">\n",
       "    <div class=\"colab-df-container\">\n",
       "      <div>\n",
       "<style scoped>\n",
       "    .dataframe tbody tr th:only-of-type {\n",
       "        vertical-align: middle;\n",
       "    }\n",
       "\n",
       "    .dataframe tbody tr th {\n",
       "        vertical-align: top;\n",
       "    }\n",
       "\n",
       "    .dataframe thead th {\n",
       "        text-align: right;\n",
       "    }\n",
       "</style>\n",
       "<table border=\"1\" class=\"dataframe\">\n",
       "  <thead>\n",
       "    <tr style=\"text-align: right;\">\n",
       "      <th></th>\n",
       "      <th>Air India_Airline</th>\n",
       "      <th>GoAir_Airline</th>\n",
       "      <th>IndiGo_Airline</th>\n",
       "      <th>Jet Airways_Airline</th>\n",
       "      <th>Jet Airways Business_Airline</th>\n",
       "      <th>Multiple carriers_Airline</th>\n",
       "      <th>Multiple carriers Premium economy_Airline</th>\n",
       "      <th>SpiceJet_Airline</th>\n",
       "      <th>Trujet_Airline</th>\n",
       "      <th>Vistara_Airline</th>\n",
       "      <th>Vistara Premium economy_Airline</th>\n",
       "    </tr>\n",
       "  </thead>\n",
       "  <tbody>\n",
       "    <tr>\n",
       "      <th>0</th>\n",
       "      <td>0</td>\n",
       "      <td>0</td>\n",
       "      <td>1</td>\n",
       "      <td>0</td>\n",
       "      <td>0</td>\n",
       "      <td>0</td>\n",
       "      <td>0</td>\n",
       "      <td>0</td>\n",
       "      <td>0</td>\n",
       "      <td>0</td>\n",
       "      <td>0</td>\n",
       "    </tr>\n",
       "    <tr>\n",
       "      <th>1</th>\n",
       "      <td>1</td>\n",
       "      <td>0</td>\n",
       "      <td>0</td>\n",
       "      <td>0</td>\n",
       "      <td>0</td>\n",
       "      <td>0</td>\n",
       "      <td>0</td>\n",
       "      <td>0</td>\n",
       "      <td>0</td>\n",
       "      <td>0</td>\n",
       "      <td>0</td>\n",
       "    </tr>\n",
       "    <tr>\n",
       "      <th>2</th>\n",
       "      <td>0</td>\n",
       "      <td>0</td>\n",
       "      <td>0</td>\n",
       "      <td>1</td>\n",
       "      <td>0</td>\n",
       "      <td>0</td>\n",
       "      <td>0</td>\n",
       "      <td>0</td>\n",
       "      <td>0</td>\n",
       "      <td>0</td>\n",
       "      <td>0</td>\n",
       "    </tr>\n",
       "    <tr>\n",
       "      <th>3</th>\n",
       "      <td>0</td>\n",
       "      <td>0</td>\n",
       "      <td>1</td>\n",
       "      <td>0</td>\n",
       "      <td>0</td>\n",
       "      <td>0</td>\n",
       "      <td>0</td>\n",
       "      <td>0</td>\n",
       "      <td>0</td>\n",
       "      <td>0</td>\n",
       "      <td>0</td>\n",
       "    </tr>\n",
       "    <tr>\n",
       "      <th>4</th>\n",
       "      <td>0</td>\n",
       "      <td>0</td>\n",
       "      <td>1</td>\n",
       "      <td>0</td>\n",
       "      <td>0</td>\n",
       "      <td>0</td>\n",
       "      <td>0</td>\n",
       "      <td>0</td>\n",
       "      <td>0</td>\n",
       "      <td>0</td>\n",
       "      <td>0</td>\n",
       "    </tr>\n",
       "  </tbody>\n",
       "</table>\n",
       "</div>\n",
       "      <button class=\"colab-df-convert\" onclick=\"convertToInteractive('df-ca8ac78e-2c50-4dfe-b554-d3382a2cbf4e')\"\n",
       "              title=\"Convert this dataframe to an interactive table.\"\n",
       "              style=\"display:none;\">\n",
       "        \n",
       "  <svg xmlns=\"http://www.w3.org/2000/svg\" height=\"24px\"viewBox=\"0 0 24 24\"\n",
       "       width=\"24px\">\n",
       "    <path d=\"M0 0h24v24H0V0z\" fill=\"none\"/>\n",
       "    <path d=\"M18.56 5.44l.94 2.06.94-2.06 2.06-.94-2.06-.94-.94-2.06-.94 2.06-2.06.94zm-11 1L8.5 8.5l.94-2.06 2.06-.94-2.06-.94L8.5 2.5l-.94 2.06-2.06.94zm10 10l.94 2.06.94-2.06 2.06-.94-2.06-.94-.94-2.06-.94 2.06-2.06.94z\"/><path d=\"M17.41 7.96l-1.37-1.37c-.4-.4-.92-.59-1.43-.59-.52 0-1.04.2-1.43.59L10.3 9.45l-7.72 7.72c-.78.78-.78 2.05 0 2.83L4 21.41c.39.39.9.59 1.41.59.51 0 1.02-.2 1.41-.59l7.78-7.78 2.81-2.81c.8-.78.8-2.07 0-2.86zM5.41 20L4 18.59l7.72-7.72 1.47 1.35L5.41 20z\"/>\n",
       "  </svg>\n",
       "      </button>\n",
       "      \n",
       "  <style>\n",
       "    .colab-df-container {\n",
       "      display:flex;\n",
       "      flex-wrap:wrap;\n",
       "      gap: 12px;\n",
       "    }\n",
       "\n",
       "    .colab-df-convert {\n",
       "      background-color: #E8F0FE;\n",
       "      border: none;\n",
       "      border-radius: 50%;\n",
       "      cursor: pointer;\n",
       "      display: none;\n",
       "      fill: #1967D2;\n",
       "      height: 32px;\n",
       "      padding: 0 0 0 0;\n",
       "      width: 32px;\n",
       "    }\n",
       "\n",
       "    .colab-df-convert:hover {\n",
       "      background-color: #E2EBFA;\n",
       "      box-shadow: 0px 1px 2px rgba(60, 64, 67, 0.3), 0px 1px 3px 1px rgba(60, 64, 67, 0.15);\n",
       "      fill: #174EA6;\n",
       "    }\n",
       "\n",
       "    [theme=dark] .colab-df-convert {\n",
       "      background-color: #3B4455;\n",
       "      fill: #D2E3FC;\n",
       "    }\n",
       "\n",
       "    [theme=dark] .colab-df-convert:hover {\n",
       "      background-color: #434B5C;\n",
       "      box-shadow: 0px 1px 3px 1px rgba(0, 0, 0, 0.15);\n",
       "      filter: drop-shadow(0px 1px 2px rgba(0, 0, 0, 0.3));\n",
       "      fill: #FFFFFF;\n",
       "    }\n",
       "  </style>\n",
       "\n",
       "      <script>\n",
       "        const buttonEl =\n",
       "          document.querySelector('#df-ca8ac78e-2c50-4dfe-b554-d3382a2cbf4e button.colab-df-convert');\n",
       "        buttonEl.style.display =\n",
       "          google.colab.kernel.accessAllowed ? 'block' : 'none';\n",
       "\n",
       "        async function convertToInteractive(key) {\n",
       "          const element = document.querySelector('#df-ca8ac78e-2c50-4dfe-b554-d3382a2cbf4e');\n",
       "          const dataTable =\n",
       "            await google.colab.kernel.invokeFunction('convertToInteractive',\n",
       "                                                     [key], {});\n",
       "          if (!dataTable) return;\n",
       "\n",
       "          const docLinkHtml = 'Like what you see? Visit the ' +\n",
       "            '<a target=\"_blank\" href=https://colab.research.google.com/notebooks/data_table.ipynb>data table notebook</a>'\n",
       "            + ' to learn more about interactive tables.';\n",
       "          element.innerHTML = '';\n",
       "          dataTable['output_type'] = 'display_data';\n",
       "          await google.colab.output.renderOutput(dataTable, element);\n",
       "          const docLink = document.createElement('div');\n",
       "          docLink.innerHTML = docLinkHtml;\n",
       "          element.appendChild(docLink);\n",
       "        }\n",
       "      </script>\n",
       "    </div>\n",
       "  </div>\n",
       "  "
      ],
      "text/plain": [
       "   Air India_Airline  GoAir_Airline  IndiGo_Airline  Jet Airways_Airline  \\\n",
       "0                  0              0               1                    0   \n",
       "1                  1              0               0                    0   \n",
       "2                  0              0               0                    1   \n",
       "3                  0              0               1                    0   \n",
       "4                  0              0               1                    0   \n",
       "\n",
       "   Jet Airways Business_Airline  Multiple carriers_Airline  \\\n",
       "0                             0                          0   \n",
       "1                             0                          0   \n",
       "2                             0                          0   \n",
       "3                             0                          0   \n",
       "4                             0                          0   \n",
       "\n",
       "   Multiple carriers Premium economy_Airline  SpiceJet_Airline  \\\n",
       "0                                          0                 0   \n",
       "1                                          0                 0   \n",
       "2                                          0                 0   \n",
       "3                                          0                 0   \n",
       "4                                          0                 0   \n",
       "\n",
       "   Trujet_Airline  Vistara_Airline  Vistara Premium economy_Airline  \n",
       "0               0                0                                0  \n",
       "1               0                0                                0  \n",
       "2               0                0                                0  \n",
       "3               0                0                                0  \n",
       "4               0                0                                0  "
      ]
     },
     "execution_count": 206,
     "metadata": {},
     "output_type": "execute_result"
    }
   ],
   "source": [
    "test.toPandas().head()"
   ]
  },
  {
   "cell_type": "code",
   "execution_count": 207,
   "metadata": {
    "id": "AMi08DMsvZ76"
   },
   "outputs": [],
   "source": [
    "df = df.drop('Air Asia').drop('Airline')"
   ]
  },
  {
   "cell_type": "markdown",
   "metadata": {
    "id": "Vs9SLPOEy5LH"
   },
   "source": [
    "#### Handle Source column"
   ]
  },
  {
   "cell_type": "code",
   "execution_count": 208,
   "metadata": {
    "colab": {
     "base_uri": "https://localhost:8080/"
    },
    "id": "pG2KnkoBvaDy",
    "outputId": "ffd959b9-8404-480b-b8a4-66025522bf14"
   },
   "outputs": [
    {
     "name": "stdout",
     "output_type": "stream",
     "text": [
      "+----------------------+\n",
      "|count(DISTINCT Source)|\n",
      "+----------------------+\n",
      "|                     5|\n",
      "+----------------------+\n",
      "\n"
     ]
    }
   ],
   "source": [
    "df.select(countDistinct('Source')).show()"
   ]
  },
  {
   "cell_type": "code",
   "execution_count": 209,
   "metadata": {
    "colab": {
     "base_uri": "https://localhost:8080/"
    },
    "id": "bkLDgWVUvaGS",
    "outputId": "23a0e9cf-5d7c-4495-9229-58c8030e98e9"
   },
   "outputs": [
    {
     "data": {
      "text/plain": [
       "[Row(Source='Chennai'),\n",
       " Row(Source='Mumbai'),\n",
       " Row(Source='Kolkata'),\n",
       " Row(Source='Delhi'),\n",
       " Row(Source='Banglore')]"
      ]
     },
     "execution_count": 209,
     "metadata": {},
     "output_type": "execute_result"
    }
   ],
   "source": [
    "df.select('Source').distinct().collect()"
   ]
  },
  {
   "cell_type": "code",
   "execution_count": 210,
   "metadata": {
    "colab": {
     "base_uri": "https://localhost:8080/"
    },
    "id": "Dz9dtMsyvaI-",
    "outputId": "56ca9cf0-8f09-41bf-fb61-d96c035ccae4"
   },
   "outputs": [
    {
     "name": "stdout",
     "output_type": "stream",
     "text": [
      "+--------+-----+\n",
      "|  Source|count|\n",
      "+--------+-----+\n",
      "|   Delhi| 4536|\n",
      "| Kolkata| 2871|\n",
      "|Banglore| 2197|\n",
      "|  Mumbai|  697|\n",
      "| Chennai|  381|\n",
      "+--------+-----+\n",
      "\n"
     ]
    }
   ],
   "source": [
    "df.groupBy('Source').count().alias('Count').sort(col('Count').desc()).show()"
   ]
  },
  {
   "cell_type": "code",
   "execution_count": 211,
   "metadata": {
    "colab": {
     "base_uri": "https://localhost:8080/",
     "height": 386
    },
    "id": "_Qgj8dXnvaLu",
    "outputId": "b607aa55-fd61-4244-ed48-1020250d0d61"
   },
   "outputs": [
    {
     "data": {
      "text/plain": [
       "<Figure size 1080x576 with 0 Axes>"
      ]
     },
     "metadata": {},
     "output_type": "display_data"
    },
    {
     "data": {
      "image/png": "[encoded data removed]",
      "text/plain": [
       "<Figure size 360x360 with 1 Axes>"
      ]
     },
     "metadata": {
      "needs_background": "light"
     },
     "output_type": "display_data"
    }
   ],
   "source": [
    "plt.figure(figsize=(15,8));\n",
    "sns.catplot(y='Price',x='Source',data=data.sort_values('Price',ascending=False),kind='boxen');\n",
    "plt.xticks(rotation = 0);"
   ]
  },
  {
   "cell_type": "code",
   "execution_count": 212,
   "metadata": {
    "id": "pHOFvSj5vaOV"
   },
   "outputs": [],
   "source": [
    "categ_sou = df.select('Source').distinct().rdd.flatMap(lambda x:x).collect()\n",
    "exprs_sou = [F.when(F.col('Source') == cat,1).otherwise(0).alias(str(cat)+'_Sour') for cat in categ_sou]\n",
    "df = df.select(exprs_sou+df.columns)"
   ]
  },
  {
   "cell_type": "code",
   "execution_count": 213,
   "metadata": {
    "colab": {
     "base_uri": "https://localhost:8080/"
    },
    "id": "FvSbEQ2xvaTY",
    "outputId": "f0c8c2d4-ea0c-4a84-e891-7a6cd228a0b5"
   },
   "outputs": [
    {
     "name": "stdout",
     "output_type": "stream",
     "text": [
      "+------------+----------+------------+-----------+\n",
      "|Chennai_Sour|Delhi_Sour|Kolkata_Sour|Mumbai_Sour|\n",
      "+------------+----------+------------+-----------+\n",
      "|           0|         0|           0|          0|\n",
      "|           0|         0|           1|          0|\n",
      "|           0|         1|           0|          0|\n",
      "|           0|         0|           1|          0|\n",
      "|           0|         0|           0|          0|\n",
      "|           0|         0|           1|          0|\n",
      "|           0|         0|           0|          0|\n",
      "|           0|         0|           0|          0|\n",
      "|           0|         0|           0|          0|\n",
      "|           0|         1|           0|          0|\n",
      "|           0|         1|           0|          0|\n",
      "|           0|         0|           1|          0|\n",
      "|           1|         0|           0|          0|\n",
      "|           0|         0|           1|          0|\n",
      "|           0|         0|           1|          0|\n",
      "|           0|         1|           0|          0|\n",
      "|           0|         1|           0|          0|\n",
      "|           0|         1|           0|          0|\n",
      "|           0|         1|           0|          0|\n",
      "|           0|         1|           0|          0|\n",
      "+------------+----------+------------+-----------+\n",
      "only showing top 20 rows\n",
      "\n"
     ]
    }
   ],
   "source": [
    "df.select('Chennai_Sour','Delhi_Sour','Kolkata_Sour','Mumbai_Sour').show()"
   ]
  },
  {
   "cell_type": "code",
   "execution_count": 214,
   "metadata": {
    "id": "9M9_thWqvaWJ"
   },
   "outputs": [],
   "source": [
    "df = df.drop('Banglore_Sour').drop('Source')"
   ]
  },
  {
   "cell_type": "code",
   "execution_count": 215,
   "metadata": {
    "colab": {
     "base_uri": "https://localhost:8080/"
    },
    "id": "Y7RJ6ZW-vaY0",
    "outputId": "6927859c-d26b-42ab-f854-ae01fb163aa8"
   },
   "outputs": [
    {
     "name": "stdout",
     "output_type": "stream",
     "text": [
      "root\n",
      " |-- Chennai_Sour: integer (nullable = false)\n",
      " |-- Mumbai_Sour: integer (nullable = false)\n",
      " |-- Kolkata_Sour: integer (nullable = false)\n",
      " |-- Delhi_Sour: integer (nullable = false)\n",
      " |-- Air India_Airline: integer (nullable = false)\n",
      " |-- SpiceJet_Airline: integer (nullable = false)\n",
      " |-- GoAir_Airline: integer (nullable = false)\n",
      " |-- Trujet_Airline: integer (nullable = false)\n",
      " |-- Jet Airways_Airline: integer (nullable = false)\n",
      " |-- Multiple carriers Premium economy_Airline: integer (nullable = false)\n",
      " |-- IndiGo_Airline: integer (nullable = false)\n",
      " |-- Air Asia_Airline: integer (nullable = false)\n",
      " |-- Vistara_Airline: integer (nullable = false)\n",
      " |-- Jet Airways Business_Airline: integer (nullable = false)\n",
      " |-- Multiple carriers_Airline: integer (nullable = false)\n",
      " |-- Vistara Premium economy_Airline: integer (nullable = false)\n",
      " |-- Destination: string (nullable = true)\n",
      " |-- Route: string (nullable = true)\n",
      " |-- Total_Stops: string (nullable = true)\n",
      " |-- Additional_Info: string (nullable = true)\n",
      " |-- Price: integer (nullable = true)\n",
      " |-- Dep_Hour: integer (nullable = true)\n",
      " |-- Dep_Minute: integer (nullable = true)\n",
      " |-- Journey_Month: integer (nullable = true)\n",
      " |-- Journey_Day: integer (nullable = true)\n",
      " |-- Arrival_Hour: integer (nullable = true)\n",
      " |-- Arrival_Minute: integer (nullable = true)\n",
      " |-- Duration_Hour: integer (nullable = true)\n",
      " |-- Duration_Minute: integer (nullable = true)\n",
      "\n"
     ]
    }
   ],
   "source": [
    "df.printSchema()"
   ]
  },
  {
   "cell_type": "markdown",
   "metadata": {
    "id": "HCU_ozqly19u"
   },
   "source": [
    "#### Handle Destination column"
   ]
  },
  {
   "cell_type": "code",
   "execution_count": 216,
   "metadata": {
    "colab": {
     "base_uri": "https://localhost:8080/"
    },
    "id": "kOKy9PyevaeF",
    "outputId": "3250c60a-41ea-4eb2-b1e3-97bc76f10c4a"
   },
   "outputs": [
    {
     "name": "stdout",
     "output_type": "stream",
     "text": [
      "+---------------------------+\n",
      "|count(DISTINCT Destination)|\n",
      "+---------------------------+\n",
      "|                          6|\n",
      "+---------------------------+\n",
      "\n"
     ]
    }
   ],
   "source": [
    "df.select(countDistinct('Destination')).show()"
   ]
  },
  {
   "cell_type": "code",
   "execution_count": 217,
   "metadata": {
    "colab": {
     "base_uri": "https://localhost:8080/"
    },
    "id": "s0AY4Chwvagk",
    "outputId": "b3102327-3979-44d2-aed8-4df5d4cb1f7c"
   },
   "outputs": [
    {
     "data": {
      "text/plain": [
       "[Row(Destination='Kolkata'),\n",
       " Row(Destination='Delhi'),\n",
       " Row(Destination='Cochin'),\n",
       " Row(Destination='New Delhi'),\n",
       " Row(Destination='Banglore'),\n",
       " Row(Destination='Hyderabad')]"
      ]
     },
     "execution_count": 217,
     "metadata": {},
     "output_type": "execute_result"
    }
   ],
   "source": [
    "df.select('Destination').distinct().collect()"
   ]
  },
  {
   "cell_type": "code",
   "execution_count": 218,
   "metadata": {
    "colab": {
     "base_uri": "https://localhost:8080/"
    },
    "id": "kfl3AWfJvajW",
    "outputId": "dd45a5cd-7e54-445a-d18a-637a95e7e017"
   },
   "outputs": [
    {
     "name": "stdout",
     "output_type": "stream",
     "text": [
      "+-----------+-----+\n",
      "|Destination|count|\n",
      "+-----------+-----+\n",
      "|     Cochin| 4536|\n",
      "|   Banglore| 2871|\n",
      "|      Delhi| 1265|\n",
      "|  New Delhi|  932|\n",
      "|  Hyderabad|  697|\n",
      "|    Kolkata|  381|\n",
      "+-----------+-----+\n",
      "\n"
     ]
    }
   ],
   "source": [
    "df.groupBy('Destination').count().alias('Count').sort(col('Count').desc()).show()"
   ]
  },
  {
   "cell_type": "code",
   "execution_count": 219,
   "metadata": {
    "colab": {
     "base_uri": "https://localhost:8080/",
     "height": 422
    },
    "id": "6NYwsb_QvamJ",
    "outputId": "6235e468-5d4a-400d-b19f-7274e263e9b8"
   },
   "outputs": [
    {
     "data": {
      "text/plain": [
       "<Figure size 1080x576 with 0 Axes>"
      ]
     },
     "metadata": {},
     "output_type": "display_data"
    },
    {
     "data": {
      "image/png": "[encoded data removed]",
      "text/plain": [
       "<Figure size 360x360 with 1 Axes>"
      ]
     },
     "metadata": {
      "needs_background": "light"
     },
     "output_type": "display_data"
    }
   ],
   "source": [
    "plt.figure(figsize=(15,8));\n",
    "sns.catplot(y='Price',x='Destination',data=data.sort_values('Price',ascending=False),kind='boxen');\n",
    "plt.xticks(rotation = 45);"
   ]
  },
  {
   "cell_type": "code",
   "execution_count": 220,
   "metadata": {
    "id": "VyGU5jVVvaou"
   },
   "outputs": [],
   "source": [
    "categ_des = df.select('Destination').distinct().rdd.flatMap(lambda x:x).collect()\n",
    "exprs_des = [F.when(F.col('Destination') == cat,1).otherwise(0).alias(str(cat)+'_Des') for cat in categ_des]\n",
    "df = df.select(exprs_des +df.columns)"
   ]
  },
  {
   "cell_type": "code",
   "execution_count": 221,
   "metadata": {
    "id": "5IP5ho2UvarR"
   },
   "outputs": [],
   "source": [
    "df = df.drop('Banglore_Des').drop('Destination')"
   ]
  },
  {
   "cell_type": "markdown",
   "metadata": {
    "id": "iAsa14H8ywgF"
   },
   "source": [
    "#### Handle Route column"
   ]
  },
  {
   "cell_type": "code",
   "execution_count": 222,
   "metadata": {
    "colab": {
     "base_uri": "https://localhost:8080/"
    },
    "id": "iLzzjZLRvazp",
    "outputId": "60f39c4b-4096-4a1f-f8b7-eca7424f5910"
   },
   "outputs": [
    {
     "name": "stdout",
     "output_type": "stream",
     "text": [
      "+--------------------+\n",
      "|               Route|\n",
      "+--------------------+\n",
      "|           BLR → DEL|\n",
      "|CCU → IXR → BBI →...|\n",
      "|DEL → LKO → BOM →...|\n",
      "|     CCU → NAG → BLR|\n",
      "|     BLR → NAG → DEL|\n",
      "|           CCU → BLR|\n",
      "|     BLR → BOM → DEL|\n",
      "|     BLR → BOM → DEL|\n",
      "|     BLR → BOM → DEL|\n",
      "|     DEL → BOM → COK|\n",
      "|     DEL → BLR → COK|\n",
      "|           CCU → BLR|\n",
      "|           MAA → CCU|\n",
      "|     CCU → BOM → BLR|\n",
      "|           CCU → BLR|\n",
      "|DEL → AMD → BOM →...|\n",
      "|     DEL → PNQ → COK|\n",
      "|     DEL → BOM → COK|\n",
      "|DEL → CCU → BOM →...|\n",
      "|     DEL → BOM → COK|\n",
      "+--------------------+\n",
      "only showing top 20 rows\n",
      "\n"
     ]
    }
   ],
   "source": [
    "df.select('Route').show()"
   ]
  },
  {
   "cell_type": "code",
   "execution_count": 223,
   "metadata": {
    "id": "6SRPpMt9ww38"
   },
   "outputs": [],
   "source": [
    "df = df.withColumn('Route_1',split(df['Route'],'→').getItem(0))\\\n",
    "            .withColumn('Route_2',split(df['Route'],'→').getItem(1))\\\n",
    "            .withColumn('Route_3',split(df['Route'],'→').getItem(2))\\\n",
    "            .withColumn('Route_4',split(df['Route'],'→').getItem(3))\\\n",
    "            .withColumn('Route_5',split(df['Route'],'→').getItem(4))"
   ]
  },
  {
   "cell_type": "code",
   "execution_count": 224,
   "metadata": {
    "id": "WZeHxTjuww5k"
   },
   "outputs": [],
   "source": [
    "df = df.drop('Route')"
   ]
  },
  {
   "cell_type": "code",
   "execution_count": 225,
   "metadata": {
    "colab": {
     "base_uri": "https://localhost:8080/"
    },
    "id": "gcA1zHvOww8D",
    "outputId": "82224e71-dd26-47d1-b852-f8e5acbc0bb6"
   },
   "outputs": [
    {
     "name": "stdout",
     "output_type": "stream",
     "text": [
      "+-------+-------+-------+-------+-------+\n",
      "|Route_1|Route_2|Route_3|Route_4|Route_5|\n",
      "+-------+-------+-------+-------+-------+\n",
      "|   BLR |    DEL|   null|   null|   null|\n",
      "|   CCU |   IXR |   BBI |    BLR|   null|\n",
      "|   DEL |   LKO |   BOM |    COK|   null|\n",
      "|   CCU |   NAG |    BLR|   null|   null|\n",
      "|   BLR |   NAG |    DEL|   null|   null|\n",
      "|   CCU |    BLR|   null|   null|   null|\n",
      "|   BLR |   BOM |    DEL|   null|   null|\n",
      "|   BLR |   BOM |    DEL|   null|   null|\n",
      "|   BLR |   BOM |    DEL|   null|   null|\n",
      "|   DEL |   BOM |    COK|   null|   null|\n",
      "|   DEL |   BLR |    COK|   null|   null|\n",
      "|   CCU |    BLR|   null|   null|   null|\n",
      "|   MAA |    CCU|   null|   null|   null|\n",
      "|   CCU |   BOM |    BLR|   null|   null|\n",
      "|   CCU |    BLR|   null|   null|   null|\n",
      "|   DEL |   AMD |   BOM |    COK|   null|\n",
      "|   DEL |   PNQ |    COK|   null|   null|\n",
      "|   DEL |   BOM |    COK|   null|   null|\n",
      "|   DEL |   CCU |   BOM |    COK|   null|\n",
      "|   DEL |   BOM |    COK|   null|   null|\n",
      "+-------+-------+-------+-------+-------+\n",
      "only showing top 20 rows\n",
      "\n"
     ]
    }
   ],
   "source": [
    "df.select('Route_1','Route_2','Route_3','Route_4','Route_5').show()"
   ]
  },
  {
   "cell_type": "code",
   "execution_count": 226,
   "metadata": {
    "id": "RfcYtMNeww_U"
   },
   "outputs": [],
   "source": [
    "df = df.na.fill(\"None\",subset=['Route_1','Route_2','Route_3','Route_4','Route_5'])"
   ]
  },
  {
   "cell_type": "code",
   "execution_count": 227,
   "metadata": {
    "colab": {
     "base_uri": "https://localhost:8080/"
    },
    "id": "TQWiM6V5wxKD",
    "outputId": "5373830c-7fb4-4951-c858-1a531da10a6e"
   },
   "outputs": [
    {
     "name": "stdout",
     "output_type": "stream",
     "text": [
      "+-------+-------+-------+-------+-------+\n",
      "|Route_1|Route_2|Route_3|Route_4|Route_5|\n",
      "+-------+-------+-------+-------+-------+\n",
      "|   BLR |    DEL|   None|   None|   None|\n",
      "|   CCU |   IXR |   BBI |    BLR|   None|\n",
      "|   DEL |   LKO |   BOM |    COK|   None|\n",
      "|   CCU |   NAG |    BLR|   None|   None|\n",
      "|   BLR |   NAG |    DEL|   None|   None|\n",
      "|   CCU |    BLR|   None|   None|   None|\n",
      "|   BLR |   BOM |    DEL|   None|   None|\n",
      "|   BLR |   BOM |    DEL|   None|   None|\n",
      "|   BLR |   BOM |    DEL|   None|   None|\n",
      "|   DEL |   BOM |    COK|   None|   None|\n",
      "|   DEL |   BLR |    COK|   None|   None|\n",
      "|   CCU |    BLR|   None|   None|   None|\n",
      "|   MAA |    CCU|   None|   None|   None|\n",
      "|   CCU |   BOM |    BLR|   None|   None|\n",
      "|   CCU |    BLR|   None|   None|   None|\n",
      "|   DEL |   AMD |   BOM |    COK|   None|\n",
      "|   DEL |   PNQ |    COK|   None|   None|\n",
      "|   DEL |   BOM |    COK|   None|   None|\n",
      "|   DEL |   CCU |   BOM |    COK|   None|\n",
      "|   DEL |   BOM |    COK|   None|   None|\n",
      "+-------+-------+-------+-------+-------+\n",
      "only showing top 20 rows\n",
      "\n"
     ]
    }
   ],
   "source": [
    "df.select('Route_1','Route_2','Route_3','Route_4','Route_5').show()"
   ]
  },
  {
   "cell_type": "code",
   "execution_count": 228,
   "metadata": {
    "colab": {
     "base_uri": "https://localhost:8080/"
    },
    "id": "fOwu8_5aKAup",
    "outputId": "fd635d5d-4beb-4ed9-fbc8-b518c76d233d"
   },
   "outputs": [
    {
     "name": "stdout",
     "output_type": "stream",
     "text": [
      "+-------+-----+\n",
      "|Route_1|count|\n",
      "+-------+-----+\n",
      "|   DEL | 4536|\n",
      "|   CCU | 2871|\n",
      "|   BLR | 2197|\n",
      "|   BOM |  697|\n",
      "|   MAA |  381|\n",
      "+-------+-----+\n",
      "\n",
      "+-------+-----+\n",
      "|Route_2|count|\n",
      "+-------+-----+\n",
      "|   BOM | 3867|\n",
      "|    DEL| 1552|\n",
      "|    BLR|  724|\n",
      "|   DEL |  663|\n",
      "|    HYD|  621|\n",
      "|   HYD |  565|\n",
      "|    CCU|  381|\n",
      "|   AMD |  263|\n",
      "|   JAI |  260|\n",
      "|   MAA |  259|\n",
      "|   BLR |  236|\n",
      "|    COK|  213|\n",
      "|   BBI |  114|\n",
      "|   IDR |  106|\n",
      "|   GAU |   88|\n",
      "|   NAG |   83|\n",
      "|   CCU |   75|\n",
      "|   GOI |   72|\n",
      "|   PNQ |   66|\n",
      "|   LKO |   61|\n",
      "|   BHO |   57|\n",
      "|   IXR |   52|\n",
      "|   JDH |   41|\n",
      "|   ATQ |   40|\n",
      "|   BDQ |   38|\n",
      "|   IXB |   21|\n",
      "|   RPR |   19|\n",
      "|   UDR |   19|\n",
      "|   TRV |   18|\n",
      "|   COK |   16|\n",
      "|   VGA |   15|\n",
      "|   IXC |   13|\n",
      "|   IXU |   12|\n",
      "|   VNS |   11|\n",
      "|   KNU |   10|\n",
      "|   PAT |   10|\n",
      "|   GWL |    8|\n",
      "|   DED |    3|\n",
      "|   HBX |    3|\n",
      "|   STV |    2|\n",
      "|   VTZ |    1|\n",
      "|   JLR |    1|\n",
      "|   IXZ |    1|\n",
      "|   NDC |    1|\n",
      "|   IXA |    1|\n",
      "+-------+-----+\n",
      "\n",
      "+-------+-----+\n",
      "|Route_3|count|\n",
      "+-------+-----+\n",
      "|   None| 3491|\n",
      "|    COK| 3185|\n",
      "|    BLR| 1834|\n",
      "|   BOM | 1088|\n",
      "|    DEL|  562|\n",
      "|   DEL |  120|\n",
      "|   MAA |   85|\n",
      "|   COK |   72|\n",
      "|    HYD|   44|\n",
      "|   AMD |   35|\n",
      "|   NAG |   27|\n",
      "|   GOI |   16|\n",
      "|   IDR |   15|\n",
      "|   VGA |   14|\n",
      "|   BBI |   14|\n",
      "|   HYD |   14|\n",
      "|   BHO |   11|\n",
      "|   GAU |   11|\n",
      "|   PNQ |   10|\n",
      "|   JDH |    6|\n",
      "|   HBX |    6|\n",
      "|   IMF |    5|\n",
      "|   ISK |    4|\n",
      "|   UDR |    3|\n",
      "|   VTZ |    3|\n",
      "|   IXR |    2|\n",
      "|   TRV |    2|\n",
      "|   JAI |    1|\n",
      "|   CCU |    1|\n",
      "|   IXC |    1|\n",
      "+-------+-----+\n",
      "\n",
      "+-------+-----+\n",
      "|Route_4|count|\n",
      "+-------+-----+\n",
      "|   None| 9116|\n",
      "|    COK| 1113|\n",
      "|    BLR|  302|\n",
      "|    DEL|   75|\n",
      "|    HYD|   30|\n",
      "|   BOM |   25|\n",
      "|   DEL |    8|\n",
      "|   TRV |    4|\n",
      "|   HYD |    3|\n",
      "|   GWL |    2|\n",
      "|   BBI |    1|\n",
      "|   NAG |    1|\n",
      "|   AMD |    1|\n",
      "|   BHO |    1|\n",
      "+-------+-----+\n",
      "\n",
      "+-------+-----+\n",
      "|Route_5|count|\n",
      "+-------+-----+\n",
      "|   None|10636|\n",
      "|    COK|   25|\n",
      "|    BLR|   11|\n",
      "|    DEL|    7|\n",
      "|    HYD|    2|\n",
      "|   VGA |    1|\n",
      "+-------+-----+\n",
      "\n"
     ]
    }
   ],
   "source": [
    "df.groupBy('Route_1').count().alias('Count').sort(col('Count').desc()).show()\n",
    "df.groupBy('Route_2').count().alias('Count').sort(col('Count').desc()).show(45)\n",
    "df.groupBy('Route_3').count().alias('Count').sort(col('Count').desc()).show(30)\n",
    "df.groupBy('Route_4').count().alias('Count').sort(col('Count').desc()).show()\n",
    "df.groupBy('Route_5').count().alias('Count').sort(col('Count').desc()).show()"
   ]
  },
  {
   "cell_type": "code",
   "execution_count": 229,
   "metadata": {
    "id": "bTTmS17kwxMV"
   },
   "outputs": [],
   "source": [
    "# get data from 'Route_1','Route_2','Route_3','Route_4','Route_5' columns\n",
    "e = df.select('Route_1','Route_2','Route_3','Route_4','Route_5')"
   ]
  },
  {
   "cell_type": "code",
   "execution_count": 230,
   "metadata": {
    "id": "XIJCy2rGwxOY"
   },
   "outputs": [],
   "source": [
    "from pyspark.ml import Pipeline\n",
    "from pyspark.ml.feature import StringIndexer"
   ]
  },
  {
   "cell_type": "code",
   "execution_count": 231,
   "metadata": {
    "id": "inT3XFq7wxRa"
   },
   "outputs": [],
   "source": [
    "for i in e.columns:\n",
    "    indexer = StringIndexer(inputCol=i, outputCol=i+ \"_Label\")\n",
    "    df = indexer.fit(df).transform(df)"
   ]
  },
  {
   "cell_type": "code",
   "execution_count": 232,
   "metadata": {
    "colab": {
     "base_uri": "https://localhost:8080/"
    },
    "id": "sv4zkMCIxA_4",
    "outputId": "db112b49-c1a8-4003-ce3b-d1694fdcfabd"
   },
   "outputs": [
    {
     "name": "stdout",
     "output_type": "stream",
     "text": [
      "root\n",
      " |-- Kolkata_Des: integer (nullable = false)\n",
      " |-- Delhi_Des: integer (nullable = false)\n",
      " |-- Cochin_Des: integer (nullable = false)\n",
      " |-- New Delhi_Des: integer (nullable = false)\n",
      " |-- Hyderabad_Des: integer (nullable = false)\n",
      " |-- Chennai_Sour: integer (nullable = false)\n",
      " |-- Mumbai_Sour: integer (nullable = false)\n",
      " |-- Kolkata_Sour: integer (nullable = false)\n",
      " |-- Delhi_Sour: integer (nullable = false)\n",
      " |-- Air India_Airline: integer (nullable = false)\n",
      " |-- SpiceJet_Airline: integer (nullable = false)\n",
      " |-- GoAir_Airline: integer (nullable = false)\n",
      " |-- Trujet_Airline: integer (nullable = false)\n",
      " |-- Jet Airways_Airline: integer (nullable = false)\n",
      " |-- Multiple carriers Premium economy_Airline: integer (nullable = false)\n",
      " |-- IndiGo_Airline: integer (nullable = false)\n",
      " |-- Air Asia_Airline: integer (nullable = false)\n",
      " |-- Vistara_Airline: integer (nullable = false)\n",
      " |-- Jet Airways Business_Airline: integer (nullable = false)\n",
      " |-- Multiple carriers_Airline: integer (nullable = false)\n",
      " |-- Vistara Premium economy_Airline: integer (nullable = false)\n",
      " |-- Total_Stops: string (nullable = true)\n",
      " |-- Additional_Info: string (nullable = true)\n",
      " |-- Price: integer (nullable = true)\n",
      " |-- Dep_Hour: integer (nullable = true)\n",
      " |-- Dep_Minute: integer (nullable = true)\n",
      " |-- Journey_Month: integer (nullable = true)\n",
      " |-- Journey_Day: integer (nullable = true)\n",
      " |-- Arrival_Hour: integer (nullable = true)\n",
      " |-- Arrival_Minute: integer (nullable = true)\n",
      " |-- Duration_Hour: integer (nullable = true)\n",
      " |-- Duration_Minute: integer (nullable = true)\n",
      " |-- Route_1: string (nullable = false)\n",
      " |-- Route_2: string (nullable = false)\n",
      " |-- Route_3: string (nullable = false)\n",
      " |-- Route_4: string (nullable = false)\n",
      " |-- Route_5: string (nullable = false)\n",
      " |-- Route_1_Label: double (nullable = false)\n",
      " |-- Route_2_Label: double (nullable = false)\n",
      " |-- Route_3_Label: double (nullable = false)\n",
      " |-- Route_4_Label: double (nullable = false)\n",
      " |-- Route_5_Label: double (nullable = false)\n",
      "\n"
     ]
    }
   ],
   "source": [
    "df.printSchema()"
   ]
  },
  {
   "cell_type": "code",
   "execution_count": 233,
   "metadata": {
    "colab": {
     "base_uri": "https://localhost:8080/"
    },
    "id": "nLXq2c-DxBCX",
    "outputId": "a851a0d4-a1cc-497f-c677-e075f4b753a9"
   },
   "outputs": [
    {
     "name": "stdout",
     "output_type": "stream",
     "text": [
      "+-------------+-------------+-------------+-------------+-------------+\n",
      "|Route_1_Label|Route_2_Label|Route_3_Label|Route_4_Label|Route_5_Label|\n",
      "+-------------+-------------+-------------+-------------+-------------+\n",
      "|          2.0|          1.0|          0.0|          0.0|          0.0|\n",
      "|          1.0|         21.0|         13.0|          2.0|          0.0|\n",
      "|          0.0|         19.0|          3.0|          1.0|          0.0|\n",
      "|          1.0|         15.0|          2.0|          0.0|          0.0|\n",
      "|          2.0|         15.0|          4.0|          0.0|          0.0|\n",
      "|          1.0|          2.0|          0.0|          0.0|          0.0|\n",
      "|          2.0|          0.0|          4.0|          0.0|          0.0|\n",
      "|          2.0|          0.0|          4.0|          0.0|          0.0|\n",
      "|          2.0|          0.0|          4.0|          0.0|          0.0|\n",
      "|          0.0|          0.0|          1.0|          0.0|          0.0|\n",
      "|          0.0|         10.0|          1.0|          0.0|          0.0|\n",
      "|          1.0|          2.0|          0.0|          0.0|          0.0|\n",
      "|          4.0|          6.0|          0.0|          0.0|          0.0|\n",
      "|          1.0|          0.0|          2.0|          0.0|          0.0|\n",
      "|          1.0|          2.0|          0.0|          0.0|          0.0|\n",
      "|          0.0|          7.0|          3.0|          1.0|          0.0|\n",
      "|          0.0|         18.0|          1.0|          0.0|          0.0|\n",
      "|          0.0|          0.0|          1.0|          0.0|          0.0|\n",
      "|          0.0|         16.0|          3.0|          1.0|          0.0|\n",
      "|          0.0|          0.0|          1.0|          0.0|          0.0|\n",
      "+-------------+-------------+-------------+-------------+-------------+\n",
      "only showing top 20 rows\n",
      "\n"
     ]
    }
   ],
   "source": [
    "df.select('Route_1_Label','Route_2_Label','Route_3_Label','Route_4_Label','Route_5_Label').show()"
   ]
  },
  {
   "cell_type": "code",
   "execution_count": 234,
   "metadata": {
    "id": "cOPHeaVxxBFF"
   },
   "outputs": [],
   "source": [
    "# Drop Route_1, Route_2, Route_3, Route_4, Route_5 columns\n",
    "df = df.drop('Route_1').drop('Route_2').drop('Route_3').drop('Route_4').drop('Route_5')"
   ]
  },
  {
   "cell_type": "code",
   "execution_count": 235,
   "metadata": {
    "id": "dibcT2ffxBHl"
   },
   "outputs": [],
   "source": [
    "# Convert Route_1_Label, Route_2_Label, Route_3_Label, Route_4_Label, Route_4_Label columns from DoubleType to IntegerType\n",
    "df = df.withColumn('Route_1_Label', col('Route_1_Label').cast(IntegerType()))\\\n",
    "            .withColumn('Route_2_Label', col('Route_2_Label').cast(IntegerType()))\\\n",
    "            .withColumn('Route_3_Label', col('Route_3_Label').cast(IntegerType()))\\\n",
    "            .withColumn('Route_4_Label', col('Route_4_Label').cast(IntegerType()))\\\n",
    "            .withColumn('Route_5_Label', col('Route_5_Label').cast(IntegerType()))"
   ]
  },
  {
   "cell_type": "code",
   "execution_count": 236,
   "metadata": {
    "colab": {
     "base_uri": "https://localhost:8080/"
    },
    "id": "Dtys8dq_xBKN",
    "outputId": "9742849a-fecf-4f42-89f6-75c5d042cddc"
   },
   "outputs": [
    {
     "name": "stdout",
     "output_type": "stream",
     "text": [
      "+-------------+-------------+-------------+-------------+-------------+\n",
      "|Route_1_Label|Route_2_Label|Route_3_Label|Route_4_Label|Route_5_Label|\n",
      "+-------------+-------------+-------------+-------------+-------------+\n",
      "|            2|            1|            0|            0|            0|\n",
      "|            1|           21|           13|            2|            0|\n",
      "|            0|           19|            3|            1|            0|\n",
      "|            1|           15|            2|            0|            0|\n",
      "|            2|           15|            4|            0|            0|\n",
      "+-------------+-------------+-------------+-------------+-------------+\n",
      "only showing top 5 rows\n",
      "\n"
     ]
    }
   ],
   "source": [
    "df.select('Route_1_Label','Route_2_Label','Route_3_Label','Route_4_Label','Route_5_Label').show(5)"
   ]
  },
  {
   "cell_type": "code",
   "execution_count": 237,
   "metadata": {
    "colab": {
     "base_uri": "https://localhost:8080/"
    },
    "id": "tvEMwwWxxBNl",
    "outputId": "98756fd2-3aeb-4897-80e5-3381020cc16d"
   },
   "outputs": [
    {
     "name": "stdout",
     "output_type": "stream",
     "text": [
      "root\n",
      " |-- Kolkata_Des: integer (nullable = false)\n",
      " |-- Delhi_Des: integer (nullable = false)\n",
      " |-- Cochin_Des: integer (nullable = false)\n",
      " |-- New Delhi_Des: integer (nullable = false)\n",
      " |-- Hyderabad_Des: integer (nullable = false)\n",
      " |-- Chennai_Sour: integer (nullable = false)\n",
      " |-- Mumbai_Sour: integer (nullable = false)\n",
      " |-- Kolkata_Sour: integer (nullable = false)\n",
      " |-- Delhi_Sour: integer (nullable = false)\n",
      " |-- Air India_Airline: integer (nullable = false)\n",
      " |-- SpiceJet_Airline: integer (nullable = false)\n",
      " |-- GoAir_Airline: integer (nullable = false)\n",
      " |-- Trujet_Airline: integer (nullable = false)\n",
      " |-- Jet Airways_Airline: integer (nullable = false)\n",
      " |-- Multiple carriers Premium economy_Airline: integer (nullable = false)\n",
      " |-- IndiGo_Airline: integer (nullable = false)\n",
      " |-- Air Asia_Airline: integer (nullable = false)\n",
      " |-- Vistara_Airline: integer (nullable = false)\n",
      " |-- Jet Airways Business_Airline: integer (nullable = false)\n",
      " |-- Multiple carriers_Airline: integer (nullable = false)\n",
      " |-- Vistara Premium economy_Airline: integer (nullable = false)\n",
      " |-- Total_Stops: string (nullable = true)\n",
      " |-- Additional_Info: string (nullable = true)\n",
      " |-- Price: integer (nullable = true)\n",
      " |-- Dep_Hour: integer (nullable = true)\n",
      " |-- Dep_Minute: integer (nullable = true)\n",
      " |-- Journey_Month: integer (nullable = true)\n",
      " |-- Journey_Day: integer (nullable = true)\n",
      " |-- Arrival_Hour: integer (nullable = true)\n",
      " |-- Arrival_Minute: integer (nullable = true)\n",
      " |-- Duration_Hour: integer (nullable = true)\n",
      " |-- Duration_Minute: integer (nullable = true)\n",
      " |-- Route_1_Label: integer (nullable = true)\n",
      " |-- Route_2_Label: integer (nullable = true)\n",
      " |-- Route_3_Label: integer (nullable = true)\n",
      " |-- Route_4_Label: integer (nullable = true)\n",
      " |-- Route_5_Label: integer (nullable = true)\n",
      "\n"
     ]
    }
   ],
   "source": [
    "df.printSchema()"
   ]
  },
  {
   "cell_type": "markdown",
   "metadata": {
    "id": "iZJT-eX-yqt_"
   },
   "source": [
    "#### Handle Total_Stops column"
   ]
  },
  {
   "cell_type": "code",
   "execution_count": 238,
   "metadata": {
    "colab": {
     "base_uri": "https://localhost:8080/"
    },
    "id": "JfDtCCASxWv1",
    "outputId": "c4026a0f-cc9d-41fe-cdb2-be4727808076"
   },
   "outputs": [
    {
     "name": "stdout",
     "output_type": "stream",
     "text": [
      "+---------------------------+\n",
      "|count(DISTINCT Total_Stops)|\n",
      "+---------------------------+\n",
      "|                          5|\n",
      "+---------------------------+\n",
      "\n"
     ]
    }
   ],
   "source": [
    "df.select(countDistinct('Total_Stops')).show()"
   ]
  },
  {
   "cell_type": "code",
   "execution_count": 239,
   "metadata": {
    "colab": {
     "base_uri": "https://localhost:8080/"
    },
    "id": "RC5cpZy6xW3t",
    "outputId": "675302ac-d781-4cf6-8829-6a6d216d1677"
   },
   "outputs": [
    {
     "data": {
      "text/plain": [
       "[Row(Total_Stops='non-stop'),\n",
       " Row(Total_Stops='2 stops'),\n",
       " Row(Total_Stops='1 stop'),\n",
       " Row(Total_Stops='3 stops'),\n",
       " Row(Total_Stops='4 stops')]"
      ]
     },
     "execution_count": 239,
     "metadata": {},
     "output_type": "execute_result"
    }
   ],
   "source": [
    "df.select('Total_Stops').distinct().collect()"
   ]
  },
  {
   "cell_type": "code",
   "execution_count": 240,
   "metadata": {
    "colab": {
     "base_uri": "https://localhost:8080/"
    },
    "id": "M2xlPqe0xW6p",
    "outputId": "8ed4d118-7f1a-4da6-8fdb-f4dee3a1ea1b"
   },
   "outputs": [
    {
     "name": "stdout",
     "output_type": "stream",
     "text": [
      "+-----------+-----+\n",
      "|Total_Stops|count|\n",
      "+-----------+-----+\n",
      "|     1 stop| 5625|\n",
      "|   non-stop| 3491|\n",
      "|    2 stops| 1520|\n",
      "|    3 stops|   45|\n",
      "|    4 stops|    1|\n",
      "+-----------+-----+\n",
      "\n"
     ]
    }
   ],
   "source": [
    "df.groupBy('Total_Stops').count().alias('Count').sort(col('Count').desc()).show()"
   ]
  },
  {
   "cell_type": "code",
   "execution_count": 241,
   "metadata": {
    "colab": {
     "base_uri": "https://localhost:8080/",
     "height": 414
    },
    "id": "oEzWXQ7jxW9G",
    "outputId": "ffc7fe4f-925f-45e6-91b7-9b32bc131bc0"
   },
   "outputs": [
    {
     "data": {
      "text/plain": [
       "<Figure size 1080x576 with 0 Axes>"
      ]
     },
     "metadata": {},
     "output_type": "display_data"
    },
    {
     "data": {
      "image/png": "[encoded data removed]",
      "text/plain": [
       "<Figure size 360x360 with 1 Axes>"
      ]
     },
     "metadata": {
      "needs_background": "light"
     },
     "output_type": "display_data"
    }
   ],
   "source": [
    "plt.figure(figsize=(15,8));\n",
    "sns.catplot(y='Price',x='Total_Stops',data=data.sort_values('Price',ascending=False),kind='boxen');\n",
    "plt.xticks(rotation = 45);"
   ]
  },
  {
   "cell_type": "code",
   "execution_count": 242,
   "metadata": {
    "id": "QVPS7GcxxW_p"
   },
   "outputs": [],
   "source": [
    "df = df.withColumn('Total_Stops',when(col('Total_Stops')=='1 stop',1)\n",
    "                                                    .when(col('Total_Stops')=='2 stops',2)\n",
    "                                                    .when(col('Total_Stops')=='3 stops',3)\n",
    "                                                    .when(col('Total_Stops')=='4 stops',4)\n",
    "                                                    .otherwise(0))"
   ]
  },
  {
   "cell_type": "code",
   "execution_count": 243,
   "metadata": {
    "colab": {
     "base_uri": "https://localhost:8080/"
    },
    "id": "AizKQnf5xXCP",
    "outputId": "a1010e17-0406-49c9-d39b-e7140d61e993"
   },
   "outputs": [
    {
     "name": "stdout",
     "output_type": "stream",
     "text": [
      "+-----------+\n",
      "|Total_Stops|\n",
      "+-----------+\n",
      "|          0|\n",
      "|          2|\n",
      "|          2|\n",
      "|          1|\n",
      "|          1|\n",
      "+-----------+\n",
      "only showing top 5 rows\n",
      "\n"
     ]
    }
   ],
   "source": [
    "df.select('Total_Stops').show(5)"
   ]
  },
  {
   "cell_type": "code",
   "execution_count": 244,
   "metadata": {
    "colab": {
     "base_uri": "https://localhost:8080/"
    },
    "id": "Fp7ipwrt7CrR",
    "outputId": "5cf2f0a6-b2b1-444e-ca39-c42a1dd02ca7"
   },
   "outputs": [
    {
     "data": {
      "text/plain": [
       "[Row(Additional_Info='In-flight meal not included'),\n",
       " Row(Additional_Info='No check-in baggage included'),\n",
       " Row(Additional_Info='No info'),\n",
       " Row(Additional_Info='Business class'),\n",
       " Row(Additional_Info='No Info'),\n",
       " Row(Additional_Info='1 Long layover'),\n",
       " Row(Additional_Info='1 Short layover'),\n",
       " Row(Additional_Info='Change airports'),\n",
       " Row(Additional_Info='2 Long layover'),\n",
       " Row(Additional_Info='Red-eye flight')]"
      ]
     },
     "execution_count": 244,
     "metadata": {},
     "output_type": "execute_result"
    }
   ],
   "source": [
    "df.select('Additional_Info').distinct().collect()"
   ]
  },
  {
   "cell_type": "code",
   "execution_count": 245,
   "metadata": {
    "id": "vRj8VlbBF3aw"
   },
   "outputs": [],
   "source": [
    "df1 = df.groupBy('Additional_Info').count().alias('Count').sort(col('Count').desc())"
   ]
  },
  {
   "cell_type": "code",
   "execution_count": 246,
   "metadata": {
    "colab": {
     "base_uri": "https://localhost:8080/"
    },
    "id": "MDR2YgymKsyo",
    "outputId": "40455f3d-5e01-4a76-a590-0a35f8aa2a75"
   },
   "outputs": [
    {
     "name": "stdout",
     "output_type": "stream",
     "text": [
      "+--------------------+-----+--------------------+\n",
      "|     Additional_Info|count|             Percent|\n",
      "+--------------------+-----+--------------------+\n",
      "|             No info| 8344|    78.1127129750983|\n",
      "|In-flight meal no...| 1982|   18.55457779442052|\n",
      "|No check-in bagga...|  320|  2.9956936903201647|\n",
      "|      1 Long layover|   19| 0.17786931286275978|\n",
      "|     Change airports|    7|  0.0655307994757536|\n",
      "|      Business class|    4| 0.03744617112900206|\n",
      "|             No Info|    3| 0.02808462834675154|\n",
      "|     1 Short layover|    1|0.009361542782250515|\n",
      "|      2 Long layover|    1|0.009361542782250515|\n",
      "|      Red-eye flight|    1|0.009361542782250515|\n",
      "+--------------------+-----+--------------------+\n",
      "\n"
     ]
    }
   ],
   "source": [
    "import pyspark.sql.functions as f\n",
    "from pyspark.sql.window import Window\n",
    "df_percent = df1.withColumn('Percent',f.col('count')/f.sum('count').over(Window.partitionBy())*100)\n",
    "df_percent.show()"
   ]
  },
  {
   "cell_type": "code",
   "execution_count": 247,
   "metadata": {
    "colab": {
     "base_uri": "https://localhost:8080/"
    },
    "id": "ajAGz8CWxXEm",
    "outputId": "3a0d23ec-cf10-421f-c6a2-6cb5851f1840"
   },
   "outputs": [
    {
     "name": "stdout",
     "output_type": "stream",
     "text": [
      "root\n",
      " |-- Kolkata_Des: integer (nullable = false)\n",
      " |-- Delhi_Des: integer (nullable = false)\n",
      " |-- Cochin_Des: integer (nullable = false)\n",
      " |-- New Delhi_Des: integer (nullable = false)\n",
      " |-- Hyderabad_Des: integer (nullable = false)\n",
      " |-- Chennai_Sour: integer (nullable = false)\n",
      " |-- Mumbai_Sour: integer (nullable = false)\n",
      " |-- Kolkata_Sour: integer (nullable = false)\n",
      " |-- Delhi_Sour: integer (nullable = false)\n",
      " |-- Air India_Airline: integer (nullable = false)\n",
      " |-- SpiceJet_Airline: integer (nullable = false)\n",
      " |-- GoAir_Airline: integer (nullable = false)\n",
      " |-- Trujet_Airline: integer (nullable = false)\n",
      " |-- Jet Airways_Airline: integer (nullable = false)\n",
      " |-- Multiple carriers Premium economy_Airline: integer (nullable = false)\n",
      " |-- IndiGo_Airline: integer (nullable = false)\n",
      " |-- Air Asia_Airline: integer (nullable = false)\n",
      " |-- Vistara_Airline: integer (nullable = false)\n",
      " |-- Jet Airways Business_Airline: integer (nullable = false)\n",
      " |-- Multiple carriers_Airline: integer (nullable = false)\n",
      " |-- Vistara Premium economy_Airline: integer (nullable = false)\n",
      " |-- Total_Stops: integer (nullable = false)\n",
      " |-- Additional_Info: string (nullable = true)\n",
      " |-- Price: integer (nullable = true)\n",
      " |-- Dep_Hour: integer (nullable = true)\n",
      " |-- Dep_Minute: integer (nullable = true)\n",
      " |-- Journey_Month: integer (nullable = true)\n",
      " |-- Journey_Day: integer (nullable = true)\n",
      " |-- Arrival_Hour: integer (nullable = true)\n",
      " |-- Arrival_Minute: integer (nullable = true)\n",
      " |-- Duration_Hour: integer (nullable = true)\n",
      " |-- Duration_Minute: integer (nullable = true)\n",
      " |-- Route_1_Label: integer (nullable = true)\n",
      " |-- Route_2_Label: integer (nullable = true)\n",
      " |-- Route_3_Label: integer (nullable = true)\n",
      " |-- Route_4_Label: integer (nullable = true)\n",
      " |-- Route_5_Label: integer (nullable = true)\n",
      "\n"
     ]
    }
   ],
   "source": [
    "df.printSchema()"
   ]
  },
  {
   "cell_type": "code",
   "execution_count": 248,
   "metadata": {
    "colab": {
     "base_uri": "https://localhost:8080/"
    },
    "id": "7k01SzDDJdr7",
    "outputId": "fb984d52-35d8-40eb-af91-3dfafa08b7bc"
   },
   "outputs": [
    {
     "name": "stdout",
     "output_type": "stream",
     "text": [
      "+-----------+---------+----------+-------------+-------------+------------+-----------+------------+----------+-----------------+----------------+-------------+--------------+-------------------+-----------------------------------------+--------------+----------------+---------------+----------------------------+-------------------------+-------------------------------+-----------+--------------------+-----+--------+----------+-------------+-----------+------------+--------------+-------------+---------------+-------------+-------------+-------------+-------------+-------------+\n",
      "|Kolkata_Des|Delhi_Des|Cochin_Des|New Delhi_Des|Hyderabad_Des|Chennai_Sour|Mumbai_Sour|Kolkata_Sour|Delhi_Sour|Air India_Airline|SpiceJet_Airline|GoAir_Airline|Trujet_Airline|Jet Airways_Airline|Multiple carriers Premium economy_Airline|IndiGo_Airline|Air Asia_Airline|Vistara_Airline|Jet Airways Business_Airline|Multiple carriers_Airline|Vistara Premium economy_Airline|Total_Stops|     Additional_Info|Price|Dep_Hour|Dep_Minute|Journey_Month|Journey_Day|Arrival_Hour|Arrival_Minute|Duration_Hour|Duration_Minute|Route_1_Label|Route_2_Label|Route_3_Label|Route_4_Label|Route_5_Label|\n",
      "+-----------+---------+----------+-------------+-------------+------------+-----------+------------+----------+-----------------+----------------+-------------+--------------+-------------------+-----------------------------------------+--------------+----------------+---------------+----------------------------+-------------------------+-------------------------------+-----------+--------------------+-----+--------+----------+-------------+-----------+------------+--------------+-------------+---------------+-------------+-------------+-------------+-------------+-------------+\n",
      "|          0|        0|         0|            1|            0|           0|          0|           0|         0|                0|               0|            0|             0|                  0|                                        0|             1|               0|              0|                           0|                        0|                              0|          0|             No info| 3897|      22|        20|            3|         24|           1|            10|            2|             50|            2|            1|            0|            0|            0|\n",
      "|          0|        0|         0|            0|            0|           0|          0|           1|         0|                1|               0|            0|             0|                  0|                                        0|             0|               0|              0|                           0|                        0|                              0|          2|             No info| 7662|       5|        50|            5|          1|          13|            15|            7|             25|            1|           21|           13|            2|            0|\n",
      "|          0|        0|         1|            0|            0|           0|          0|           0|         1|                0|               0|            0|             0|                  1|                                        0|             0|               0|              0|                           0|                        0|                              0|          2|             No info|13882|       9|        25|            6|          9|           4|            25|           19|              0|            0|           19|            3|            1|            0|\n",
      "|          0|        0|         0|            0|            0|           0|          0|           1|         0|                0|               0|            0|             0|                  0|                                        0|             1|               0|              0|                           0|                        0|                              0|          1|             No info| 6218|      18|         5|            5|         12|          23|            30|            5|             25|            1|           15|            2|            0|            0|\n",
      "|          0|        0|         0|            1|            0|           0|          0|           0|         0|                0|               0|            0|             0|                  0|                                        0|             1|               0|              0|                           0|                        0|                              0|          1|             No info|13302|      16|        50|            3|          1|          21|            35|            4|             45|            2|           15|            4|            0|            0|\n",
      "|          0|        0|         0|            0|            0|           0|          0|           1|         0|                0|               1|            0|             0|                  0|                                        0|             0|               0|              0|                           0|                        0|                              0|          0|             No info| 3873|       9|         0|            6|         24|          11|            25|            2|             25|            1|            2|            0|            0|            0|\n",
      "|          0|        0|         0|            1|            0|           0|          0|           0|         0|                0|               0|            0|             0|                  1|                                        0|             0|               0|              0|                           0|                        0|                              0|          1|In-flight meal no...|11087|      18|        55|            3|         12|          10|            25|           15|             30|            2|            0|            4|            0|            0|\n",
      "|          0|        0|         0|            1|            0|           0|          0|           0|         0|                0|               0|            0|             0|                  1|                                        0|             0|               0|              0|                           0|                        0|                              0|          1|             No info|22270|       8|         0|            3|          1|           5|             5|           21|              5|            2|            0|            4|            0|            0|\n",
      "|          0|        0|         0|            1|            0|           0|          0|           0|         0|                0|               0|            0|             0|                  1|                                        0|             0|               0|              0|                           0|                        0|                              0|          1|In-flight meal no...|11087|       8|        55|            3|         12|          10|            25|           25|             30|            2|            0|            4|            0|            0|\n",
      "|          0|        0|         1|            0|            0|           0|          0|           0|         1|                0|               0|            0|             0|                  0|                                        0|             0|               0|              0|                           0|                        1|                              0|          1|             No info| 8625|      11|        25|            5|         27|          19|            15|            7|             50|            0|            0|            1|            0|            0|\n",
      "|          0|        0|         1|            0|            0|           0|          0|           0|         1|                1|               0|            0|             0|                  0|                                        0|             0|               0|              0|                           0|                        0|                              0|          1|             No info| 8907|       9|        45|            6|          1|          23|             0|           13|             15|            0|           10|            1|            0|            0|\n",
      "|          0|        0|         0|            0|            0|           0|          0|           1|         0|                0|               0|            0|             0|                  0|                                        0|             1|               0|              0|                           0|                        0|                              0|          0|             No info| 4174|      20|        20|            4|         18|          22|            55|            2|             35|            1|            2|            0|            0|            0|\n",
      "|          1|        0|         0|            0|            0|           1|          0|           0|         0|                1|               0|            0|             0|                  0|                                        0|             0|               0|              0|                           0|                        0|                              0|          0|             No info| 4667|      11|        40|            6|         24|          13|            55|            2|             15|            4|            6|            0|            0|            0|\n",
      "|          0|        0|         0|            0|            0|           0|          0|           1|         0|                0|               0|            0|             0|                  1|                                        0|             0|               0|              0|                           0|                        0|                              0|          1|In-flight meal no...| 9663|      21|        10|            5|          9|           9|            20|           12|             10|            1|            0|            2|            0|            0|\n",
      "|          0|        0|         0|            0|            0|           0|          0|           1|         0|                0|               0|            0|             0|                  0|                                        0|             1|               0|              0|                           0|                        0|                              0|          0|             No info| 4804|      17|        15|            4|         24|          19|            50|            2|             35|            1|            2|            0|            0|            0|\n",
      "|          0|        0|         1|            0|            0|           0|          0|           0|         1|                1|               0|            0|             0|                  0|                                        0|             0|               0|              0|                           0|                        0|                              0|          2|             No info|14011|      16|        40|            3|          3|          19|            15|           26|             35|            0|            7|            3|            1|            0|\n",
      "|          0|        0|         1|            0|            0|           0|          0|           0|         1|                0|               1|            0|             0|                  0|                                        0|             0|               0|              0|                           0|                        0|                              0|          1|             No info| 5830|       8|        45|            4|         15|          13|            15|            4|             30|            0|           18|            1|            0|            0|\n",
      "|          0|        0|         1|            0|            0|           0|          0|           0|         1|                0|               0|            0|             0|                  1|                                        0|             0|               0|              0|                           0|                        0|                              0|          1|In-flight meal no...|10262|      14|         0|            6|         12|          12|            35|           22|             35|            0|            0|            1|            0|            0|\n",
      "|          0|        0|         1|            0|            0|           0|          0|           0|         1|                1|               0|            0|             0|                  0|                                        0|             0|               0|              0|                           0|                        0|                              0|          2|             No info|13381|      20|        15|            6|         12|          19|            15|           23|              0|            0|           16|            3|            1|            0|\n",
      "|          0|        0|         1|            0|            0|           0|          0|           0|         1|                0|               0|            0|             0|                  1|                                        0|             0|               0|              0|                           0|                        0|                              0|          1|In-flight meal no...|12898|      16|         0|            5|         27|          12|            35|           20|             35|            0|            0|            1|            0|            0|\n",
      "+-----------+---------+----------+-------------+-------------+------------+-----------+------------+----------+-----------------+----------------+-------------+--------------+-------------------+-----------------------------------------+--------------+----------------+---------------+----------------------------+-------------------------+-------------------------------+-----------+--------------------+-----+--------+----------+-------------+-----------+------------+--------------+-------------+---------------+-------------+-------------+-------------+-------------+-------------+\n",
      "only showing top 20 rows\n",
      "\n"
     ]
    }
   ],
   "source": [
    "df.show()"
   ]
  },
  {
   "cell_type": "markdown",
   "metadata": {
    "id": "FFvLkjK2ybe7"
   },
   "source": [
    "## Outlier Detection"
   ]
  },
  {
   "cell_type": "code",
   "execution_count": 249,
   "metadata": {
    "id": "5Wuzu4WTxXKF"
   },
   "outputs": [],
   "source": [
    "def plot(df,col):\n",
    "    fig,(ax1,ax2)=plt.subplots(2,1)\n",
    "    sns.distplot(df[col],ax=ax1)\n",
    "    sns.boxplot(df[col],ax=ax2)"
   ]
  },
  {
   "cell_type": "code",
   "execution_count": 250,
   "metadata": {
    "colab": {
     "base_uri": "https://localhost:8080/",
     "height": 296
    },
    "id": "lrENQVCQxXP5",
    "outputId": "240b2b61-2232-4fac-8eb0-bc9c53ee404c"
   },
   "outputs": [
    {
     "data": {
      "text/plain": [
       "<Figure size 2160x1440 with 0 Axes>"
      ]
     },
     "metadata": {},
     "output_type": "display_data"
    },
    {
     "data": {
      "image/png": "[encoded data removed]",
      "text/plain": [
       "<Figure size 432x288 with 2 Axes>"
      ]
     },
     "metadata": {
      "needs_background": "light"
     },
     "output_type": "display_data"
    }
   ],
   "source": [
    "dataPlot = df.toPandas()\n",
    "plt.figure(figsize=(30,20));\n",
    "plot(dataPlot,'Price');"
   ]
  },
  {
   "cell_type": "code",
   "execution_count": 254,
   "metadata": {
    "colab": {
     "base_uri": "https://localhost:8080/"
    },
    "id": "iyEC4Vn_Cwew",
    "outputId": "4772998c-35ff-43b5-aff7-31f1ff263a67"
   },
   "outputs": [
    {
     "data": {
      "text/plain": [
       "113"
      ]
     },
     "execution_count": 254,
     "metadata": {},
     "output_type": "execute_result"
    }
   ],
   "source": [
    "df.filter('Price>=22270').count()"
   ]
  },
  {
   "cell_type": "code",
   "execution_count": 255,
   "metadata": {
    "colab": {
     "base_uri": "https://localhost:8080/",
     "height": 411
    },
    "id": "k0bubxXPDPwm",
    "outputId": "d2ad068a-2d7d-484e-cb38-727f7f38b83a"
   },
   "outputs": [
    {
     "data": {
      "text/html": [
       "\n",
       "  <div id=\"df-bbfc3296-8910-4b91-9ced-20139280dbdc\">\n",
       "    <div class=\"colab-df-container\">\n",
       "      <div>\n",
       "<style scoped>\n",
       "    .dataframe tbody tr th:only-of-type {\n",
       "        vertical-align: middle;\n",
       "    }\n",
       "\n",
       "    .dataframe tbody tr th {\n",
       "        vertical-align: top;\n",
       "    }\n",
       "\n",
       "    .dataframe thead th {\n",
       "        text-align: right;\n",
       "    }\n",
       "</style>\n",
       "<table border=\"1\" class=\"dataframe\">\n",
       "  <thead>\n",
       "    <tr style=\"text-align: right;\">\n",
       "      <th></th>\n",
       "      <th>Kolkata_Des</th>\n",
       "      <th>Delhi_Des</th>\n",
       "      <th>Cochin_Des</th>\n",
       "      <th>New Delhi_Des</th>\n",
       "      <th>Hyderabad_Des</th>\n",
       "      <th>Chennai_Sour</th>\n",
       "      <th>Mumbai_Sour</th>\n",
       "      <th>Kolkata_Sour</th>\n",
       "      <th>Delhi_Sour</th>\n",
       "      <th>Air India_Airline</th>\n",
       "      <th>...</th>\n",
       "      <th>Journey_Day</th>\n",
       "      <th>Arrival_Hour</th>\n",
       "      <th>Arrival_Minute</th>\n",
       "      <th>Duration_Hour</th>\n",
       "      <th>Duration_Minute</th>\n",
       "      <th>Route_1_Label</th>\n",
       "      <th>Route_2_Label</th>\n",
       "      <th>Route_3_Label</th>\n",
       "      <th>Route_4_Label</th>\n",
       "      <th>Route_5_Label</th>\n",
       "    </tr>\n",
       "  </thead>\n",
       "  <tbody>\n",
       "    <tr>\n",
       "      <th>count</th>\n",
       "      <td>10682.000000</td>\n",
       "      <td>10682.000000</td>\n",
       "      <td>10682.000000</td>\n",
       "      <td>10682.000000</td>\n",
       "      <td>10682.000000</td>\n",
       "      <td>10682.000000</td>\n",
       "      <td>10682.000000</td>\n",
       "      <td>10682.000000</td>\n",
       "      <td>10682.000000</td>\n",
       "      <td>10682.000000</td>\n",
       "      <td>...</td>\n",
       "      <td>10682.000000</td>\n",
       "      <td>10682.000000</td>\n",
       "      <td>10682.000000</td>\n",
       "      <td>10681.000000</td>\n",
       "      <td>10682.000000</td>\n",
       "      <td>10682.000000</td>\n",
       "      <td>10682.000000</td>\n",
       "      <td>10682.000000</td>\n",
       "      <td>10682.000000</td>\n",
       "      <td>10682.000000</td>\n",
       "    </tr>\n",
       "    <tr>\n",
       "      <th>mean</th>\n",
       "      <td>0.035667</td>\n",
       "      <td>0.118424</td>\n",
       "      <td>0.424640</td>\n",
       "      <td>0.087250</td>\n",
       "      <td>0.065250</td>\n",
       "      <td>0.035667</td>\n",
       "      <td>0.065250</td>\n",
       "      <td>0.268770</td>\n",
       "      <td>0.424640</td>\n",
       "      <td>0.163921</td>\n",
       "      <td>...</td>\n",
       "      <td>13.509081</td>\n",
       "      <td>13.349186</td>\n",
       "      <td>24.690601</td>\n",
       "      <td>10.245857</td>\n",
       "      <td>28.326156</td>\n",
       "      <td>1.018536</td>\n",
       "      <td>4.127504</td>\n",
       "      <td>1.606160</td>\n",
       "      <td>0.220090</td>\n",
       "      <td>0.007583</td>\n",
       "    </tr>\n",
       "    <tr>\n",
       "      <th>std</th>\n",
       "      <td>0.185468</td>\n",
       "      <td>0.323124</td>\n",
       "      <td>0.494311</td>\n",
       "      <td>0.282214</td>\n",
       "      <td>0.246978</td>\n",
       "      <td>0.185468</td>\n",
       "      <td>0.246978</td>\n",
       "      <td>0.443341</td>\n",
       "      <td>0.494311</td>\n",
       "      <td>0.370221</td>\n",
       "      <td>...</td>\n",
       "      <td>8.479363</td>\n",
       "      <td>6.859317</td>\n",
       "      <td>16.506808</td>\n",
       "      <td>8.494735</td>\n",
       "      <td>16.946530</td>\n",
       "      <td>1.100949</td>\n",
       "      <td>6.123563</td>\n",
       "      <td>2.335419</td>\n",
       "      <td>0.681147</td>\n",
       "      <td>0.132806</td>\n",
       "    </tr>\n",
       "    <tr>\n",
       "      <th>min</th>\n",
       "      <td>0.000000</td>\n",
       "      <td>0.000000</td>\n",
       "      <td>0.000000</td>\n",
       "      <td>0.000000</td>\n",
       "      <td>0.000000</td>\n",
       "      <td>0.000000</td>\n",
       "      <td>0.000000</td>\n",
       "      <td>0.000000</td>\n",
       "      <td>0.000000</td>\n",
       "      <td>0.000000</td>\n",
       "      <td>...</td>\n",
       "      <td>1.000000</td>\n",
       "      <td>0.000000</td>\n",
       "      <td>0.000000</td>\n",
       "      <td>1.000000</td>\n",
       "      <td>0.000000</td>\n",
       "      <td>0.000000</td>\n",
       "      <td>0.000000</td>\n",
       "      <td>0.000000</td>\n",
       "      <td>0.000000</td>\n",
       "      <td>0.000000</td>\n",
       "    </tr>\n",
       "    <tr>\n",
       "      <th>25%</th>\n",
       "      <td>0.000000</td>\n",
       "      <td>0.000000</td>\n",
       "      <td>0.000000</td>\n",
       "      <td>0.000000</td>\n",
       "      <td>0.000000</td>\n",
       "      <td>0.000000</td>\n",
       "      <td>0.000000</td>\n",
       "      <td>0.000000</td>\n",
       "      <td>0.000000</td>\n",
       "      <td>0.000000</td>\n",
       "      <td>...</td>\n",
       "      <td>6.000000</td>\n",
       "      <td>8.000000</td>\n",
       "      <td>10.000000</td>\n",
       "      <td>2.000000</td>\n",
       "      <td>15.000000</td>\n",
       "      <td>0.000000</td>\n",
       "      <td>0.000000</td>\n",
       "      <td>0.000000</td>\n",
       "      <td>0.000000</td>\n",
       "      <td>0.000000</td>\n",
       "    </tr>\n",
       "    <tr>\n",
       "      <th>50%</th>\n",
       "      <td>0.000000</td>\n",
       "      <td>0.000000</td>\n",
       "      <td>0.000000</td>\n",
       "      <td>0.000000</td>\n",
       "      <td>0.000000</td>\n",
       "      <td>0.000000</td>\n",
       "      <td>0.000000</td>\n",
       "      <td>0.000000</td>\n",
       "      <td>0.000000</td>\n",
       "      <td>0.000000</td>\n",
       "      <td>...</td>\n",
       "      <td>12.000000</td>\n",
       "      <td>14.000000</td>\n",
       "      <td>25.000000</td>\n",
       "      <td>8.000000</td>\n",
       "      <td>30.000000</td>\n",
       "      <td>1.000000</td>\n",
       "      <td>1.000000</td>\n",
       "      <td>1.000000</td>\n",
       "      <td>0.000000</td>\n",
       "      <td>0.000000</td>\n",
       "    </tr>\n",
       "    <tr>\n",
       "      <th>75%</th>\n",
       "      <td>0.000000</td>\n",
       "      <td>0.000000</td>\n",
       "      <td>1.000000</td>\n",
       "      <td>0.000000</td>\n",
       "      <td>0.000000</td>\n",
       "      <td>0.000000</td>\n",
       "      <td>0.000000</td>\n",
       "      <td>1.000000</td>\n",
       "      <td>1.000000</td>\n",
       "      <td>0.000000</td>\n",
       "      <td>...</td>\n",
       "      <td>21.000000</td>\n",
       "      <td>19.000000</td>\n",
       "      <td>35.000000</td>\n",
       "      <td>15.000000</td>\n",
       "      <td>45.000000</td>\n",
       "      <td>2.000000</td>\n",
       "      <td>6.000000</td>\n",
       "      <td>2.000000</td>\n",
       "      <td>0.000000</td>\n",
       "      <td>0.000000</td>\n",
       "    </tr>\n",
       "    <tr>\n",
       "      <th>max</th>\n",
       "      <td>1.000000</td>\n",
       "      <td>1.000000</td>\n",
       "      <td>1.000000</td>\n",
       "      <td>1.000000</td>\n",
       "      <td>1.000000</td>\n",
       "      <td>1.000000</td>\n",
       "      <td>1.000000</td>\n",
       "      <td>1.000000</td>\n",
       "      <td>1.000000</td>\n",
       "      <td>1.000000</td>\n",
       "      <td>...</td>\n",
       "      <td>27.000000</td>\n",
       "      <td>23.000000</td>\n",
       "      <td>55.000000</td>\n",
       "      <td>47.000000</td>\n",
       "      <td>55.000000</td>\n",
       "      <td>4.000000</td>\n",
       "      <td>44.000000</td>\n",
       "      <td>29.000000</td>\n",
       "      <td>13.000000</td>\n",
       "      <td>5.000000</td>\n",
       "    </tr>\n",
       "  </tbody>\n",
       "</table>\n",
       "<p>8 rows × 36 columns</p>\n",
       "</div>\n",
       "      <button class=\"colab-df-convert\" onclick=\"convertToInteractive('df-bbfc3296-8910-4b91-9ced-20139280dbdc')\"\n",
       "              title=\"Convert this dataframe to an interactive table.\"\n",
       "              style=\"display:none;\">\n",
       "        \n",
       "  <svg xmlns=\"http://www.w3.org/2000/svg\" height=\"24px\"viewBox=\"0 0 24 24\"\n",
       "       width=\"24px\">\n",
       "    <path d=\"M0 0h24v24H0V0z\" fill=\"none\"/>\n",
       "    <path d=\"M18.56 5.44l.94 2.06.94-2.06 2.06-.94-2.06-.94-.94-2.06-.94 2.06-2.06.94zm-11 1L8.5 8.5l.94-2.06 2.06-.94-2.06-.94L8.5 2.5l-.94 2.06-2.06.94zm10 10l.94 2.06.94-2.06 2.06-.94-2.06-.94-.94-2.06-.94 2.06-2.06.94z\"/><path d=\"M17.41 7.96l-1.37-1.37c-.4-.4-.92-.59-1.43-.59-.52 0-1.04.2-1.43.59L10.3 9.45l-7.72 7.72c-.78.78-.78 2.05 0 2.83L4 21.41c.39.39.9.59 1.41.59.51 0 1.02-.2 1.41-.59l7.78-7.78 2.81-2.81c.8-.78.8-2.07 0-2.86zM5.41 20L4 18.59l7.72-7.72 1.47 1.35L5.41 20z\"/>\n",
       "  </svg>\n",
       "      </button>\n",
       "      \n",
       "  <style>\n",
       "    .colab-df-container {\n",
       "      display:flex;\n",
       "      flex-wrap:wrap;\n",
       "      gap: 12px;\n",
       "    }\n",
       "\n",
       "    .colab-df-convert {\n",
       "      background-color: #E8F0FE;\n",
       "      border: none;\n",
       "      border-radius: 50%;\n",
       "      cursor: pointer;\n",
       "      display: none;\n",
       "      fill: #1967D2;\n",
       "      height: 32px;\n",
       "      padding: 0 0 0 0;\n",
       "      width: 32px;\n",
       "    }\n",
       "\n",
       "    .colab-df-convert:hover {\n",
       "      background-color: #E2EBFA;\n",
       "      box-shadow: 0px 1px 2px rgba(60, 64, 67, 0.3), 0px 1px 3px 1px rgba(60, 64, 67, 0.15);\n",
       "      fill: #174EA6;\n",
       "    }\n",
       "\n",
       "    [theme=dark] .colab-df-convert {\n",
       "      background-color: #3B4455;\n",
       "      fill: #D2E3FC;\n",
       "    }\n",
       "\n",
       "    [theme=dark] .colab-df-convert:hover {\n",
       "      background-color: #434B5C;\n",
       "      box-shadow: 0px 1px 3px 1px rgba(0, 0, 0, 0.15);\n",
       "      filter: drop-shadow(0px 1px 2px rgba(0, 0, 0, 0.3));\n",
       "      fill: #FFFFFF;\n",
       "    }\n",
       "  </style>\n",
       "\n",
       "      <script>\n",
       "        const buttonEl =\n",
       "          document.querySelector('#df-bbfc3296-8910-4b91-9ced-20139280dbdc button.colab-df-convert');\n",
       "        buttonEl.style.display =\n",
       "          google.colab.kernel.accessAllowed ? 'block' : 'none';\n",
       "\n",
       "        async function convertToInteractive(key) {\n",
       "          const element = document.querySelector('#df-bbfc3296-8910-4b91-9ced-20139280dbdc');\n",
       "          const dataTable =\n",
       "            await google.colab.kernel.invokeFunction('convertToInteractive',\n",
       "                                                     [key], {});\n",
       "          if (!dataTable) return;\n",
       "\n",
       "          const docLinkHtml = 'Like what you see? Visit the ' +\n",
       "            '<a target=\"_blank\" href=https://colab.research.google.com/notebooks/data_table.ipynb>data table notebook</a>'\n",
       "            + ' to learn more about interactive tables.';\n",
       "          element.innerHTML = '';\n",
       "          dataTable['output_type'] = 'display_data';\n",
       "          await google.colab.output.renderOutput(dataTable, element);\n",
       "          const docLink = document.createElement('div');\n",
       "          docLink.innerHTML = docLinkHtml;\n",
       "          element.appendChild(docLink);\n",
       "        }\n",
       "      </script>\n",
       "    </div>\n",
       "  </div>\n",
       "  "
      ],
      "text/plain": [
       "        Kolkata_Des     Delhi_Des    Cochin_Des  New Delhi_Des  Hyderabad_Des  \\\n",
       "count  10682.000000  10682.000000  10682.000000   10682.000000   10682.000000   \n",
       "mean       0.035667      0.118424      0.424640       0.087250       0.065250   \n",
       "std        0.185468      0.323124      0.494311       0.282214       0.246978   \n",
       "min        0.000000      0.000000      0.000000       0.000000       0.000000   \n",
       "25%        0.000000      0.000000      0.000000       0.000000       0.000000   \n",
       "50%        0.000000      0.000000      0.000000       0.000000       0.000000   \n",
       "75%        0.000000      0.000000      1.000000       0.000000       0.000000   \n",
       "max        1.000000      1.000000      1.000000       1.000000       1.000000   \n",
       "\n",
       "       Chennai_Sour   Mumbai_Sour  Kolkata_Sour    Delhi_Sour  \\\n",
       "count  10682.000000  10682.000000  10682.000000  10682.000000   \n",
       "mean       0.035667      0.065250      0.268770      0.424640   \n",
       "std        0.185468      0.246978      0.443341      0.494311   \n",
       "min        0.000000      0.000000      0.000000      0.000000   \n",
       "25%        0.000000      0.000000      0.000000      0.000000   \n",
       "50%        0.000000      0.000000      0.000000      0.000000   \n",
       "75%        0.000000      0.000000      1.000000      1.000000   \n",
       "max        1.000000      1.000000      1.000000      1.000000   \n",
       "\n",
       "       Air India_Airline  ...   Journey_Day  Arrival_Hour  Arrival_Minute  \\\n",
       "count       10682.000000  ...  10682.000000  10682.000000    10682.000000   \n",
       "mean            0.163921  ...     13.509081     13.349186       24.690601   \n",
       "std             0.370221  ...      8.479363      6.859317       16.506808   \n",
       "min             0.000000  ...      1.000000      0.000000        0.000000   \n",
       "25%             0.000000  ...      6.000000      8.000000       10.000000   \n",
       "50%             0.000000  ...     12.000000     14.000000       25.000000   \n",
       "75%             0.000000  ...     21.000000     19.000000       35.000000   \n",
       "max             1.000000  ...     27.000000     23.000000       55.000000   \n",
       "\n",
       "       Duration_Hour  Duration_Minute  Route_1_Label  Route_2_Label  \\\n",
       "count   10681.000000     10682.000000   10682.000000   10682.000000   \n",
       "mean       10.245857        28.326156       1.018536       4.127504   \n",
       "std         8.494735        16.946530       1.100949       6.123563   \n",
       "min         1.000000         0.000000       0.000000       0.000000   \n",
       "25%         2.000000        15.000000       0.000000       0.000000   \n",
       "50%         8.000000        30.000000       1.000000       1.000000   \n",
       "75%        15.000000        45.000000       2.000000       6.000000   \n",
       "max        47.000000        55.000000       4.000000      44.000000   \n",
       "\n",
       "       Route_3_Label  Route_4_Label  Route_5_Label  \n",
       "count   10682.000000   10682.000000   10682.000000  \n",
       "mean        1.606160       0.220090       0.007583  \n",
       "std         2.335419       0.681147       0.132806  \n",
       "min         0.000000       0.000000       0.000000  \n",
       "25%         0.000000       0.000000       0.000000  \n",
       "50%         1.000000       0.000000       0.000000  \n",
       "75%         2.000000       0.000000       0.000000  \n",
       "max        29.000000      13.000000       5.000000  \n",
       "\n",
       "[8 rows x 36 columns]"
      ]
     },
     "execution_count": 255,
     "metadata": {},
     "output_type": "execute_result"
    }
   ],
   "source": [
    "df.toPandas().describe()"
   ]
  },
  {
   "cell_type": "code",
   "execution_count": 256,
   "metadata": {
    "id": "zObErr0bA5Eb"
   },
   "outputs": [],
   "source": [
    "df1 = df.filter('Price <= 22270')"
   ]
  },
  {
   "cell_type": "code",
   "execution_count": 257,
   "metadata": {
    "colab": {
     "base_uri": "https://localhost:8080/",
     "height": 296
    },
    "id": "jXr2Fvnixqne",
    "outputId": "4d1147ab-4ac7-4e3b-fd87-9eb554038dde"
   },
   "outputs": [
    {
     "data": {
      "text/plain": [
       "<Figure size 2160x1440 with 0 Axes>"
      ]
     },
     "metadata": {},
     "output_type": "display_data"
    },
    {
     "data": {
      "image/png": "[encoded data removed]",
      "text/plain": [
       "<Figure size 432x288 with 2 Axes>"
      ]
     },
     "metadata": {
      "needs_background": "light"
     },
     "output_type": "display_data"
    }
   ],
   "source": [
    "plt.figure(figsize=(30,20));\n",
    "plot(df1.toPandas(),'Price') ; "
   ]
  },
  {
   "cell_type": "code",
   "execution_count": 258,
   "metadata": {
    "colab": {
     "base_uri": "https://localhost:8080/"
    },
    "id": "Yxuela8p2egw",
    "outputId": "1719bc51-9e8d-4f90-fb95-ee013e020915"
   },
   "outputs": [
    {
     "data": {
      "text/plain": [
       "10582"
      ]
     },
     "execution_count": 258,
     "metadata": {},
     "output_type": "execute_result"
    }
   ],
   "source": [
    "df1.count()"
   ]
  },
  {
   "cell_type": "code",
   "execution_count": 259,
   "metadata": {
    "id": "rfs7t4FNxqqR"
   },
   "outputs": [],
   "source": [
    "# Split data to Data Train and Data Test \n",
    "(trainDF, testDF) = df1.randomSplit([.8, .2], seed=1)"
   ]
  },
  {
   "cell_type": "code",
   "execution_count": 260,
   "metadata": {
    "colab": {
     "base_uri": "https://localhost:8080/"
    },
    "id": "wmxbmZ_sxqtF",
    "outputId": "6c722bd7-5f01-478e-9e41-2e40530f6b94"
   },
   "outputs": [
    {
     "name": "stdout",
     "output_type": "stream",
     "text": [
      "+--------------------+-----+\n",
      "|            features|Price|\n",
      "+--------------------+-----+\n",
      "|(34,[0,1,2,3,15,2...| 7927|\n",
      "|(34,[0,1,2,3,15,2...| 7927|\n",
      "|(34,[0,1,2,3,15,2...| 7927|\n",
      "+--------------------+-----+\n",
      "only showing top 3 rows\n",
      "\n"
     ]
    }
   ],
   "source": [
    "from pyspark.ml.feature import VectorAssembler\n",
    "\n",
    "assembler = VectorAssembler(inputCols=['Total_Stops', 'Route_1_Label', 'Route_2_Label', 'Route_3_Label', 'Route_4_Label', \n",
    "                                       'Route_5_Label','Air India_Airline','GoAir_Airline','IndiGo_Airline','Jet Airways_Airline','Jet Airways Business_Airline','Multiple carriers_Airline',\n",
    "                    'Multiple carriers Premium economy_Airline','SpiceJet_Airline','Trujet_Airline','Vistara_Airline','Vistara Premium economy_Airline','Kolkata_Des','Delhi_Des',\n",
    "                                       'Cochin_Des','New Delhi_Des','Hyderabad_Des','Chennai_Sour','Mumbai_Sour','Kolkata_Sour',\n",
    "                                       'Delhi_Sour', 'Journey_Day', 'Journey_Month', 'Dep_Hour',\n",
    "                                       'Dep_Minute', 'Arrival_Hour', 'Arrival_Minute',\n",
    "                                       'Duration_Hour', 'Duration_Minute'], outputCol='features') \n",
    "assembler_train = assembler.setHandleInvalid(\"skip\").transform(trainDF)\n",
    "final_train = assembler_train.select('features','Price')\n",
    "final_train.show(3)"
   ]
  },
  {
   "cell_type": "markdown",
   "metadata": {
    "id": "Wcbsj9zg9E4I"
   },
   "source": [
    "## Build model and pipeline"
   ]
  },
  {
   "cell_type": "code",
   "execution_count": 261,
   "metadata": {
    "id": "PPmN1-XFx7sE"
   },
   "outputs": [],
   "source": [
    "from pyspark.ml import Pipeline\n",
    "from pyspark.ml.linalg import Vectors\n",
    "from pyspark.ml.feature import StringIndexer, VectorIndexer, IndexToString"
   ]
  },
  {
   "cell_type": "code",
   "execution_count": 262,
   "metadata": {
    "id": "QYWGhdYwx7us"
   },
   "outputs": [],
   "source": [
    "from pyspark.ml.regression import RandomForestRegressor\n",
    "rfr = RandomForestRegressor(featuresCol = 'features', labelCol='Price')"
   ]
  },
  {
   "cell_type": "code",
   "execution_count": 263,
   "metadata": {
    "id": "3r_sgni5x7xo"
   },
   "outputs": [],
   "source": [
    "from pyspark.ml.regression import DecisionTreeRegressor\n",
    "dt = DecisionTreeRegressor(featuresCol = 'features', labelCol='Price')"
   ]
  },
  {
   "cell_type": "code",
   "execution_count": 264,
   "metadata": {
    "id": "h8H2XQAEx705"
   },
   "outputs": [],
   "source": [
    "from pyspark.ml.regression import GBTRegressor\n",
    "gbt = GBTRegressor(featuresCol = 'features', labelCol='Price')"
   ]
  },
  {
   "cell_type": "code",
   "execution_count": 265,
   "metadata": {
    "id": "NZTG1z0RyB_X"
   },
   "outputs": [],
   "source": [
    "from pyspark.ml.regression import LinearRegression\n",
    "lr = LinearRegression(featuresCol = 'features', labelCol='Price')"
   ]
  },
  {
   "cell_type": "code",
   "execution_count": 266,
   "metadata": {
    "id": "VN9L0qxiyCEV"
   },
   "outputs": [],
   "source": [
    "from pyspark.ml.evaluation import RegressionEvaluator\n",
    "stages_ = [dt, rfr, gbt, lr]"
   ]
  },
  {
   "cell_type": "code",
   "execution_count": 267,
   "metadata": {
    "colab": {
     "base_uri": "https://localhost:8080/"
    },
    "id": "g_qx1aVsyCHE",
    "outputId": "aae58df3-93a9-4b97-8886-65e5c86d6999"
   },
   "outputs": [
    {
     "name": "stdout",
     "output_type": "stream",
     "text": [
      "+-----------------+-----+--------------------+\n",
      "|       prediction|Price|            features|\n",
      "+-----------------+-----+--------------------+\n",
      "|7374.681295715778| 7980|(34,[0,1,2,3,15,2...|\n",
      "|7374.681295715778| 8295|(34,[0,1,2,3,15,2...|\n",
      "|7374.681295715778| 8452|(34,[0,1,2,3,15,2...|\n",
      "|7374.681295715778| 8452|(34,[0,1,2,3,15,2...|\n",
      "|7374.681295715778| 8452|(34,[0,1,2,3,15,2...|\n",
      "+-----------------+-----+--------------------+\n",
      "only showing top 5 rows\n",
      "\n",
      "Root Mean Squared Error (RMSE) on test data = 2287.63\n",
      "R Squared (R^2) on test data = 0.685356\n",
      "+-----------------+-----+--------------------+\n",
      "|       prediction|Price|            features|\n",
      "+-----------------+-----+--------------------+\n",
      "|9204.175751483592| 7980|(34,[0,1,2,3,15,2...|\n",
      "|9219.514932536611| 8295|(34,[0,1,2,3,15,2...|\n",
      "|9219.514932536611| 8452|(34,[0,1,2,3,15,2...|\n",
      "|9219.514932536611| 8452|(34,[0,1,2,3,15,2...|\n",
      "|9204.175751483592| 8452|(34,[0,1,2,3,15,2...|\n",
      "+-----------------+-----+--------------------+\n",
      "only showing top 5 rows\n",
      "\n",
      "Root Mean Squared Error (RMSE) on test data = 2235.96\n",
      "R Squared (R^2) on test data = 0.699411\n",
      "+------------------+-----+--------------------+\n",
      "|        prediction|Price|            features|\n",
      "+------------------+-----+--------------------+\n",
      "| 7702.603236342424| 7980|(34,[0,1,2,3,15,2...|\n",
      "|8022.8072277760075| 8295|(34,[0,1,2,3,15,2...|\n",
      "| 8437.130388667172| 8452|(34,[0,1,2,3,15,2...|\n",
      "| 8428.741274799859| 8452|(34,[0,1,2,3,15,2...|\n",
      "| 8198.900828447297| 8452|(34,[0,1,2,3,15,2...|\n",
      "+------------------+-----+--------------------+\n",
      "only showing top 5 rows\n",
      "\n",
      "Root Mean Squared Error (RMSE) on test data = 1759.75\n",
      "R Squared (R^2) on test data = 0.813814\n",
      "+------------------+-----+--------------------+\n",
      "|        prediction|Price|            features|\n",
      "+------------------+-----+--------------------+\n",
      "|10383.030759423928| 7980|(34,[0,1,2,3,15,2...|\n",
      "|10403.797521902576| 8295|(34,[0,1,2,3,15,2...|\n",
      "|10043.044417940047| 8452|(34,[0,1,2,3,15,2...|\n",
      "| 9759.759594389783| 8452|(34,[0,1,2,3,15,2...|\n",
      "| 9421.948115324327| 8452|(34,[0,1,2,3,15,2...|\n",
      "+------------------+-----+--------------------+\n",
      "only showing top 5 rows\n",
      "\n",
      "Root Mean Squared Error (RMSE) on test data = 2410.24\n",
      "R Squared (R^2) on test data = 0.650723\n"
     ]
    }
   ],
   "source": [
    "for stage in stages_:\n",
    "    \n",
    "    #build pipeline for each method\n",
    "    pipeline = Pipeline(stages=[assembler, stage])\n",
    "\n",
    "    # fit model\n",
    "    #stage.setMaxBins(40)\n",
    "\n",
    "    model = pipeline.fit(trainDF)\n",
    "    \n",
    "    # predict and evaluate model\n",
    "\n",
    "    predictions = model.transform(testDF)\n",
    "\n",
    "    predictions.select(\"prediction\",\"Price\", \"features\").show(5)\n",
    "\n",
    "    evaluator = RegressionEvaluator(labelCol=\"Price\", predictionCol=\"prediction\", metricName=\"rmse\")\n",
    "\n",
    "    # RMSE\n",
    "    rmse = evaluator.evaluate(predictions)\n",
    "    print(\"Root Mean Squared Error (RMSE) on test data = %g\" % rmse)\n",
    "\n",
    "    # R squared\n",
    "    r2 = evaluator.evaluate(predictions, {evaluator.metricName: \"r2\"})\n",
    "    print(\"R Squared (R^2) on test data = %g\" % r2)"
   ]
  },
  {
   "cell_type": "markdown",
   "metadata": {
    "id": "r6AyvBiF-LsT"
   },
   "source": [
    "### Hyperparameter tuning"
   ]
  },
  {
   "cell_type": "code",
   "execution_count": 268,
   "metadata": {
    "id": "7RdohJV5qWaJ"
   },
   "outputs": [],
   "source": [
    "maxDepth = []\n",
    "for i in range(1,10):\n",
    "  maxDepth.append(i)"
   ]
  },
  {
   "cell_type": "markdown",
   "metadata": {
    "id": "W6bFcXin45bM"
   },
   "source": [
    "#### Random forest"
   ]
  },
  {
   "cell_type": "code",
   "execution_count": 269,
   "metadata": {
    "colab": {
     "base_uri": "https://localhost:8080/"
    },
    "id": "Ip8aKCkv19IU",
    "outputId": "362c9e68-0cd0-4a2a-ae06-b659cb1b1c07"
   },
   "outputs": [
    {
     "name": "stdout",
     "output_type": "stream",
     "text": [
      "                                           Regression         RMSE\n",
      "17  {RandomForestRegressor_91e782516a5b__numTrees:...  1664.778540\n",
      "8   {RandomForestRegressor_91e782516a5b__numTrees:...  1684.699058\n",
      "16  {RandomForestRegressor_91e782516a5b__numTrees:...  1725.267705\n",
      "7   {RandomForestRegressor_91e782516a5b__numTrees:...  1740.524049\n",
      "15  {RandomForestRegressor_91e782516a5b__numTrees:...  1799.683800\n",
      "6   {RandomForestRegressor_91e782516a5b__numTrees:...  1815.676188\n",
      "14  {RandomForestRegressor_91e782516a5b__numTrees:...  1889.418643\n",
      "5   {RandomForestRegressor_91e782516a5b__numTrees:...  1907.239517\n",
      "13  {RandomForestRegressor_91e782516a5b__numTrees:...  1990.429600\n",
      "4   {RandomForestRegressor_91e782516a5b__numTrees:...  2000.863406\n",
      "12  {RandomForestRegressor_91e782516a5b__numTrees:...  2110.753455\n",
      "3   {RandomForestRegressor_91e782516a5b__numTrees:...  2124.603338\n",
      "11  {RandomForestRegressor_91e782516a5b__numTrees:...  2268.912806\n",
      "2   {RandomForestRegressor_91e782516a5b__numTrees:...  2327.363068\n",
      "10  {RandomForestRegressor_91e782516a5b__numTrees:...  2494.217594\n",
      "1   {RandomForestRegressor_91e782516a5b__numTrees:...  2556.532424\n",
      "9   {RandomForestRegressor_91e782516a5b__numTrees:...  2848.030035\n",
      "0   {RandomForestRegressor_91e782516a5b__numTrees:...  2884.130852\n"
     ]
    }
   ],
   "source": [
    "from pyspark.ml.tuning import CrossValidator\n",
    "from pyspark.ml.tuning import ParamGridBuilder\n",
    "\n",
    "paramGrid_rfr = ParamGridBuilder().addGrid(rfr.numTrees, [10,100]).addGrid(rfr.maxDepth, maxDepth) \\\n",
    "    .build()\n",
    "# evaluate model by R2\n",
    "evaluator = RegressionEvaluator(labelCol=\"Price\", predictionCol=\"prediction\", metricName='rmse')\n",
    "\n",
    "pipeline = Pipeline(stages=[assembler, rfr])\n",
    "\n",
    "cv = CrossValidator(estimator=pipeline,evaluator = evaluator,\n",
    "                    estimatorParamMaps = paramGrid_rfr,\n",
    "                    numFolds=3,seed=42)\n",
    "  \n",
    "# fit on TrainDF\n",
    "rfr.setMaxBins(40)\n",
    "\n",
    "Model = cv.fit(trainDF)\n",
    "\n",
    "print(pd.DataFrame(list(zip(Model.getEstimatorParamMaps(), Model.avgMetrics)) ,\n",
    "                     columns=['Regression','RMSE']).sort_values(by=\"RMSE\"))"
   ]
  },
  {
   "cell_type": "markdown",
   "metadata": {
    "id": "VdZaK3t7B4H8"
   },
   "source": [
    "#### Linear Regression"
   ]
  },
  {
   "cell_type": "code",
   "execution_count": 270,
   "metadata": {
    "colab": {
     "base_uri": "https://localhost:8080/"
    },
    "id": "IKQzj2Cw19Wf",
    "outputId": "77956029-9c93-47ee-f47a-8595f36839ee"
   },
   "outputs": [
    {
     "name": "stdout",
     "output_type": "stream",
     "text": [
      "                                          Regression         RMSE\n",
      "2  {LinearRegression_fb4ec743ca6e__regParam: 0.1,...  2237.922623\n",
      "1  {LinearRegression_fb4ec743ca6e__regParam: 0.1,...  2237.966428\n",
      "5  {LinearRegression_fb4ec743ca6e__regParam: 0.01...  2237.985974\n",
      "0  {LinearRegression_fb4ec743ca6e__regParam: 0.1,...  2237.988674\n",
      "3  {LinearRegression_fb4ec743ca6e__regParam: 0.01...  2237.992880\n",
      "4  {LinearRegression_fb4ec743ca6e__regParam: 0.01...  2237.994401\n"
     ]
    }
   ],
   "source": [
    "from pyspark.ml.tuning import CrossValidator\n",
    "from pyspark.ml.tuning import ParamGridBuilder\n",
    "\n",
    "paramGrid_lr = ParamGridBuilder().addGrid(lr.regParam, [0.1, 0.01]).addGrid(lr.elasticNetParam, [0,0.5, 1]).build()\n",
    "# evaluate model by R2\n",
    "evaluator = RegressionEvaluator(labelCol=\"Price\", predictionCol=\"prediction\", metricName='rmse')\n",
    "\n",
    "pipeline = Pipeline(stages=[assembler, lr])\n",
    "\n",
    "cv = CrossValidator(estimator=pipeline,evaluator = evaluator,\n",
    "                    estimatorParamMaps = paramGrid_lr,\n",
    "                    numFolds=3,seed=42)\n",
    "  \n",
    "# fit on TrainDF\n",
    "\n",
    "Model = cv.fit(trainDF)\n",
    "\n",
    "print(pd.DataFrame(list(zip(Model.getEstimatorParamMaps(), Model.avgMetrics)) ,\n",
    "                     columns=['Regression','RMSE']).sort_values(by=\"RMSE\"))"
   ]
  },
  {
   "cell_type": "markdown",
   "metadata": {
    "id": "uFLWcVyDCmos"
   },
   "source": [
    "#### Decision tree"
   ]
  },
  {
   "cell_type": "code",
   "execution_count": null,
   "metadata": {
    "id": "nIesV0OW19Zy"
   },
   "outputs": [],
   "source": [
    "from pyspark.ml.tuning import CrossValidator\n",
    "from pyspark.ml.tuning import ParamGridBuilder\n",
    "\n",
    "paramGrid_dt = (ParamGridBuilder().addGrid(dt.maxDepth, maxDepth).build())\n",
    "# evaluate model by R2\n",
    "evaluator = RegressionEvaluator(labelCol=\"Price\", predictionCol=\"prediction\", metricName='rmse')\n",
    "\n",
    "pipeline = Pipeline(stages=[assembler, dt])\n",
    "\n",
    "cv = CrossValidator(estimator=pipeline,evaluator = evaluator,\n",
    "                    estimatorParamMaps = paramGrid_dt,\n",
    "                    numFolds=3,seed=42)\n",
    "  \n",
    "# fit on TrainDF\n",
    "dt.setMaxBins(40)\n",
    "\n",
    "Model = cv.fit(trainDF)\n",
    "\n",
    "print(pd.DataFrame(list(zip(Model.getEstimatorParamMaps(), Model.avgMetrics)) ,\n",
    "                     columns=['Regression','RMSE']).sort_values(by=\"RMSE\"))"
   ]
  },
  {
   "cell_type": "markdown",
   "metadata": {
    "id": "GAIAtQ5l11Ss"
   },
   "source": [
    "#### Gradient booted tree"
   ]
  },
  {
   "cell_type": "code",
   "execution_count": 271,
   "metadata": {
    "colab": {
     "base_uri": "https://localhost:8080/"
    },
    "id": "pSUZhW_QyPan",
    "outputId": "ad62e4dc-e291-4993-b73e-a18b13374815"
   },
   "outputs": [
    {
     "name": "stdout",
     "output_type": "stream",
     "text": [
      "                                           Regression         RMSE\n",
      "9   {GBTRegressor_624662a8de31__maxDepth: 5, GBTRe...  1606.638731\n",
      "7   {GBTRegressor_624662a8de31__maxDepth: 4, GBTRe...  1634.820657\n",
      "11  {GBTRegressor_624662a8de31__maxDepth: 6, GBTRe...  1653.350762\n",
      "12  {GBTRegressor_624662a8de31__maxDepth: 7, GBTRe...  1686.683652\n",
      "14  {GBTRegressor_624662a8de31__maxDepth: 8, GBTRe...  1690.637921\n",
      "5   {GBTRegressor_624662a8de31__maxDepth: 3, GBTRe...  1702.097169\n",
      "16  {GBTRegressor_624662a8de31__maxDepth: 9, GBTRe...  1714.641154\n",
      "13  {GBTRegressor_624662a8de31__maxDepth: 7, GBTRe...  1738.537146\n",
      "10  {GBTRegressor_624662a8de31__maxDepth: 6, GBTRe...  1747.101901\n",
      "15  {GBTRegressor_624662a8de31__maxDepth: 8, GBTRe...  1843.145196\n",
      "8   {GBTRegressor_624662a8de31__maxDepth: 5, GBTRe...  1858.122398\n",
      "3   {GBTRegressor_624662a8de31__maxDepth: 2, GBTRe...  1870.284275\n",
      "17  {GBTRegressor_624662a8de31__maxDepth: 9, GBTRe...  1924.665851\n",
      "6   {GBTRegressor_624662a8de31__maxDepth: 4, GBTRe...  1941.370436\n",
      "4   {GBTRegressor_624662a8de31__maxDepth: 3, GBTRe...  2062.224352\n",
      "1   {GBTRegressor_624662a8de31__maxDepth: 1, GBTRe...  2121.425684\n",
      "2   {GBTRegressor_624662a8de31__maxDepth: 2, GBTRe...  2261.842781\n",
      "0   {GBTRegressor_624662a8de31__maxDepth: 1, GBTRe...  2471.557200\n"
     ]
    }
   ],
   "source": [
    "from pyspark.ml.tuning import CrossValidator\n",
    "from pyspark.ml.tuning import ParamGridBuilder\n",
    "\n",
    "paramGrid_gbt = (ParamGridBuilder().addGrid(gbt.maxDepth,maxDepth).addGrid(gbt.maxIter, [10, 100]).build())    \n",
    "# evaluate model by R2\n",
    "evaluator = RegressionEvaluator(labelCol=\"Price\", predictionCol=\"prediction\", metricName='rmse')\n",
    "\n",
    "pipeline = Pipeline(stages=[assembler, gbt])\n",
    "\n",
    "cv = CrossValidator(estimator=pipeline,evaluator = evaluator,\n",
    "                    estimatorParamMaps = paramGrid_gbt,\n",
    "                    numFolds=3, seed=42)\n",
    "  \n",
    "# fit on TrainDF\n",
    "gbt.setMaxBins(40)\n",
    "\n",
    "Model = cv.fit(trainDF)\n",
    "\n",
    "print(pd.DataFrame(list(zip(Model.getEstimatorParamMaps(), Model.avgMetrics)) ,\n",
    "                     columns=['Regression','RMSE']).sort_values(by=\"RMSE\"))"
   ]
  },
  {
   "cell_type": "code",
   "execution_count": null,
   "metadata": {
    "id": "uKVogwKJ5b28"
   },
   "outputs": [],
   "source": [
    "bestPipeline = Model.bestModel \n",
    "bestModel = bestPipeline.stages[1]"
   ]
  },
  {
   "cell_type": "code",
   "execution_count": null,
   "metadata": {
    "id": "PZuT4Egt5lXn"
   },
   "outputs": [],
   "source": [
    "print('numTrees - ', bestModel.getNumTrees)\n",
    "print('maxDepth - ', bestModel.getOrDefault('maxDepth'))"
   ]
  },
  {
   "cell_type": "code",
   "execution_count": 272,
   "metadata": {
    "colab": {
     "base_uri": "https://localhost:8080/",
     "height": 308
    },
    "id": "RUvGaCbCYK8m",
    "outputId": "462ef19c-c748-4258-94bd-3c2c1cdbf43b"
   },
   "outputs": [
    {
     "data": {
      "image/png": "[encoded data removed]",
      "text/plain": [
       "<Figure size 432x288 with 1 Axes>"
      ]
     },
     "metadata": {
      "needs_background": "light"
     },
     "output_type": "display_data"
    }
   ],
   "source": [
    "rmse = Model.getEvaluator().evaluate(Model.transform(testDF))\n",
    "Pred = Model.transform(df1)\n",
    "Result = Pred.toPandas()\n",
    "plt.plot(Result.Price, Result.prediction, 'go')\n",
    "plt.xlabel('Price')\n",
    "plt.ylabel('Prediction')\n",
    "plt.suptitle(\"Model Performance RMSE: %f\" % rmse)\n",
    "plt.show()"
   ]
  },
  {
   "cell_type": "code",
   "execution_count": 276,
   "metadata": {
    "colab": {
     "base_uri": "https://localhost:8080/",
     "height": 826
    },
    "id": "_v1xFniHyPmH",
    "outputId": "50b56331-8db7-4455-ad9a-6ce20b7fb27d"
   },
   "outputs": [
    {
     "data": {
      "image/png": "[encoded data removed]",
      "text/plain": [
       "<Figure size 1440x720 with 1 Axes>"
      ]
     },
     "metadata": {
      "needs_background": "light"
     },
     "output_type": "display_data"
    }
   ],
   "source": [
    "bestPipeline = Model.bestModel \n",
    "bestModel = bestPipeline.stages[1]\n",
    "importances = bestModel.featureImportances\n",
    "x_values = list(range(len(importances)))\n",
    "plt.figure(figsize=(20,10));\n",
    "plt.bar(x_values, importances, orientation = 'vertical')\n",
    "feature_list = ['Total_Stops', 'Route_1_Label', 'Route_2_Label', 'Route_3_Label', 'Route_4_Label', \n",
    "                                       'Route_5_Label','Air India_Airline','GoAir_Airline','IndiGo_Airline','Jet Airways_Airline','Jet Airways Business_Airline','Multiple carriers_Airline',\n",
    "                    'Multiple carriers Premium economy_Airline','SpiceJet_Airline','Trujet_Airline','Vistara_Airline','Vistara Premium economy_Airline','Kolkata_Des','Delhi_Des',\n",
    "                                       'Cochin_Des','New Delhi_Des','Hyderabad_Des','Chennai_Sour','Mumbai_Sour','Kolkata_Sour',\n",
    "                                       'Delhi_Sour', 'Journey_Day', 'Journey_Month', 'Dep_Hour',\n",
    "                                       'Dep_Minute', 'Arrival_Hour', 'Arrival_Minute',\n",
    "                                       'Duration_Hour', 'Duration_Minute']\n",
    "plt.xticks(x_values, feature_list, rotation=90)\n",
    "plt.ylabel('Importance')\n",
    "plt.xlabel('Feature')\n",
    "plt.title('Feature Importances');"
   ]
  },
  {
   "cell_type": "code",
   "execution_count": 277,
   "metadata": {
    "id": "S3DseJ9alei6"
   },
   "outputs": [],
   "source": [
    "featuresDF = pd.DataFrame(list(zip(assembler.getInputCols(), bestModel.featureImportances)), \n",
    "                          columns=[\"feature\", \"importance\"])"
   ]
  },
  {
   "cell_type": "code",
   "execution_count": 278,
   "metadata": {
    "colab": {
     "base_uri": "https://localhost:8080/",
     "height": 1000
    },
    "id": "GkEg-S0oloiO",
    "outputId": "57a18c7e-75c9-4f5a-c04f-ea9cc6f25d53"
   },
   "outputs": [
    {
     "data": {
      "text/html": [
       "\n",
       "  <div id=\"df-b276e68b-1de7-4dcc-8fc2-9a5850c475bb\">\n",
       "    <div class=\"colab-df-container\">\n",
       "      <div>\n",
       "<style scoped>\n",
       "    .dataframe tbody tr th:only-of-type {\n",
       "        vertical-align: middle;\n",
       "    }\n",
       "\n",
       "    .dataframe tbody tr th {\n",
       "        vertical-align: top;\n",
       "    }\n",
       "\n",
       "    .dataframe thead th {\n",
       "        text-align: right;\n",
       "    }\n",
       "</style>\n",
       "<table border=\"1\" class=\"dataframe\">\n",
       "  <thead>\n",
       "    <tr style=\"text-align: right;\">\n",
       "      <th></th>\n",
       "      <th>feature</th>\n",
       "      <th>importance</th>\n",
       "    </tr>\n",
       "  </thead>\n",
       "  <tbody>\n",
       "    <tr>\n",
       "      <th>32</th>\n",
       "      <td>Duration_Hour</td>\n",
       "      <td>0.245028</td>\n",
       "    </tr>\n",
       "    <tr>\n",
       "      <th>27</th>\n",
       "      <td>Journey_Month</td>\n",
       "      <td>0.135775</td>\n",
       "    </tr>\n",
       "    <tr>\n",
       "      <th>2</th>\n",
       "      <td>Route_2_Label</td>\n",
       "      <td>0.105871</td>\n",
       "    </tr>\n",
       "    <tr>\n",
       "      <th>26</th>\n",
       "      <td>Journey_Day</td>\n",
       "      <td>0.088709</td>\n",
       "    </tr>\n",
       "    <tr>\n",
       "      <th>28</th>\n",
       "      <td>Dep_Hour</td>\n",
       "      <td>0.044693</td>\n",
       "    </tr>\n",
       "    <tr>\n",
       "      <th>9</th>\n",
       "      <td>Jet Airways_Airline</td>\n",
       "      <td>0.038945</td>\n",
       "    </tr>\n",
       "    <tr>\n",
       "      <th>29</th>\n",
       "      <td>Dep_Minute</td>\n",
       "      <td>0.037572</td>\n",
       "    </tr>\n",
       "    <tr>\n",
       "      <th>30</th>\n",
       "      <td>Arrival_Hour</td>\n",
       "      <td>0.034867</td>\n",
       "    </tr>\n",
       "    <tr>\n",
       "      <th>1</th>\n",
       "      <td>Route_1_Label</td>\n",
       "      <td>0.033237</td>\n",
       "    </tr>\n",
       "    <tr>\n",
       "      <th>11</th>\n",
       "      <td>Multiple carriers_Airline</td>\n",
       "      <td>0.033210</td>\n",
       "    </tr>\n",
       "    <tr>\n",
       "      <th>3</th>\n",
       "      <td>Route_3_Label</td>\n",
       "      <td>0.032021</td>\n",
       "    </tr>\n",
       "    <tr>\n",
       "      <th>31</th>\n",
       "      <td>Arrival_Minute</td>\n",
       "      <td>0.022481</td>\n",
       "    </tr>\n",
       "    <tr>\n",
       "      <th>33</th>\n",
       "      <td>Duration_Minute</td>\n",
       "      <td>0.020533</td>\n",
       "    </tr>\n",
       "    <tr>\n",
       "      <th>24</th>\n",
       "      <td>Kolkata_Sour</td>\n",
       "      <td>0.020377</td>\n",
       "    </tr>\n",
       "    <tr>\n",
       "      <th>6</th>\n",
       "      <td>Air India_Airline</td>\n",
       "      <td>0.019769</td>\n",
       "    </tr>\n",
       "    <tr>\n",
       "      <th>15</th>\n",
       "      <td>Vistara_Airline</td>\n",
       "      <td>0.018613</td>\n",
       "    </tr>\n",
       "    <tr>\n",
       "      <th>0</th>\n",
       "      <td>Total_Stops</td>\n",
       "      <td>0.018255</td>\n",
       "    </tr>\n",
       "    <tr>\n",
       "      <th>20</th>\n",
       "      <td>New Delhi_Des</td>\n",
       "      <td>0.013369</td>\n",
       "    </tr>\n",
       "    <tr>\n",
       "      <th>8</th>\n",
       "      <td>IndiGo_Airline</td>\n",
       "      <td>0.012314</td>\n",
       "    </tr>\n",
       "    <tr>\n",
       "      <th>21</th>\n",
       "      <td>Hyderabad_Des</td>\n",
       "      <td>0.005742</td>\n",
       "    </tr>\n",
       "    <tr>\n",
       "      <th>19</th>\n",
       "      <td>Cochin_Des</td>\n",
       "      <td>0.004757</td>\n",
       "    </tr>\n",
       "    <tr>\n",
       "      <th>12</th>\n",
       "      <td>Multiple carriers Premium economy_Airline</td>\n",
       "      <td>0.003042</td>\n",
       "    </tr>\n",
       "    <tr>\n",
       "      <th>17</th>\n",
       "      <td>Kolkata_Des</td>\n",
       "      <td>0.002690</td>\n",
       "    </tr>\n",
       "    <tr>\n",
       "      <th>4</th>\n",
       "      <td>Route_4_Label</td>\n",
       "      <td>0.002495</td>\n",
       "    </tr>\n",
       "    <tr>\n",
       "      <th>13</th>\n",
       "      <td>SpiceJet_Airline</td>\n",
       "      <td>0.001908</td>\n",
       "    </tr>\n",
       "    <tr>\n",
       "      <th>7</th>\n",
       "      <td>GoAir_Airline</td>\n",
       "      <td>0.001671</td>\n",
       "    </tr>\n",
       "    <tr>\n",
       "      <th>18</th>\n",
       "      <td>Delhi_Des</td>\n",
       "      <td>0.000895</td>\n",
       "    </tr>\n",
       "    <tr>\n",
       "      <th>14</th>\n",
       "      <td>Trujet_Airline</td>\n",
       "      <td>0.000680</td>\n",
       "    </tr>\n",
       "    <tr>\n",
       "      <th>16</th>\n",
       "      <td>Vistara Premium economy_Airline</td>\n",
       "      <td>0.000299</td>\n",
       "    </tr>\n",
       "    <tr>\n",
       "      <th>5</th>\n",
       "      <td>Route_5_Label</td>\n",
       "      <td>0.000182</td>\n",
       "    </tr>\n",
       "    <tr>\n",
       "      <th>10</th>\n",
       "      <td>Jet Airways Business_Airline</td>\n",
       "      <td>0.000000</td>\n",
       "    </tr>\n",
       "    <tr>\n",
       "      <th>23</th>\n",
       "      <td>Mumbai_Sour</td>\n",
       "      <td>0.000000</td>\n",
       "    </tr>\n",
       "    <tr>\n",
       "      <th>22</th>\n",
       "      <td>Chennai_Sour</td>\n",
       "      <td>0.000000</td>\n",
       "    </tr>\n",
       "    <tr>\n",
       "      <th>25</th>\n",
       "      <td>Delhi_Sour</td>\n",
       "      <td>0.000000</td>\n",
       "    </tr>\n",
       "  </tbody>\n",
       "</table>\n",
       "</div>\n",
       "      <button class=\"colab-df-convert\" onclick=\"convertToInteractive('df-b276e68b-1de7-4dcc-8fc2-9a5850c475bb')\"\n",
       "              title=\"Convert this dataframe to an interactive table.\"\n",
       "              style=\"display:none;\">\n",
       "        \n",
       "  <svg xmlns=\"http://www.w3.org/2000/svg\" height=\"24px\"viewBox=\"0 0 24 24\"\n",
       "       width=\"24px\">\n",
       "    <path d=\"M0 0h24v24H0V0z\" fill=\"none\"/>\n",
       "    <path d=\"M18.56 5.44l.94 2.06.94-2.06 2.06-.94-2.06-.94-.94-2.06-.94 2.06-2.06.94zm-11 1L8.5 8.5l.94-2.06 2.06-.94-2.06-.94L8.5 2.5l-.94 2.06-2.06.94zm10 10l.94 2.06.94-2.06 2.06-.94-2.06-.94-.94-2.06-.94 2.06-2.06.94z\"/><path d=\"M17.41 7.96l-1.37-1.37c-.4-.4-.92-.59-1.43-.59-.52 0-1.04.2-1.43.59L10.3 9.45l-7.72 7.72c-.78.78-.78 2.05 0 2.83L4 21.41c.39.39.9.59 1.41.59.51 0 1.02-.2 1.41-.59l7.78-7.78 2.81-2.81c.8-.78.8-2.07 0-2.86zM5.41 20L4 18.59l7.72-7.72 1.47 1.35L5.41 20z\"/>\n",
       "  </svg>\n",
       "      </button>\n",
       "      \n",
       "  <style>\n",
       "    .colab-df-container {\n",
       "      display:flex;\n",
       "      flex-wrap:wrap;\n",
       "      gap: 12px;\n",
       "    }\n",
       "\n",
       "    .colab-df-convert {\n",
       "      background-color: #E8F0FE;\n",
       "      border: none;\n",
       "      border-radius: 50%;\n",
       "      cursor: pointer;\n",
       "      display: none;\n",
       "      fill: #1967D2;\n",
       "      height: 32px;\n",
       "      padding: 0 0 0 0;\n",
       "      width: 32px;\n",
       "    }\n",
       "\n",
       "    .colab-df-convert:hover {\n",
       "      background-color: #E2EBFA;\n",
       "      box-shadow: 0px 1px 2px rgba(60, 64, 67, 0.3), 0px 1px 3px 1px rgba(60, 64, 67, 0.15);\n",
       "      fill: #174EA6;\n",
       "    }\n",
       "\n",
       "    [theme=dark] .colab-df-convert {\n",
       "      background-color: #3B4455;\n",
       "      fill: #D2E3FC;\n",
       "    }\n",
       "\n",
       "    [theme=dark] .colab-df-convert:hover {\n",
       "      background-color: #434B5C;\n",
       "      box-shadow: 0px 1px 3px 1px rgba(0, 0, 0, 0.15);\n",
       "      filter: drop-shadow(0px 1px 2px rgba(0, 0, 0, 0.3));\n",
       "      fill: #FFFFFF;\n",
       "    }\n",
       "  </style>\n",
       "\n",
       "      <script>\n",
       "        const buttonEl =\n",
       "          document.querySelector('#df-b276e68b-1de7-4dcc-8fc2-9a5850c475bb button.colab-df-convert');\n",
       "        buttonEl.style.display =\n",
       "          google.colab.kernel.accessAllowed ? 'block' : 'none';\n",
       "\n",
       "        async function convertToInteractive(key) {\n",
       "          const element = document.querySelector('#df-b276e68b-1de7-4dcc-8fc2-9a5850c475bb');\n",
       "          const dataTable =\n",
       "            await google.colab.kernel.invokeFunction('convertToInteractive',\n",
       "                                                     [key], {});\n",
       "          if (!dataTable) return;\n",
       "\n",
       "          const docLinkHtml = 'Like what you see? Visit the ' +\n",
       "            '<a target=\"_blank\" href=https://colab.research.google.com/notebooks/data_table.ipynb>data table notebook</a>'\n",
       "            + ' to learn more about interactive tables.';\n",
       "          element.innerHTML = '';\n",
       "          dataTable['output_type'] = 'display_data';\n",
       "          await google.colab.output.renderOutput(dataTable, element);\n",
       "          const docLink = document.createElement('div');\n",
       "          docLink.innerHTML = docLinkHtml;\n",
       "          element.appendChild(docLink);\n",
       "        }\n",
       "      </script>\n",
       "    </div>\n",
       "  </div>\n",
       "  "
      ],
      "text/plain": [
       "                                      feature  importance\n",
       "32                              Duration_Hour    0.245028\n",
       "27                              Journey_Month    0.135775\n",
       "2                               Route_2_Label    0.105871\n",
       "26                                Journey_Day    0.088709\n",
       "28                                   Dep_Hour    0.044693\n",
       "9                         Jet Airways_Airline    0.038945\n",
       "29                                 Dep_Minute    0.037572\n",
       "30                               Arrival_Hour    0.034867\n",
       "1                               Route_1_Label    0.033237\n",
       "11                  Multiple carriers_Airline    0.033210\n",
       "3                               Route_3_Label    0.032021\n",
       "31                             Arrival_Minute    0.022481\n",
       "33                            Duration_Minute    0.020533\n",
       "24                               Kolkata_Sour    0.020377\n",
       "6                           Air India_Airline    0.019769\n",
       "15                            Vistara_Airline    0.018613\n",
       "0                                 Total_Stops    0.018255\n",
       "20                              New Delhi_Des    0.013369\n",
       "8                              IndiGo_Airline    0.012314\n",
       "21                              Hyderabad_Des    0.005742\n",
       "19                                 Cochin_Des    0.004757\n",
       "12  Multiple carriers Premium economy_Airline    0.003042\n",
       "17                                Kolkata_Des    0.002690\n",
       "4                               Route_4_Label    0.002495\n",
       "13                           SpiceJet_Airline    0.001908\n",
       "7                               GoAir_Airline    0.001671\n",
       "18                                  Delhi_Des    0.000895\n",
       "14                             Trujet_Airline    0.000680\n",
       "16            Vistara Premium economy_Airline    0.000299\n",
       "5                               Route_5_Label    0.000182\n",
       "10               Jet Airways Business_Airline    0.000000\n",
       "23                                Mumbai_Sour    0.000000\n",
       "22                               Chennai_Sour    0.000000\n",
       "25                                 Delhi_Sour    0.000000"
      ]
     },
     "execution_count": 278,
     "metadata": {},
     "output_type": "execute_result"
    }
   ],
   "source": [
    "featuresDF.sort_values([\"importance\"], ascending=False)"
   ]
  },
  {
   "cell_type": "code",
   "execution_count": 279,
   "metadata": {
    "colab": {
     "base_uri": "https://localhost:8080/"
    },
    "id": "dKARKgNhwWkl",
    "outputId": "9257b236-f49c-4b12-da76-87a11ffbfdfa"
   },
   "outputs": [
    {
     "name": "stdout",
     "output_type": "stream",
     "text": [
      "+------------------+-----+--------------------+\n",
      "|        prediction|Price|            features|\n",
      "+------------------+-----+--------------------+\n",
      "|5081.5827068356875| 3897|(34,[1,2,8,20,26,...|\n",
      "| 7408.339927355838| 7662|(34,[0,1,2,3,4,6,...|\n",
      "|14206.451917897164|13882|(34,[0,2,3,4,9,19...|\n",
      "|  6539.37226546394| 6218|(34,[0,1,2,3,8,24...|\n",
      "|14635.433592938374|13302|(34,[0,1,2,3,8,20...|\n",
      "| 4297.642443409615| 3873|(34,[1,2,13,24,26...|\n",
      "|12207.982643697911|11087|(34,[0,1,3,9,20,2...|\n",
      "| 20685.15098087326|22270|(34,[0,1,3,9,20,2...|\n",
      "|11258.070049693753|11087|(34,[0,1,3,9,20,2...|\n",
      "|  9167.78750893983| 8625|(34,[0,3,11,19,25...|\n",
      "+------------------+-----+--------------------+\n",
      "only showing top 10 rows\n",
      "\n"
     ]
    }
   ],
   "source": [
    "Pred.select(\"prediction\",\"Price\", \"features\").show(10)"
   ]
  }
 ],
 "metadata": {
  "accelerator": "GPU",
  "colab": {
   "collapsed_sections": [],
   "name": "Project_Pyspark_WithMLlib_Finish.ipynb",
   "provenance": []
  },
  "gpuClass": "standard",
  "kernelspec": {
   "display_name": "Python 3",
   "language": "python",
   "name": "python3"
  },
  "language_info": {
   "codemirror_mode": {
    "name": "ipython",
    "version": 3
   },
   "file_extension": ".py",
   "mimetype": "text/x-python",
   "name": "python",
   "nbconvert_exporter": "python",
   "pygments_lexer": "ipython3",
   "version": "3.6.8"
  }
 },
 "nbformat": 4,
 "nbformat_minor": 1
}
